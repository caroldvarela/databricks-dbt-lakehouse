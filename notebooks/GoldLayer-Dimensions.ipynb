{
 "cells": [
  {
   "cell_type": "code",
   "execution_count": 0,
   "metadata": {
    "application/vnd.databricks.v1+cell": {
     "cellMetadata": {
      "byteLimit": 2048000,
      "rowLimit": 10000
     },
     "inputWidgets": {},
     "nuid": "da1262aa-0cd4-4e11-9b9d-3a5c43cd47d6",
     "showTitle": false,
     "tableResultSettingsMap": {},
     "title": ""
    }
   },
   "outputs": [],
   "source": [
    "# spark.sql(\"\"\"\n",
    "# INSERT INTO workspace.silver.silver_products\n",
    "# (product_sk, product_id, product_name, category, brand, origin_location, modified_date)\n",
    "# VALUES\n",
    "#  (220, 'PROD_00220', 'Sports Bottle', 'Sports & Outdoors', 'Reebok', 'Denver', current_timestamp())\n",
    "# \"\"\")"
   ]
  },
  {
   "cell_type": "markdown",
   "metadata": {
    "application/vnd.databricks.v1+cell": {
     "cellMetadata": {
      "byteLimit": 2048000,
      "rowLimit": 10000
     },
     "inputWidgets": {},
     "nuid": "3c9a1356-0f51-4ac7-9e1e-24dbec4e1c40",
     "showTitle": false,
     "tableResultSettingsMap": {},
     "title": ""
    }
   },
   "source": [
    "# 🥇 Incremental Dimension Load (SCD) with PySpark and Delta Lake\n",
    "\n",
    "## Objective\n",
    "This notebook implements an **incremental load** process to keep the dimensional tables in the `gold` schema up to date, based on the data from the tables in the `silver` schema.  \n",
    "\n",
    "The flow is designed following the **Slowly Changing Dimension** (SCD) pattern, updating only the records that have changed since the last load and adding new ones, thus optimizing performance and reducing unnecessary processing.\n",
    "\n",
    "---\n"
   ]
  },
  {
   "cell_type": "code",
   "execution_count": 0,
   "metadata": {
    "application/vnd.databricks.v1+cell": {
     "cellMetadata": {
      "byteLimit": 2048000,
      "rowLimit": 10000
     },
     "inputWidgets": {},
     "nuid": "f17e58e5-6d68-4e62-b47d-e7a6562a8a82",
     "showTitle": false,
     "tableResultSettingsMap": {},
     "title": ""
    }
   },
   "outputs": [],
   "source": [
    "from pyspark.sql.functions import *\n",
    "from pyspark.sql.types import *"
   ]
  },
  {
   "cell_type": "markdown",
   "metadata": {
    "application/vnd.databricks.v1+cell": {
     "cellMetadata": {
      "byteLimit": 2048000,
      "rowLimit": 10000
     },
     "inputWidgets": {},
     "nuid": "b2c7b8b8-b380-42b7-b221-132157a1e081",
     "showTitle": false,
     "tableResultSettingsMap": {},
     "title": ""
    }
   },
   "source": [
    "### Process Parameters Configuration\n",
    "\n",
    "The configuration variables necessary for the incremental load process are defined.  \n",
    "Each parameter determines how and from where the data will be read, as well as where it will be written to the target.\n",
    "\n",
    "- **`catalog`**  \n",
    "  - Working catalog where the tables are registered.  \n",
    "  - Allows fully qualifying tables using the form `catalog.schema.table`.\n",
    "\n",
    "- **`key_cols_list`**  \n",
    "  - List of **natural key columns** that uniquely identify a record in the dimension.  \n",
    "\n",
    "- **`cdc_col`** (*Change Data Capture column*)  \n",
    "  - Column used as a **change control** (*Change Data Capture*).  \n",
    "  - Indicates the date and time of the last modification of each record, and is used to filter only new or updated data.  \n",
    "\n",
    "- **`backdate_refresh`**  \n",
    "  - Optional field to force a reload from a specific date.  \n",
    "  - If empty (`\"\"`), the last load date detected in the target will be used.  \n",
    "  - If a date is provided (`\"YYYY-MM-DD HH:MM:SS\"`), it will be used as the starting point to reload data.\n",
    "\n",
    "- **`source_object`**  \n",
    "  - Name of the source table in the `silver` schema containing the data.  \n",
    "\n",
    "- **`source_schema`**  \n",
    "  - Name of the schema where the source table resides (`silver`).  \n",
    "\n",
    "- **`target_schema`**  \n",
    "  - Name of the schema where the dimension will be stored (`gold`).  \n",
    "\n",
    "- **`target_object`**  \n",
    "  - Name of the target table that will hold the dimension.  \n",
    "\n",
    "- **`surrogate_key`**  \n",
    "  - Name of the **surrogate key** column used in the dimension to assign a unique internal identifier.  \n"
   ]
  },
  {
   "cell_type": "code",
   "execution_count": 0,
   "metadata": {
    "application/vnd.databricks.v1+cell": {
     "cellMetadata": {
      "byteLimit": 2048000,
      "rowLimit": 10000
     },
     "inputWidgets": {},
     "nuid": "e946ed82-41b0-4ffd-9ad2-89b8a6c100c3",
     "showTitle": false,
     "tableResultSettingsMap": {},
     "title": ""
    }
   },
   "outputs": [],
   "source": [
    "catalog = \"workspace\"\n",
    "key_cols = \"['product_id']\"\n",
    "key_cols_list = eval(key_cols)\n",
    "cdc_col  = \"modified_date\"\n",
    "backdate_refresh = \"\"\n",
    "source_object = \"silver_products\"\n",
    "source_schema = \"silver\"\n",
    "target_schema = \"gold\"\n",
    "target_object = \"DimProducts\"\n",
    "surrogate_key = \"product_sk\""
   ]
  },
  {
   "cell_type": "code",
   "execution_count": 0,
   "metadata": {
    "application/vnd.databricks.v1+cell": {
     "cellMetadata": {
      "byteLimit": 2048000,
      "rowLimit": 10000
     },
     "inputWidgets": {},
     "nuid": "f00ba35c-c66c-4cc6-b46a-ad9bb22214ef",
     "showTitle": false,
     "tableResultSettingsMap": {},
     "title": ""
    }
   },
   "outputs": [],
   "source": [
    "# import json\n",
    "\n",
    "# raw_input = dbutils.widgets.get(\"input\")\n",
    "# dim = json.loads(raw_input)\n",
    "\n",
    "# catalog = dim[\"catalog\"]\n",
    "# key_cols_list = dim[\"key_cols_list\"]\n",
    "# cdc_col = dim[\"cdc_col\"]\n",
    "# backdate_refresh = dim[\"backdate_refresh\"]\n",
    "# source_object = dim[\"source_object\"]\n",
    "# source_schema = dim[\"source_schema\"]\n",
    "# target_schema = dim[\"target_schema\"]\n",
    "# target_object = dim[\"target_object\"]\n",
    "# surrogate_key = dim[\"surrogate_key\"]"
   ]
  },
  {
   "cell_type": "markdown",
   "metadata": {
    "application/vnd.databricks.v1+cell": {
     "cellMetadata": {
      "byteLimit": 2048000,
      "rowLimit": 10000
     },
     "inputWidgets": {},
     "nuid": "25439ce7-64ca-4d4a-88dd-51e38a7673e5",
     "showTitle": false,
     "tableResultSettingsMap": {},
     "title": ""
    }
   },
   "source": [
    "`last_load` is calculated, which is the date from which changes will be read:\n",
    "\n",
    "- If `backdate_refresh` is empty:\n",
    "  - If the target table exists → takes the maximum value of `modified_date`.\n",
    "  - If it does not exist → uses `\"1900-01-01 00:00:00\"` to force a full load.\n",
    "- If `backdate_refresh` has a value → that date is used directly.\n",
    "\n",
    "This controls whether the load will be **incremental** or **forced**.\n"
   ]
  },
  {
   "cell_type": "code",
   "execution_count": 0,
   "metadata": {
    "application/vnd.databricks.v1+cell": {
     "cellMetadata": {
      "byteLimit": 2048000,
      "rowLimit": 10000
     },
     "inputWidgets": {},
     "nuid": "4a8ff6db-48e4-4a79-a6f8-d20257ef0219",
     "showTitle": false,
     "tableResultSettingsMap": {},
     "title": ""
    }
   },
   "outputs": [],
   "source": [
    "if len(backdate_refresh) == 0:\n",
    "    if spark.catalog.tableExists(f\"{target_schema}.{target_object}\"):\n",
    "        last_load = spark.sql(f\"select max({cdc_col}) from workspace.{target_schema}.{target_object}\").collect()[0][0]\n",
    "    else:\n",
    "        last_load = \"1900-01-01 00:00:00\"\n",
    "else:\n",
    "    last_load = backdate_refresh"
   ]
  },
  {
   "cell_type": "code",
   "execution_count": 0,
   "metadata": {
    "application/vnd.databricks.v1+cell": {
     "cellMetadata": {
      "byteLimit": 2048000,
      "rowLimit": 10000
     },
     "inputWidgets": {},
     "nuid": "3a3071ae-8aa6-4fec-bc5a-977326f12bde",
     "showTitle": false,
     "tableResultSettingsMap": {},
     "title": ""
    }
   },
   "outputs": [
    {
     "data": {
      "text/plain": [
       "datetime.datetime(2025, 8, 19, 18, 16, 31, 107000)"
      ]
     },
     "execution_count": 8,
     "metadata": {},
     "output_type": "execute_result"
    }
   ],
   "source": [
    "last_load"
   ]
  },
  {
   "cell_type": "markdown",
   "metadata": {
    "application/vnd.databricks.v1+cell": {
     "cellMetadata": {
      "byteLimit": 2048000,
      "rowLimit": 10000
     },
     "inputWidgets": {},
     "nuid": "e29cfcbe-8403-4b22-a6f0-58769b88aa10",
     "showTitle": false,
     "tableResultSettingsMap": {},
     "title": ""
    }
   },
   "source": [
    "The source table in the `silver` schema is queried,  \n",
    "filtering only the records whose `modified_date` is greater than `last_load`.  \n",
    "\n",
    "The result (`df_src`) represents **only the new or modified data** since the last load,  \n",
    "and is displayed on screen for validation.\n"
   ]
  },
  {
   "cell_type": "code",
   "execution_count": 0,
   "metadata": {
    "application/vnd.databricks.v1+cell": {
     "cellMetadata": {
      "byteLimit": 2048000,
      "rowLimit": 10000
     },
     "inputWidgets": {},
     "nuid": "f10857ca-a11c-4b5c-9538-0295fdedc604",
     "showTitle": false,
     "tableResultSettingsMap": {
      "0": {
       "dataGridStateBlob": "{\"version\":1,\"tableState\":{\"columnPinning\":{\"left\":[\"#row_number#\"],\"right\":[]},\"columnSizing\":{},\"columnVisibility\":{}},\"settings\":{\"columns\":{}},\"syncTimestamp\":1754944792479}",
       "filterBlob": null,
       "queryPlanFiltersBlob": null,
       "tableResultIndex": 0
      }
     },
     "title": ""
    }
   },
   "outputs": [
    {
     "data": {
      "text/html": [
       "<style scoped>\n",
       "  .table-result-container {\n",
       "    max-height: 300px;\n",
       "    overflow: auto;\n",
       "  }\n",
       "  table, th, td {\n",
       "    border: 1px solid black;\n",
       "    border-collapse: collapse;\n",
       "  }\n",
       "  th, td {\n",
       "    padding: 5px;\n",
       "  }\n",
       "  th {\n",
       "    text-align: left;\n",
       "  }\n",
       "</style><div class='table-result-container'><table class='table-result'><thead style='background-color: white'><tr><th>product_sk</th><th>product_id</th><th>product_name</th><th>category</th><th>brand</th><th>origin_location</th><th>modified_date</th></tr></thead><tbody><tr><td>214</td><td>PROD_00215</td><td>Golf Clubs Set</td><td>Sports & Outdoors</td><td>Callaway</td><td>Phoenix</td><td>2025-08-19T21:02:10.523Z</td></tr><tr><td>208</td><td>PROD_00208</td><td>Training Pants</td><td>Sports & Outdoors</td><td>Reebok</td><td>San Francisco</td><td>2025-08-19T21:02:10.523Z</td></tr><tr><td>78</td><td>PROD_00078</td><td>Ultraboost 22</td><td>Clothing</td><td>Adidas</td><td>San Francisco</td><td>2025-08-19T21:02:10.523Z</td></tr><tr><td>212</td><td>PROD_00212</td><td>Cycling Helmet</td><td>Sports & Outdoors</td><td>Giro</td><td>Denver</td><td>2025-08-19T21:02:10.523Z</td></tr><tr><td>3</td><td>PROD_00003</td><td>PlayStation 5</td><td>Electronics</td><td>Sony</td><td>San Francisco</td><td>2025-08-19T21:02:10.523Z</td></tr><tr><td>211</td><td>PROD_00211</td><td>Boxing Gloves</td><td>Sports & Outdoors</td><td>Everlast</td><td>Chicago</td><td>2025-08-19T21:02:10.523Z</td></tr><tr><td>10</td><td>PROD_00010</td><td>QLED 4K TV</td><td>Electronics</td><td>Samsung</td><td>San Francisco</td><td>2025-08-19T21:02:10.523Z</td></tr><tr><td>213</td><td>PROD_00213</td><td>Climbing Rope</td><td>Sports & Outdoors</td><td>Black Diamond</td><td>Boulder</td><td>2025-08-19T21:02:10.523Z</td></tr><tr><td>216</td><td>PROD_00217</td><td>Skateboard</td><td>Sports & Outdoors</td><td>Element</td><td>Santa Cruz</td><td>2025-08-19T21:02:10.523Z</td></tr><tr><td>215</td><td>PROD_00216</td><td>Hiking Boots</td><td>Sports & Outdoors</td><td>Merrell</td><td>Portland</td><td>2025-08-19T21:02:10.523Z</td></tr><tr><td>186</td><td>PROD_00186</td><td>Yoga Mat</td><td>Sports & Outdoors</td><td>Nike</td><td>San Francisco</td><td>2025-08-19T21:02:10.523Z</td></tr></tbody></table></div>"
      ]
     },
     "metadata": {
      "application/vnd.databricks.v1+output": {
       "addedWidgets": {},
       "aggData": [],
       "aggError": "",
       "aggOverflow": false,
       "aggSchema": [],
       "aggSeriesLimitReached": false,
       "aggType": "",
       "arguments": {},
       "columnCustomDisplayInfos": {},
       "data": [
        [
         214,
         "PROD_00215",
         "Golf Clubs Set",
         "Sports & Outdoors",
         "Callaway",
         "Phoenix",
         "2025-08-19T21:02:10.523Z"
        ],
        [
         208,
         "PROD_00208",
         "Training Pants",
         "Sports & Outdoors",
         "Reebok",
         "San Francisco",
         "2025-08-19T21:02:10.523Z"
        ],
        [
         78,
         "PROD_00078",
         "Ultraboost 22",
         "Clothing",
         "Adidas",
         "San Francisco",
         "2025-08-19T21:02:10.523Z"
        ],
        [
         212,
         "PROD_00212",
         "Cycling Helmet",
         "Sports & Outdoors",
         "Giro",
         "Denver",
         "2025-08-19T21:02:10.523Z"
        ],
        [
         3,
         "PROD_00003",
         "PlayStation 5",
         "Electronics",
         "Sony",
         "San Francisco",
         "2025-08-19T21:02:10.523Z"
        ],
        [
         211,
         "PROD_00211",
         "Boxing Gloves",
         "Sports & Outdoors",
         "Everlast",
         "Chicago",
         "2025-08-19T21:02:10.523Z"
        ],
        [
         10,
         "PROD_00010",
         "QLED 4K TV",
         "Electronics",
         "Samsung",
         "San Francisco",
         "2025-08-19T21:02:10.523Z"
        ],
        [
         213,
         "PROD_00213",
         "Climbing Rope",
         "Sports & Outdoors",
         "Black Diamond",
         "Boulder",
         "2025-08-19T21:02:10.523Z"
        ],
        [
         216,
         "PROD_00217",
         "Skateboard",
         "Sports & Outdoors",
         "Element",
         "Santa Cruz",
         "2025-08-19T21:02:10.523Z"
        ],
        [
         215,
         "PROD_00216",
         "Hiking Boots",
         "Sports & Outdoors",
         "Merrell",
         "Portland",
         "2025-08-19T21:02:10.523Z"
        ],
        [
         186,
         "PROD_00186",
         "Yoga Mat",
         "Sports & Outdoors",
         "Nike",
         "San Francisco",
         "2025-08-19T21:02:10.523Z"
        ]
       ],
       "datasetInfos": [],
       "dbfsResultPath": null,
       "isJsonSchema": true,
       "metadata": {},
       "overflow": false,
       "plotOptions": {
        "customPlotOptions": {},
        "displayType": "table",
        "pivotAggregation": null,
        "pivotColumns": null,
        "xColumns": null,
        "yColumns": null
       },
       "removedWidgets": [],
       "schema": [
        {
         "metadata": "{}",
         "name": "product_sk",
         "type": "\"integer\""
        },
        {
         "metadata": "{}",
         "name": "product_id",
         "type": "\"string\""
        },
        {
         "metadata": "{}",
         "name": "product_name",
         "type": "\"string\""
        },
        {
         "metadata": "{}",
         "name": "category",
         "type": "\"string\""
        },
        {
         "metadata": "{}",
         "name": "brand",
         "type": "\"string\""
        },
        {
         "metadata": "{}",
         "name": "origin_location",
         "type": "\"string\""
        },
        {
         "metadata": "{}",
         "name": "modified_date",
         "type": "\"timestamp\""
        }
       ],
       "type": "table"
      }
     },
     "output_type": "display_data"
    }
   ],
   "source": [
    "df_src = spark.sql(f\"SELECT * FROM {catalog}.{source_schema}.{source_object} WHERE {cdc_col} > '{last_load}'\")\n",
    "\n",
    "df_src.display()\n"
   ]
  },
  {
   "cell_type": "markdown",
   "metadata": {
    "application/vnd.databricks.v1+cell": {
     "cellMetadata": {
      "byteLimit": 2048000,
      "rowLimit": 10000
     },
     "inputWidgets": {},
     "nuid": "0cdf7b3a-ad81-47b8-a248-33340f275796",
     "showTitle": false,
     "tableResultSettingsMap": {},
     "title": ""
    }
   },
   "source": [
    "\n",
    "The current dimension data is loaded into `df_target`:\n",
    "\n",
    "- **If the target table exists**  \n",
    "  → The natural key columns, surrogate key, and creation/update dates are selected.\n",
    "\n",
    "- **If it does not exist**  \n",
    "  → An empty DataFrame is created with the same structure (empty keys, surrogate key set to `0`, initial dates `\"1900-01-01\"`).  \n",
    "  This allows the flow to work even on the **first load**.\n"
   ]
  },
  {
   "cell_type": "code",
   "execution_count": 0,
   "metadata": {
    "application/vnd.databricks.v1+cell": {
     "cellMetadata": {
      "byteLimit": 2048000,
      "rowLimit": 10000
     },
     "inputWidgets": {},
     "nuid": "9a8e26f8-7838-4f91-990c-aa79d5fc703e",
     "showTitle": false,
     "tableResultSettingsMap": {},
     "title": ""
    }
   },
   "outputs": [],
   "source": [
    "if spark.catalog.tableExists(f\"{catalog}.{target_schema}.{target_object}\"):\n",
    "    key_cols_string_incremental = \", \".join(key_cols_list)\n",
    "    df_target = spark.sql(f\"SELECT {key_cols_string_incremental}, {surrogate_key}, create_date, update_date FROM {catalog}.{target_schema}.{target_object}\")\n",
    "else:\n",
    "    key_cols_string_init =  [f\"'' AS {i}\" for i in key_cols_list]\n",
    "    key_cols_string_init = \", \".join(key_cols_string_init)\n",
    "    df_target = spark.sql(f\"SELECT {key_cols_string_init}, 0 AS {surrogate_key}, CAST('1900-01-01 00:00:00' AS timestamp) AS create_date, CAST('1900-01-01 00:00:00' AS timestamp) AS update_date WHERE 1=0\")\n"
   ]
  },
  {
   "cell_type": "code",
   "execution_count": 0,
   "metadata": {
    "application/vnd.databricks.v1+cell": {
     "cellMetadata": {
      "byteLimit": 2048000,
      "rowLimit": 10000
     },
     "inputWidgets": {},
     "nuid": "dd2152ee-329e-4990-a292-fbb979df1583",
     "showTitle": false,
     "tableResultSettingsMap": {
      "0": {
       "dataGridStateBlob": "{\"version\":1,\"tableState\":{\"columnPinning\":{\"left\":[\"#row_number#\"],\"right\":[]},\"columnSizing\":{},\"columnVisibility\":{}},\"settings\":{\"columns\":{}},\"syncTimestamp\":1754517457115}",
       "filterBlob": null,
       "queryPlanFiltersBlob": null,
       "tableResultIndex": 0
      }
     },
     "title": ""
    }
   },
   "outputs": [
    {
     "data": {
      "text/html": [
       "<style scoped>\n",
       "  .table-result-container {\n",
       "    max-height: 300px;\n",
       "    overflow: auto;\n",
       "  }\n",
       "  table, th, td {\n",
       "    border: 1px solid black;\n",
       "    border-collapse: collapse;\n",
       "  }\n",
       "  th, td {\n",
       "    padding: 5px;\n",
       "  }\n",
       "  th {\n",
       "    text-align: left;\n",
       "  }\n",
       "</style><div class='table-result-container'><table class='table-result'><thead style='background-color: white'><tr><th>product_id</th><th>product_sk</th><th>create_date</th><th>update_date</th></tr></thead><tbody><tr><td>PROD_00001</td><td>1</td><td>2025-08-19T19:36:46.402Z</td><td>2025-08-19T19:36:46.402Z</td></tr><tr><td>PROD_00002</td><td>2</td><td>2025-08-19T19:36:46.402Z</td><td>2025-08-19T19:36:46.402Z</td></tr><tr><td>PROD_00003</td><td>3</td><td>2025-08-19T19:36:46.402Z</td><td>2025-08-19T19:36:46.402Z</td></tr><tr><td>PROD_00004</td><td>4</td><td>2025-08-19T19:36:46.402Z</td><td>2025-08-19T19:36:46.402Z</td></tr><tr><td>PROD_00005</td><td>5</td><td>2025-08-19T19:36:46.402Z</td><td>2025-08-19T19:36:46.402Z</td></tr><tr><td>PROD_00006</td><td>6</td><td>2025-08-19T19:36:46.402Z</td><td>2025-08-19T19:36:46.402Z</td></tr><tr><td>PROD_00007</td><td>7</td><td>2025-08-19T19:36:46.402Z</td><td>2025-08-19T19:36:46.402Z</td></tr><tr><td>PROD_00008</td><td>8</td><td>2025-08-19T19:36:46.402Z</td><td>2025-08-19T19:36:46.402Z</td></tr><tr><td>PROD_00009</td><td>9</td><td>2025-08-19T19:36:46.402Z</td><td>2025-08-19T19:36:46.402Z</td></tr><tr><td>PROD_00010</td><td>10</td><td>2025-08-19T19:36:46.402Z</td><td>2025-08-19T19:36:46.402Z</td></tr><tr><td>PROD_00011</td><td>11</td><td>2025-08-19T19:36:46.402Z</td><td>2025-08-19T19:36:46.402Z</td></tr><tr><td>PROD_00012</td><td>12</td><td>2025-08-19T19:36:46.402Z</td><td>2025-08-19T19:36:46.402Z</td></tr><tr><td>PROD_00013</td><td>13</td><td>2025-08-19T19:36:46.402Z</td><td>2025-08-19T19:36:46.402Z</td></tr><tr><td>PROD_00014</td><td>14</td><td>2025-08-19T19:36:46.402Z</td><td>2025-08-19T19:36:46.402Z</td></tr><tr><td>PROD_00015</td><td>15</td><td>2025-08-19T19:36:46.402Z</td><td>2025-08-19T19:36:46.402Z</td></tr><tr><td>PROD_00016</td><td>16</td><td>2025-08-19T19:36:46.402Z</td><td>2025-08-19T19:36:46.402Z</td></tr><tr><td>PROD_00017</td><td>17</td><td>2025-08-19T19:36:46.402Z</td><td>2025-08-19T19:36:46.402Z</td></tr><tr><td>PROD_00018</td><td>18</td><td>2025-08-19T19:36:46.402Z</td><td>2025-08-19T19:36:46.402Z</td></tr><tr><td>PROD_00019</td><td>19</td><td>2025-08-19T19:36:46.402Z</td><td>2025-08-19T19:36:46.402Z</td></tr><tr><td>PROD_00020</td><td>20</td><td>2025-08-19T19:36:46.402Z</td><td>2025-08-19T19:36:46.402Z</td></tr><tr><td>PROD_00021</td><td>21</td><td>2025-08-19T19:36:46.402Z</td><td>2025-08-19T19:36:46.402Z</td></tr><tr><td>PROD_00022</td><td>22</td><td>2025-08-19T19:36:46.402Z</td><td>2025-08-19T19:36:46.402Z</td></tr><tr><td>PROD_00023</td><td>23</td><td>2025-08-19T19:36:46.402Z</td><td>2025-08-19T19:36:46.402Z</td></tr><tr><td>PROD_00024</td><td>24</td><td>2025-08-19T19:36:46.402Z</td><td>2025-08-19T19:36:46.402Z</td></tr><tr><td>PROD_00025</td><td>25</td><td>2025-08-19T19:36:46.402Z</td><td>2025-08-19T19:36:46.402Z</td></tr><tr><td>PROD_00026</td><td>26</td><td>2025-08-19T19:36:46.402Z</td><td>2025-08-19T19:36:46.402Z</td></tr><tr><td>PROD_00027</td><td>27</td><td>2025-08-19T19:36:46.402Z</td><td>2025-08-19T19:36:46.402Z</td></tr><tr><td>PROD_00028</td><td>28</td><td>2025-08-19T19:36:46.402Z</td><td>2025-08-19T19:36:46.402Z</td></tr><tr><td>PROD_00029</td><td>29</td><td>2025-08-19T19:36:46.402Z</td><td>2025-08-19T19:36:46.402Z</td></tr><tr><td>PROD_00030</td><td>30</td><td>2025-08-19T19:36:46.402Z</td><td>2025-08-19T19:36:46.402Z</td></tr><tr><td>PROD_00031</td><td>31</td><td>2025-08-19T19:36:46.402Z</td><td>2025-08-19T19:36:46.402Z</td></tr><tr><td>PROD_00032</td><td>32</td><td>2025-08-19T19:36:46.402Z</td><td>2025-08-19T19:36:46.402Z</td></tr><tr><td>PROD_00033</td><td>33</td><td>2025-08-19T19:36:46.402Z</td><td>2025-08-19T19:36:46.402Z</td></tr><tr><td>PROD_00034</td><td>34</td><td>2025-08-19T19:36:46.402Z</td><td>2025-08-19T19:36:46.402Z</td></tr><tr><td>PROD_00035</td><td>35</td><td>2025-08-19T19:36:46.402Z</td><td>2025-08-19T19:36:46.402Z</td></tr><tr><td>PROD_00036</td><td>36</td><td>2025-08-19T19:36:46.402Z</td><td>2025-08-19T19:36:46.402Z</td></tr><tr><td>PROD_00037</td><td>37</td><td>2025-08-19T19:36:46.402Z</td><td>2025-08-19T19:36:46.402Z</td></tr><tr><td>PROD_00038</td><td>38</td><td>2025-08-19T19:36:46.402Z</td><td>2025-08-19T19:36:46.402Z</td></tr><tr><td>PROD_00039</td><td>39</td><td>2025-08-19T19:36:46.402Z</td><td>2025-08-19T19:36:46.402Z</td></tr><tr><td>PROD_00040</td><td>40</td><td>2025-08-19T19:36:46.402Z</td><td>2025-08-19T19:36:46.402Z</td></tr><tr><td>PROD_00041</td><td>41</td><td>2025-08-19T19:36:46.402Z</td><td>2025-08-19T19:36:46.402Z</td></tr><tr><td>PROD_00042</td><td>42</td><td>2025-08-19T19:36:46.402Z</td><td>2025-08-19T19:36:46.402Z</td></tr><tr><td>PROD_00043</td><td>43</td><td>2025-08-19T19:36:46.402Z</td><td>2025-08-19T19:36:46.402Z</td></tr><tr><td>PROD_00044</td><td>44</td><td>2025-08-19T19:36:46.402Z</td><td>2025-08-19T19:36:46.402Z</td></tr><tr><td>PROD_00045</td><td>45</td><td>2025-08-19T19:36:46.402Z</td><td>2025-08-19T19:36:46.402Z</td></tr><tr><td>PROD_00046</td><td>46</td><td>2025-08-19T19:36:46.402Z</td><td>2025-08-19T19:36:46.402Z</td></tr><tr><td>PROD_00047</td><td>47</td><td>2025-08-19T19:36:46.402Z</td><td>2025-08-19T19:36:46.402Z</td></tr><tr><td>PROD_00048</td><td>48</td><td>2025-08-19T19:36:46.402Z</td><td>2025-08-19T19:36:46.402Z</td></tr><tr><td>PROD_00049</td><td>49</td><td>2025-08-19T19:36:46.402Z</td><td>2025-08-19T19:36:46.402Z</td></tr><tr><td>PROD_00050</td><td>50</td><td>2025-08-19T19:36:46.402Z</td><td>2025-08-19T19:36:46.402Z</td></tr><tr><td>PROD_00051</td><td>51</td><td>2025-08-19T19:36:46.402Z</td><td>2025-08-19T19:36:46.402Z</td></tr><tr><td>PROD_00052</td><td>52</td><td>2025-08-19T19:36:46.402Z</td><td>2025-08-19T19:36:46.402Z</td></tr><tr><td>PROD_00053</td><td>53</td><td>2025-08-19T19:36:46.402Z</td><td>2025-08-19T19:36:46.402Z</td></tr><tr><td>PROD_00054</td><td>54</td><td>2025-08-19T19:36:46.402Z</td><td>2025-08-19T19:36:46.402Z</td></tr><tr><td>PROD_00055</td><td>55</td><td>2025-08-19T19:36:46.402Z</td><td>2025-08-19T19:36:46.402Z</td></tr><tr><td>PROD_00056</td><td>56</td><td>2025-08-19T19:36:46.402Z</td><td>2025-08-19T19:36:46.402Z</td></tr><tr><td>PROD_00057</td><td>57</td><td>2025-08-19T19:36:46.402Z</td><td>2025-08-19T19:36:46.402Z</td></tr><tr><td>PROD_00058</td><td>58</td><td>2025-08-19T19:36:46.402Z</td><td>2025-08-19T19:36:46.402Z</td></tr><tr><td>PROD_00059</td><td>59</td><td>2025-08-19T19:36:46.402Z</td><td>2025-08-19T19:36:46.402Z</td></tr><tr><td>PROD_00060</td><td>60</td><td>2025-08-19T19:36:46.402Z</td><td>2025-08-19T19:36:46.402Z</td></tr><tr><td>PROD_00061</td><td>61</td><td>2025-08-19T19:36:46.402Z</td><td>2025-08-19T19:36:46.402Z</td></tr><tr><td>PROD_00062</td><td>62</td><td>2025-08-19T19:36:46.402Z</td><td>2025-08-19T19:36:46.402Z</td></tr><tr><td>PROD_00063</td><td>63</td><td>2025-08-19T19:36:46.402Z</td><td>2025-08-19T19:36:46.402Z</td></tr><tr><td>PROD_00064</td><td>64</td><td>2025-08-19T19:36:46.402Z</td><td>2025-08-19T19:36:46.402Z</td></tr><tr><td>PROD_00065</td><td>65</td><td>2025-08-19T19:36:46.402Z</td><td>2025-08-19T19:36:46.402Z</td></tr><tr><td>PROD_00066</td><td>66</td><td>2025-08-19T19:36:46.402Z</td><td>2025-08-19T19:36:46.402Z</td></tr><tr><td>PROD_00067</td><td>67</td><td>2025-08-19T19:36:46.402Z</td><td>2025-08-19T19:36:46.402Z</td></tr><tr><td>PROD_00068</td><td>68</td><td>2025-08-19T19:36:46.402Z</td><td>2025-08-19T19:36:46.402Z</td></tr><tr><td>PROD_00069</td><td>69</td><td>2025-08-19T19:36:46.402Z</td><td>2025-08-19T19:36:46.402Z</td></tr><tr><td>PROD_00070</td><td>70</td><td>2025-08-19T19:36:46.402Z</td><td>2025-08-19T19:36:46.402Z</td></tr><tr><td>PROD_00071</td><td>71</td><td>2025-08-19T19:36:46.402Z</td><td>2025-08-19T19:36:46.402Z</td></tr><tr><td>PROD_00072</td><td>72</td><td>2025-08-19T19:36:46.402Z</td><td>2025-08-19T19:36:46.402Z</td></tr><tr><td>PROD_00073</td><td>73</td><td>2025-08-19T19:36:46.402Z</td><td>2025-08-19T19:36:46.402Z</td></tr><tr><td>PROD_00074</td><td>74</td><td>2025-08-19T19:36:46.402Z</td><td>2025-08-19T19:36:46.402Z</td></tr><tr><td>PROD_00075</td><td>75</td><td>2025-08-19T19:36:46.402Z</td><td>2025-08-19T19:36:46.402Z</td></tr><tr><td>PROD_00076</td><td>76</td><td>2025-08-19T19:36:46.402Z</td><td>2025-08-19T19:36:46.402Z</td></tr><tr><td>PROD_00077</td><td>77</td><td>2025-08-19T19:36:46.402Z</td><td>2025-08-19T19:36:46.402Z</td></tr><tr><td>PROD_00078</td><td>78</td><td>2025-08-19T19:36:46.402Z</td><td>2025-08-19T19:36:46.402Z</td></tr><tr><td>PROD_00079</td><td>79</td><td>2025-08-19T19:36:46.402Z</td><td>2025-08-19T19:36:46.402Z</td></tr><tr><td>PROD_00080</td><td>80</td><td>2025-08-19T19:36:46.402Z</td><td>2025-08-19T19:36:46.402Z</td></tr><tr><td>PROD_00081</td><td>81</td><td>2025-08-19T19:36:46.402Z</td><td>2025-08-19T19:36:46.402Z</td></tr><tr><td>PROD_00082</td><td>82</td><td>2025-08-19T19:36:46.402Z</td><td>2025-08-19T19:36:46.402Z</td></tr><tr><td>PROD_00083</td><td>83</td><td>2025-08-19T19:36:46.402Z</td><td>2025-08-19T19:36:46.402Z</td></tr><tr><td>PROD_00084</td><td>84</td><td>2025-08-19T19:36:46.402Z</td><td>2025-08-19T19:36:46.402Z</td></tr><tr><td>PROD_00085</td><td>85</td><td>2025-08-19T19:36:46.402Z</td><td>2025-08-19T19:36:46.402Z</td></tr><tr><td>PROD_00086</td><td>86</td><td>2025-08-19T19:36:46.402Z</td><td>2025-08-19T19:36:46.402Z</td></tr><tr><td>PROD_00087</td><td>87</td><td>2025-08-19T19:36:46.402Z</td><td>2025-08-19T19:36:46.402Z</td></tr><tr><td>PROD_00088</td><td>88</td><td>2025-08-19T19:36:46.402Z</td><td>2025-08-19T19:36:46.402Z</td></tr><tr><td>PROD_00089</td><td>89</td><td>2025-08-19T19:36:46.402Z</td><td>2025-08-19T19:36:46.402Z</td></tr><tr><td>PROD_00090</td><td>90</td><td>2025-08-19T19:36:46.402Z</td><td>2025-08-19T19:36:46.402Z</td></tr><tr><td>PROD_00091</td><td>91</td><td>2025-08-19T19:36:46.402Z</td><td>2025-08-19T19:36:46.402Z</td></tr><tr><td>PROD_00092</td><td>92</td><td>2025-08-19T19:36:46.402Z</td><td>2025-08-19T19:36:46.402Z</td></tr><tr><td>PROD_00093</td><td>93</td><td>2025-08-19T19:36:46.402Z</td><td>2025-08-19T19:36:46.402Z</td></tr><tr><td>PROD_00094</td><td>94</td><td>2025-08-19T19:36:46.402Z</td><td>2025-08-19T19:36:46.402Z</td></tr><tr><td>PROD_00095</td><td>95</td><td>2025-08-19T19:36:46.402Z</td><td>2025-08-19T19:36:46.402Z</td></tr><tr><td>PROD_00096</td><td>96</td><td>2025-08-19T19:36:46.402Z</td><td>2025-08-19T19:36:46.402Z</td></tr><tr><td>PROD_00097</td><td>97</td><td>2025-08-19T19:36:46.402Z</td><td>2025-08-19T19:36:46.402Z</td></tr><tr><td>PROD_00098</td><td>98</td><td>2025-08-19T19:36:46.402Z</td><td>2025-08-19T19:36:46.402Z</td></tr><tr><td>PROD_00099</td><td>99</td><td>2025-08-19T19:36:46.402Z</td><td>2025-08-19T19:36:46.402Z</td></tr><tr><td>PROD_00100</td><td>100</td><td>2025-08-19T19:36:46.402Z</td><td>2025-08-19T19:36:46.402Z</td></tr><tr><td>PROD_00101</td><td>101</td><td>2025-08-19T19:36:46.402Z</td><td>2025-08-19T19:36:46.402Z</td></tr><tr><td>PROD_00102</td><td>102</td><td>2025-08-19T19:36:46.402Z</td><td>2025-08-19T19:36:46.402Z</td></tr><tr><td>PROD_00103</td><td>103</td><td>2025-08-19T19:36:46.402Z</td><td>2025-08-19T19:36:46.402Z</td></tr><tr><td>PROD_00104</td><td>104</td><td>2025-08-19T19:36:46.402Z</td><td>2025-08-19T19:36:46.402Z</td></tr><tr><td>PROD_00105</td><td>105</td><td>2025-08-19T19:36:46.402Z</td><td>2025-08-19T19:36:46.402Z</td></tr><tr><td>PROD_00106</td><td>106</td><td>2025-08-19T19:36:46.402Z</td><td>2025-08-19T19:36:46.402Z</td></tr><tr><td>PROD_00107</td><td>107</td><td>2025-08-19T19:36:46.402Z</td><td>2025-08-19T19:36:46.402Z</td></tr><tr><td>PROD_00108</td><td>108</td><td>2025-08-19T19:36:46.402Z</td><td>2025-08-19T19:36:46.402Z</td></tr><tr><td>PROD_00109</td><td>109</td><td>2025-08-19T19:36:46.402Z</td><td>2025-08-19T19:36:46.402Z</td></tr><tr><td>PROD_00110</td><td>110</td><td>2025-08-19T19:36:46.402Z</td><td>2025-08-19T19:36:46.402Z</td></tr><tr><td>PROD_00111</td><td>111</td><td>2025-08-19T19:36:46.402Z</td><td>2025-08-19T19:36:46.402Z</td></tr><tr><td>PROD_00112</td><td>112</td><td>2025-08-19T19:36:46.402Z</td><td>2025-08-19T19:36:46.402Z</td></tr><tr><td>PROD_00113</td><td>113</td><td>2025-08-19T19:36:46.402Z</td><td>2025-08-19T19:36:46.402Z</td></tr><tr><td>PROD_00114</td><td>114</td><td>2025-08-19T19:36:46.402Z</td><td>2025-08-19T19:36:46.402Z</td></tr><tr><td>PROD_00115</td><td>115</td><td>2025-08-19T19:36:46.402Z</td><td>2025-08-19T19:36:46.402Z</td></tr><tr><td>PROD_00116</td><td>116</td><td>2025-08-19T19:36:46.402Z</td><td>2025-08-19T19:36:46.402Z</td></tr><tr><td>PROD_00117</td><td>117</td><td>2025-08-19T19:36:46.402Z</td><td>2025-08-19T19:36:46.402Z</td></tr><tr><td>PROD_00118</td><td>118</td><td>2025-08-19T19:36:46.402Z</td><td>2025-08-19T19:36:46.402Z</td></tr><tr><td>PROD_00119</td><td>119</td><td>2025-08-19T19:36:46.402Z</td><td>2025-08-19T19:36:46.402Z</td></tr><tr><td>PROD_00120</td><td>120</td><td>2025-08-19T19:36:46.402Z</td><td>2025-08-19T19:36:46.402Z</td></tr><tr><td>PROD_00121</td><td>121</td><td>2025-08-19T19:36:46.402Z</td><td>2025-08-19T19:36:46.402Z</td></tr><tr><td>PROD_00122</td><td>122</td><td>2025-08-19T19:36:46.402Z</td><td>2025-08-19T19:36:46.402Z</td></tr><tr><td>PROD_00123</td><td>123</td><td>2025-08-19T19:36:46.402Z</td><td>2025-08-19T19:36:46.402Z</td></tr><tr><td>PROD_00124</td><td>124</td><td>2025-08-19T19:36:46.402Z</td><td>2025-08-19T19:36:46.402Z</td></tr><tr><td>PROD_00125</td><td>125</td><td>2025-08-19T19:36:46.402Z</td><td>2025-08-19T19:36:46.402Z</td></tr><tr><td>PROD_00126</td><td>126</td><td>2025-08-19T19:36:46.402Z</td><td>2025-08-19T19:36:46.402Z</td></tr><tr><td>PROD_00127</td><td>127</td><td>2025-08-19T19:36:46.402Z</td><td>2025-08-19T19:36:46.402Z</td></tr><tr><td>PROD_00128</td><td>128</td><td>2025-08-19T19:36:46.402Z</td><td>2025-08-19T19:36:46.402Z</td></tr><tr><td>PROD_00129</td><td>129</td><td>2025-08-19T19:36:46.402Z</td><td>2025-08-19T19:36:46.402Z</td></tr><tr><td>PROD_00130</td><td>130</td><td>2025-08-19T19:36:46.402Z</td><td>2025-08-19T19:36:46.402Z</td></tr><tr><td>PROD_00131</td><td>131</td><td>2025-08-19T19:36:46.402Z</td><td>2025-08-19T19:36:46.402Z</td></tr><tr><td>PROD_00132</td><td>132</td><td>2025-08-19T19:36:46.402Z</td><td>2025-08-19T19:36:46.402Z</td></tr><tr><td>PROD_00133</td><td>133</td><td>2025-08-19T19:36:46.402Z</td><td>2025-08-19T19:36:46.402Z</td></tr><tr><td>PROD_00134</td><td>134</td><td>2025-08-19T19:36:46.402Z</td><td>2025-08-19T19:36:46.402Z</td></tr><tr><td>PROD_00135</td><td>135</td><td>2025-08-19T19:36:46.402Z</td><td>2025-08-19T19:36:46.402Z</td></tr><tr><td>PROD_00136</td><td>136</td><td>2025-08-19T19:36:46.402Z</td><td>2025-08-19T19:36:46.402Z</td></tr><tr><td>PROD_00137</td><td>137</td><td>2025-08-19T19:36:46.402Z</td><td>2025-08-19T19:36:46.402Z</td></tr><tr><td>PROD_00138</td><td>138</td><td>2025-08-19T19:36:46.402Z</td><td>2025-08-19T19:36:46.402Z</td></tr><tr><td>PROD_00139</td><td>139</td><td>2025-08-19T19:36:46.402Z</td><td>2025-08-19T19:36:46.402Z</td></tr><tr><td>PROD_00140</td><td>140</td><td>2025-08-19T19:36:46.402Z</td><td>2025-08-19T19:36:46.402Z</td></tr><tr><td>PROD_00141</td><td>141</td><td>2025-08-19T19:36:46.402Z</td><td>2025-08-19T19:36:46.402Z</td></tr><tr><td>PROD_00142</td><td>142</td><td>2025-08-19T19:36:46.402Z</td><td>2025-08-19T19:36:46.402Z</td></tr><tr><td>PROD_00143</td><td>143</td><td>2025-08-19T19:36:46.402Z</td><td>2025-08-19T19:36:46.402Z</td></tr><tr><td>PROD_00144</td><td>144</td><td>2025-08-19T19:36:46.402Z</td><td>2025-08-19T19:36:46.402Z</td></tr><tr><td>PROD_00145</td><td>145</td><td>2025-08-19T19:36:46.402Z</td><td>2025-08-19T19:36:46.402Z</td></tr><tr><td>PROD_00146</td><td>146</td><td>2025-08-19T19:36:46.402Z</td><td>2025-08-19T19:36:46.402Z</td></tr><tr><td>PROD_00147</td><td>147</td><td>2025-08-19T19:36:46.402Z</td><td>2025-08-19T19:36:46.402Z</td></tr><tr><td>PROD_00148</td><td>148</td><td>2025-08-19T19:36:46.402Z</td><td>2025-08-19T19:36:46.402Z</td></tr><tr><td>PROD_00149</td><td>149</td><td>2025-08-19T19:36:46.402Z</td><td>2025-08-19T19:36:46.402Z</td></tr><tr><td>PROD_00150</td><td>150</td><td>2025-08-19T19:36:46.402Z</td><td>2025-08-19T19:36:46.402Z</td></tr><tr><td>PROD_00151</td><td>151</td><td>2025-08-19T19:36:46.402Z</td><td>2025-08-19T19:36:46.402Z</td></tr><tr><td>PROD_00152</td><td>152</td><td>2025-08-19T19:36:46.402Z</td><td>2025-08-19T19:36:46.402Z</td></tr><tr><td>PROD_00153</td><td>153</td><td>2025-08-19T19:36:46.402Z</td><td>2025-08-19T19:36:46.402Z</td></tr><tr><td>PROD_00154</td><td>154</td><td>2025-08-19T19:36:46.402Z</td><td>2025-08-19T19:36:46.402Z</td></tr><tr><td>PROD_00155</td><td>155</td><td>2025-08-19T19:36:46.402Z</td><td>2025-08-19T19:36:46.402Z</td></tr><tr><td>PROD_00156</td><td>156</td><td>2025-08-19T19:36:46.402Z</td><td>2025-08-19T19:36:46.402Z</td></tr><tr><td>PROD_00157</td><td>157</td><td>2025-08-19T19:36:46.402Z</td><td>2025-08-19T19:36:46.402Z</td></tr><tr><td>PROD_00158</td><td>158</td><td>2025-08-19T19:36:46.402Z</td><td>2025-08-19T19:36:46.402Z</td></tr><tr><td>PROD_00159</td><td>159</td><td>2025-08-19T19:36:46.402Z</td><td>2025-08-19T19:36:46.402Z</td></tr><tr><td>PROD_00160</td><td>160</td><td>2025-08-19T19:36:46.402Z</td><td>2025-08-19T19:36:46.402Z</td></tr><tr><td>PROD_00161</td><td>161</td><td>2025-08-19T19:36:46.402Z</td><td>2025-08-19T19:36:46.402Z</td></tr><tr><td>PROD_00162</td><td>162</td><td>2025-08-19T19:36:46.402Z</td><td>2025-08-19T19:36:46.402Z</td></tr><tr><td>PROD_00163</td><td>163</td><td>2025-08-19T19:36:46.402Z</td><td>2025-08-19T19:36:46.402Z</td></tr><tr><td>PROD_00164</td><td>164</td><td>2025-08-19T19:36:46.402Z</td><td>2025-08-19T19:36:46.402Z</td></tr><tr><td>PROD_00165</td><td>165</td><td>2025-08-19T19:36:46.402Z</td><td>2025-08-19T19:36:46.402Z</td></tr><tr><td>PROD_00166</td><td>166</td><td>2025-08-19T19:36:46.402Z</td><td>2025-08-19T19:36:46.402Z</td></tr><tr><td>PROD_00167</td><td>167</td><td>2025-08-19T19:36:46.402Z</td><td>2025-08-19T19:36:46.402Z</td></tr><tr><td>PROD_00168</td><td>168</td><td>2025-08-19T19:36:46.402Z</td><td>2025-08-19T19:36:46.402Z</td></tr><tr><td>PROD_00169</td><td>169</td><td>2025-08-19T19:36:46.402Z</td><td>2025-08-19T19:36:46.402Z</td></tr><tr><td>PROD_00170</td><td>170</td><td>2025-08-19T19:36:46.402Z</td><td>2025-08-19T19:36:46.402Z</td></tr><tr><td>PROD_00171</td><td>171</td><td>2025-08-19T19:36:46.402Z</td><td>2025-08-19T19:36:46.402Z</td></tr><tr><td>PROD_00172</td><td>172</td><td>2025-08-19T19:36:46.402Z</td><td>2025-08-19T19:36:46.402Z</td></tr><tr><td>PROD_00173</td><td>173</td><td>2025-08-19T19:36:46.402Z</td><td>2025-08-19T19:36:46.402Z</td></tr><tr><td>PROD_00174</td><td>174</td><td>2025-08-19T19:36:46.402Z</td><td>2025-08-19T19:36:46.402Z</td></tr><tr><td>PROD_00175</td><td>175</td><td>2025-08-19T19:36:46.402Z</td><td>2025-08-19T19:36:46.402Z</td></tr><tr><td>PROD_00176</td><td>176</td><td>2025-08-19T19:36:46.402Z</td><td>2025-08-19T19:36:46.402Z</td></tr><tr><td>PROD_00177</td><td>177</td><td>2025-08-19T19:36:46.402Z</td><td>2025-08-19T19:36:46.402Z</td></tr><tr><td>PROD_00178</td><td>178</td><td>2025-08-19T19:36:46.402Z</td><td>2025-08-19T19:36:46.402Z</td></tr><tr><td>PROD_00179</td><td>179</td><td>2025-08-19T19:36:46.402Z</td><td>2025-08-19T19:36:46.402Z</td></tr><tr><td>PROD_00180</td><td>180</td><td>2025-08-19T19:36:46.402Z</td><td>2025-08-19T19:36:46.402Z</td></tr><tr><td>PROD_00181</td><td>181</td><td>2025-08-19T19:36:46.402Z</td><td>2025-08-19T19:36:46.402Z</td></tr><tr><td>PROD_00182</td><td>182</td><td>2025-08-19T19:36:46.402Z</td><td>2025-08-19T19:36:46.402Z</td></tr><tr><td>PROD_00183</td><td>183</td><td>2025-08-19T19:36:46.402Z</td><td>2025-08-19T19:36:46.402Z</td></tr><tr><td>PROD_00184</td><td>184</td><td>2025-08-19T19:36:46.402Z</td><td>2025-08-19T19:36:46.402Z</td></tr><tr><td>PROD_00185</td><td>185</td><td>2025-08-19T19:36:46.402Z</td><td>2025-08-19T19:36:46.402Z</td></tr><tr><td>PROD_00186</td><td>186</td><td>2025-08-19T19:36:46.402Z</td><td>2025-08-19T19:36:46.402Z</td></tr><tr><td>PROD_00187</td><td>187</td><td>2025-08-19T19:36:46.402Z</td><td>2025-08-19T19:36:46.402Z</td></tr><tr><td>PROD_00188</td><td>188</td><td>2025-08-19T19:36:46.402Z</td><td>2025-08-19T19:36:46.402Z</td></tr><tr><td>PROD_00189</td><td>189</td><td>2025-08-19T19:36:46.402Z</td><td>2025-08-19T19:36:46.402Z</td></tr><tr><td>PROD_00190</td><td>190</td><td>2025-08-19T19:36:46.402Z</td><td>2025-08-19T19:36:46.402Z</td></tr><tr><td>PROD_00191</td><td>191</td><td>2025-08-19T19:36:46.402Z</td><td>2025-08-19T19:36:46.402Z</td></tr><tr><td>PROD_00192</td><td>192</td><td>2025-08-19T19:36:46.402Z</td><td>2025-08-19T19:36:46.402Z</td></tr><tr><td>PROD_00193</td><td>193</td><td>2025-08-19T19:36:46.402Z</td><td>2025-08-19T19:36:46.402Z</td></tr><tr><td>PROD_00194</td><td>194</td><td>2025-08-19T19:36:46.402Z</td><td>2025-08-19T19:36:46.402Z</td></tr><tr><td>PROD_00195</td><td>195</td><td>2025-08-19T19:36:46.402Z</td><td>2025-08-19T19:36:46.402Z</td></tr><tr><td>PROD_00196</td><td>196</td><td>2025-08-19T19:36:46.402Z</td><td>2025-08-19T19:36:46.402Z</td></tr><tr><td>PROD_00197</td><td>197</td><td>2025-08-19T19:36:46.402Z</td><td>2025-08-19T19:36:46.402Z</td></tr><tr><td>PROD_00198</td><td>198</td><td>2025-08-19T19:36:46.402Z</td><td>2025-08-19T19:36:46.402Z</td></tr><tr><td>PROD_00199</td><td>199</td><td>2025-08-19T19:36:46.402Z</td><td>2025-08-19T19:36:46.402Z</td></tr><tr><td>PROD_00200</td><td>200</td><td>2025-08-19T19:36:46.402Z</td><td>2025-08-19T19:36:46.402Z</td></tr><tr><td>PROD_00201</td><td>201</td><td>2025-08-19T19:36:46.402Z</td><td>2025-08-19T19:36:46.402Z</td></tr><tr><td>PROD_00202</td><td>202</td><td>2025-08-19T19:36:46.402Z</td><td>2025-08-19T19:36:46.402Z</td></tr><tr><td>PROD_00203</td><td>203</td><td>2025-08-19T19:36:46.402Z</td><td>2025-08-19T19:36:46.402Z</td></tr><tr><td>PROD_00204</td><td>204</td><td>2025-08-19T19:36:46.402Z</td><td>2025-08-19T19:36:46.402Z</td></tr><tr><td>PROD_00205</td><td>205</td><td>2025-08-19T19:36:46.402Z</td><td>2025-08-19T19:36:46.402Z</td></tr><tr><td>PROD_00206</td><td>206</td><td>2025-08-19T19:36:46.402Z</td><td>2025-08-19T19:36:46.402Z</td></tr><tr><td>PROD_00207</td><td>207</td><td>2025-08-19T19:36:46.402Z</td><td>2025-08-19T19:36:46.402Z</td></tr><tr><td>PROD_00208</td><td>208</td><td>2025-08-19T19:36:46.402Z</td><td>2025-08-19T19:36:46.402Z</td></tr><tr><td>PROD_00209</td><td>209</td><td>2025-08-19T19:36:46.402Z</td><td>2025-08-19T19:36:46.402Z</td></tr><tr><td>PROD_00210</td><td>210</td><td>2025-08-19T19:36:46.402Z</td><td>2025-08-19T19:36:46.402Z</td></tr></tbody></table></div>"
      ]
     },
     "metadata": {
      "application/vnd.databricks.v1+output": {
       "addedWidgets": {},
       "aggData": [],
       "aggError": "",
       "aggOverflow": false,
       "aggSchema": [],
       "aggSeriesLimitReached": false,
       "aggType": "",
       "arguments": {},
       "columnCustomDisplayInfos": {},
       "data": [
        [
         "PROD_00001",
         1,
         "2025-08-19T19:36:46.402Z",
         "2025-08-19T19:36:46.402Z"
        ],
        [
         "PROD_00002",
         2,
         "2025-08-19T19:36:46.402Z",
         "2025-08-19T19:36:46.402Z"
        ],
        [
         "PROD_00003",
         3,
         "2025-08-19T19:36:46.402Z",
         "2025-08-19T19:36:46.402Z"
        ],
        [
         "PROD_00004",
         4,
         "2025-08-19T19:36:46.402Z",
         "2025-08-19T19:36:46.402Z"
        ],
        [
         "PROD_00005",
         5,
         "2025-08-19T19:36:46.402Z",
         "2025-08-19T19:36:46.402Z"
        ],
        [
         "PROD_00006",
         6,
         "2025-08-19T19:36:46.402Z",
         "2025-08-19T19:36:46.402Z"
        ],
        [
         "PROD_00007",
         7,
         "2025-08-19T19:36:46.402Z",
         "2025-08-19T19:36:46.402Z"
        ],
        [
         "PROD_00008",
         8,
         "2025-08-19T19:36:46.402Z",
         "2025-08-19T19:36:46.402Z"
        ],
        [
         "PROD_00009",
         9,
         "2025-08-19T19:36:46.402Z",
         "2025-08-19T19:36:46.402Z"
        ],
        [
         "PROD_00010",
         10,
         "2025-08-19T19:36:46.402Z",
         "2025-08-19T19:36:46.402Z"
        ],
        [
         "PROD_00011",
         11,
         "2025-08-19T19:36:46.402Z",
         "2025-08-19T19:36:46.402Z"
        ],
        [
         "PROD_00012",
         12,
         "2025-08-19T19:36:46.402Z",
         "2025-08-19T19:36:46.402Z"
        ],
        [
         "PROD_00013",
         13,
         "2025-08-19T19:36:46.402Z",
         "2025-08-19T19:36:46.402Z"
        ],
        [
         "PROD_00014",
         14,
         "2025-08-19T19:36:46.402Z",
         "2025-08-19T19:36:46.402Z"
        ],
        [
         "PROD_00015",
         15,
         "2025-08-19T19:36:46.402Z",
         "2025-08-19T19:36:46.402Z"
        ],
        [
         "PROD_00016",
         16,
         "2025-08-19T19:36:46.402Z",
         "2025-08-19T19:36:46.402Z"
        ],
        [
         "PROD_00017",
         17,
         "2025-08-19T19:36:46.402Z",
         "2025-08-19T19:36:46.402Z"
        ],
        [
         "PROD_00018",
         18,
         "2025-08-19T19:36:46.402Z",
         "2025-08-19T19:36:46.402Z"
        ],
        [
         "PROD_00019",
         19,
         "2025-08-19T19:36:46.402Z",
         "2025-08-19T19:36:46.402Z"
        ],
        [
         "PROD_00020",
         20,
         "2025-08-19T19:36:46.402Z",
         "2025-08-19T19:36:46.402Z"
        ],
        [
         "PROD_00021",
         21,
         "2025-08-19T19:36:46.402Z",
         "2025-08-19T19:36:46.402Z"
        ],
        [
         "PROD_00022",
         22,
         "2025-08-19T19:36:46.402Z",
         "2025-08-19T19:36:46.402Z"
        ],
        [
         "PROD_00023",
         23,
         "2025-08-19T19:36:46.402Z",
         "2025-08-19T19:36:46.402Z"
        ],
        [
         "PROD_00024",
         24,
         "2025-08-19T19:36:46.402Z",
         "2025-08-19T19:36:46.402Z"
        ],
        [
         "PROD_00025",
         25,
         "2025-08-19T19:36:46.402Z",
         "2025-08-19T19:36:46.402Z"
        ],
        [
         "PROD_00026",
         26,
         "2025-08-19T19:36:46.402Z",
         "2025-08-19T19:36:46.402Z"
        ],
        [
         "PROD_00027",
         27,
         "2025-08-19T19:36:46.402Z",
         "2025-08-19T19:36:46.402Z"
        ],
        [
         "PROD_00028",
         28,
         "2025-08-19T19:36:46.402Z",
         "2025-08-19T19:36:46.402Z"
        ],
        [
         "PROD_00029",
         29,
         "2025-08-19T19:36:46.402Z",
         "2025-08-19T19:36:46.402Z"
        ],
        [
         "PROD_00030",
         30,
         "2025-08-19T19:36:46.402Z",
         "2025-08-19T19:36:46.402Z"
        ],
        [
         "PROD_00031",
         31,
         "2025-08-19T19:36:46.402Z",
         "2025-08-19T19:36:46.402Z"
        ],
        [
         "PROD_00032",
         32,
         "2025-08-19T19:36:46.402Z",
         "2025-08-19T19:36:46.402Z"
        ],
        [
         "PROD_00033",
         33,
         "2025-08-19T19:36:46.402Z",
         "2025-08-19T19:36:46.402Z"
        ],
        [
         "PROD_00034",
         34,
         "2025-08-19T19:36:46.402Z",
         "2025-08-19T19:36:46.402Z"
        ],
        [
         "PROD_00035",
         35,
         "2025-08-19T19:36:46.402Z",
         "2025-08-19T19:36:46.402Z"
        ],
        [
         "PROD_00036",
         36,
         "2025-08-19T19:36:46.402Z",
         "2025-08-19T19:36:46.402Z"
        ],
        [
         "PROD_00037",
         37,
         "2025-08-19T19:36:46.402Z",
         "2025-08-19T19:36:46.402Z"
        ],
        [
         "PROD_00038",
         38,
         "2025-08-19T19:36:46.402Z",
         "2025-08-19T19:36:46.402Z"
        ],
        [
         "PROD_00039",
         39,
         "2025-08-19T19:36:46.402Z",
         "2025-08-19T19:36:46.402Z"
        ],
        [
         "PROD_00040",
         40,
         "2025-08-19T19:36:46.402Z",
         "2025-08-19T19:36:46.402Z"
        ],
        [
         "PROD_00041",
         41,
         "2025-08-19T19:36:46.402Z",
         "2025-08-19T19:36:46.402Z"
        ],
        [
         "PROD_00042",
         42,
         "2025-08-19T19:36:46.402Z",
         "2025-08-19T19:36:46.402Z"
        ],
        [
         "PROD_00043",
         43,
         "2025-08-19T19:36:46.402Z",
         "2025-08-19T19:36:46.402Z"
        ],
        [
         "PROD_00044",
         44,
         "2025-08-19T19:36:46.402Z",
         "2025-08-19T19:36:46.402Z"
        ],
        [
         "PROD_00045",
         45,
         "2025-08-19T19:36:46.402Z",
         "2025-08-19T19:36:46.402Z"
        ],
        [
         "PROD_00046",
         46,
         "2025-08-19T19:36:46.402Z",
         "2025-08-19T19:36:46.402Z"
        ],
        [
         "PROD_00047",
         47,
         "2025-08-19T19:36:46.402Z",
         "2025-08-19T19:36:46.402Z"
        ],
        [
         "PROD_00048",
         48,
         "2025-08-19T19:36:46.402Z",
         "2025-08-19T19:36:46.402Z"
        ],
        [
         "PROD_00049",
         49,
         "2025-08-19T19:36:46.402Z",
         "2025-08-19T19:36:46.402Z"
        ],
        [
         "PROD_00050",
         50,
         "2025-08-19T19:36:46.402Z",
         "2025-08-19T19:36:46.402Z"
        ],
        [
         "PROD_00051",
         51,
         "2025-08-19T19:36:46.402Z",
         "2025-08-19T19:36:46.402Z"
        ],
        [
         "PROD_00052",
         52,
         "2025-08-19T19:36:46.402Z",
         "2025-08-19T19:36:46.402Z"
        ],
        [
         "PROD_00053",
         53,
         "2025-08-19T19:36:46.402Z",
         "2025-08-19T19:36:46.402Z"
        ],
        [
         "PROD_00054",
         54,
         "2025-08-19T19:36:46.402Z",
         "2025-08-19T19:36:46.402Z"
        ],
        [
         "PROD_00055",
         55,
         "2025-08-19T19:36:46.402Z",
         "2025-08-19T19:36:46.402Z"
        ],
        [
         "PROD_00056",
         56,
         "2025-08-19T19:36:46.402Z",
         "2025-08-19T19:36:46.402Z"
        ],
        [
         "PROD_00057",
         57,
         "2025-08-19T19:36:46.402Z",
         "2025-08-19T19:36:46.402Z"
        ],
        [
         "PROD_00058",
         58,
         "2025-08-19T19:36:46.402Z",
         "2025-08-19T19:36:46.402Z"
        ],
        [
         "PROD_00059",
         59,
         "2025-08-19T19:36:46.402Z",
         "2025-08-19T19:36:46.402Z"
        ],
        [
         "PROD_00060",
         60,
         "2025-08-19T19:36:46.402Z",
         "2025-08-19T19:36:46.402Z"
        ],
        [
         "PROD_00061",
         61,
         "2025-08-19T19:36:46.402Z",
         "2025-08-19T19:36:46.402Z"
        ],
        [
         "PROD_00062",
         62,
         "2025-08-19T19:36:46.402Z",
         "2025-08-19T19:36:46.402Z"
        ],
        [
         "PROD_00063",
         63,
         "2025-08-19T19:36:46.402Z",
         "2025-08-19T19:36:46.402Z"
        ],
        [
         "PROD_00064",
         64,
         "2025-08-19T19:36:46.402Z",
         "2025-08-19T19:36:46.402Z"
        ],
        [
         "PROD_00065",
         65,
         "2025-08-19T19:36:46.402Z",
         "2025-08-19T19:36:46.402Z"
        ],
        [
         "PROD_00066",
         66,
         "2025-08-19T19:36:46.402Z",
         "2025-08-19T19:36:46.402Z"
        ],
        [
         "PROD_00067",
         67,
         "2025-08-19T19:36:46.402Z",
         "2025-08-19T19:36:46.402Z"
        ],
        [
         "PROD_00068",
         68,
         "2025-08-19T19:36:46.402Z",
         "2025-08-19T19:36:46.402Z"
        ],
        [
         "PROD_00069",
         69,
         "2025-08-19T19:36:46.402Z",
         "2025-08-19T19:36:46.402Z"
        ],
        [
         "PROD_00070",
         70,
         "2025-08-19T19:36:46.402Z",
         "2025-08-19T19:36:46.402Z"
        ],
        [
         "PROD_00071",
         71,
         "2025-08-19T19:36:46.402Z",
         "2025-08-19T19:36:46.402Z"
        ],
        [
         "PROD_00072",
         72,
         "2025-08-19T19:36:46.402Z",
         "2025-08-19T19:36:46.402Z"
        ],
        [
         "PROD_00073",
         73,
         "2025-08-19T19:36:46.402Z",
         "2025-08-19T19:36:46.402Z"
        ],
        [
         "PROD_00074",
         74,
         "2025-08-19T19:36:46.402Z",
         "2025-08-19T19:36:46.402Z"
        ],
        [
         "PROD_00075",
         75,
         "2025-08-19T19:36:46.402Z",
         "2025-08-19T19:36:46.402Z"
        ],
        [
         "PROD_00076",
         76,
         "2025-08-19T19:36:46.402Z",
         "2025-08-19T19:36:46.402Z"
        ],
        [
         "PROD_00077",
         77,
         "2025-08-19T19:36:46.402Z",
         "2025-08-19T19:36:46.402Z"
        ],
        [
         "PROD_00078",
         78,
         "2025-08-19T19:36:46.402Z",
         "2025-08-19T19:36:46.402Z"
        ],
        [
         "PROD_00079",
         79,
         "2025-08-19T19:36:46.402Z",
         "2025-08-19T19:36:46.402Z"
        ],
        [
         "PROD_00080",
         80,
         "2025-08-19T19:36:46.402Z",
         "2025-08-19T19:36:46.402Z"
        ],
        [
         "PROD_00081",
         81,
         "2025-08-19T19:36:46.402Z",
         "2025-08-19T19:36:46.402Z"
        ],
        [
         "PROD_00082",
         82,
         "2025-08-19T19:36:46.402Z",
         "2025-08-19T19:36:46.402Z"
        ],
        [
         "PROD_00083",
         83,
         "2025-08-19T19:36:46.402Z",
         "2025-08-19T19:36:46.402Z"
        ],
        [
         "PROD_00084",
         84,
         "2025-08-19T19:36:46.402Z",
         "2025-08-19T19:36:46.402Z"
        ],
        [
         "PROD_00085",
         85,
         "2025-08-19T19:36:46.402Z",
         "2025-08-19T19:36:46.402Z"
        ],
        [
         "PROD_00086",
         86,
         "2025-08-19T19:36:46.402Z",
         "2025-08-19T19:36:46.402Z"
        ],
        [
         "PROD_00087",
         87,
         "2025-08-19T19:36:46.402Z",
         "2025-08-19T19:36:46.402Z"
        ],
        [
         "PROD_00088",
         88,
         "2025-08-19T19:36:46.402Z",
         "2025-08-19T19:36:46.402Z"
        ],
        [
         "PROD_00089",
         89,
         "2025-08-19T19:36:46.402Z",
         "2025-08-19T19:36:46.402Z"
        ],
        [
         "PROD_00090",
         90,
         "2025-08-19T19:36:46.402Z",
         "2025-08-19T19:36:46.402Z"
        ],
        [
         "PROD_00091",
         91,
         "2025-08-19T19:36:46.402Z",
         "2025-08-19T19:36:46.402Z"
        ],
        [
         "PROD_00092",
         92,
         "2025-08-19T19:36:46.402Z",
         "2025-08-19T19:36:46.402Z"
        ],
        [
         "PROD_00093",
         93,
         "2025-08-19T19:36:46.402Z",
         "2025-08-19T19:36:46.402Z"
        ],
        [
         "PROD_00094",
         94,
         "2025-08-19T19:36:46.402Z",
         "2025-08-19T19:36:46.402Z"
        ],
        [
         "PROD_00095",
         95,
         "2025-08-19T19:36:46.402Z",
         "2025-08-19T19:36:46.402Z"
        ],
        [
         "PROD_00096",
         96,
         "2025-08-19T19:36:46.402Z",
         "2025-08-19T19:36:46.402Z"
        ],
        [
         "PROD_00097",
         97,
         "2025-08-19T19:36:46.402Z",
         "2025-08-19T19:36:46.402Z"
        ],
        [
         "PROD_00098",
         98,
         "2025-08-19T19:36:46.402Z",
         "2025-08-19T19:36:46.402Z"
        ],
        [
         "PROD_00099",
         99,
         "2025-08-19T19:36:46.402Z",
         "2025-08-19T19:36:46.402Z"
        ],
        [
         "PROD_00100",
         100,
         "2025-08-19T19:36:46.402Z",
         "2025-08-19T19:36:46.402Z"
        ],
        [
         "PROD_00101",
         101,
         "2025-08-19T19:36:46.402Z",
         "2025-08-19T19:36:46.402Z"
        ],
        [
         "PROD_00102",
         102,
         "2025-08-19T19:36:46.402Z",
         "2025-08-19T19:36:46.402Z"
        ],
        [
         "PROD_00103",
         103,
         "2025-08-19T19:36:46.402Z",
         "2025-08-19T19:36:46.402Z"
        ],
        [
         "PROD_00104",
         104,
         "2025-08-19T19:36:46.402Z",
         "2025-08-19T19:36:46.402Z"
        ],
        [
         "PROD_00105",
         105,
         "2025-08-19T19:36:46.402Z",
         "2025-08-19T19:36:46.402Z"
        ],
        [
         "PROD_00106",
         106,
         "2025-08-19T19:36:46.402Z",
         "2025-08-19T19:36:46.402Z"
        ],
        [
         "PROD_00107",
         107,
         "2025-08-19T19:36:46.402Z",
         "2025-08-19T19:36:46.402Z"
        ],
        [
         "PROD_00108",
         108,
         "2025-08-19T19:36:46.402Z",
         "2025-08-19T19:36:46.402Z"
        ],
        [
         "PROD_00109",
         109,
         "2025-08-19T19:36:46.402Z",
         "2025-08-19T19:36:46.402Z"
        ],
        [
         "PROD_00110",
         110,
         "2025-08-19T19:36:46.402Z",
         "2025-08-19T19:36:46.402Z"
        ],
        [
         "PROD_00111",
         111,
         "2025-08-19T19:36:46.402Z",
         "2025-08-19T19:36:46.402Z"
        ],
        [
         "PROD_00112",
         112,
         "2025-08-19T19:36:46.402Z",
         "2025-08-19T19:36:46.402Z"
        ],
        [
         "PROD_00113",
         113,
         "2025-08-19T19:36:46.402Z",
         "2025-08-19T19:36:46.402Z"
        ],
        [
         "PROD_00114",
         114,
         "2025-08-19T19:36:46.402Z",
         "2025-08-19T19:36:46.402Z"
        ],
        [
         "PROD_00115",
         115,
         "2025-08-19T19:36:46.402Z",
         "2025-08-19T19:36:46.402Z"
        ],
        [
         "PROD_00116",
         116,
         "2025-08-19T19:36:46.402Z",
         "2025-08-19T19:36:46.402Z"
        ],
        [
         "PROD_00117",
         117,
         "2025-08-19T19:36:46.402Z",
         "2025-08-19T19:36:46.402Z"
        ],
        [
         "PROD_00118",
         118,
         "2025-08-19T19:36:46.402Z",
         "2025-08-19T19:36:46.402Z"
        ],
        [
         "PROD_00119",
         119,
         "2025-08-19T19:36:46.402Z",
         "2025-08-19T19:36:46.402Z"
        ],
        [
         "PROD_00120",
         120,
         "2025-08-19T19:36:46.402Z",
         "2025-08-19T19:36:46.402Z"
        ],
        [
         "PROD_00121",
         121,
         "2025-08-19T19:36:46.402Z",
         "2025-08-19T19:36:46.402Z"
        ],
        [
         "PROD_00122",
         122,
         "2025-08-19T19:36:46.402Z",
         "2025-08-19T19:36:46.402Z"
        ],
        [
         "PROD_00123",
         123,
         "2025-08-19T19:36:46.402Z",
         "2025-08-19T19:36:46.402Z"
        ],
        [
         "PROD_00124",
         124,
         "2025-08-19T19:36:46.402Z",
         "2025-08-19T19:36:46.402Z"
        ],
        [
         "PROD_00125",
         125,
         "2025-08-19T19:36:46.402Z",
         "2025-08-19T19:36:46.402Z"
        ],
        [
         "PROD_00126",
         126,
         "2025-08-19T19:36:46.402Z",
         "2025-08-19T19:36:46.402Z"
        ],
        [
         "PROD_00127",
         127,
         "2025-08-19T19:36:46.402Z",
         "2025-08-19T19:36:46.402Z"
        ],
        [
         "PROD_00128",
         128,
         "2025-08-19T19:36:46.402Z",
         "2025-08-19T19:36:46.402Z"
        ],
        [
         "PROD_00129",
         129,
         "2025-08-19T19:36:46.402Z",
         "2025-08-19T19:36:46.402Z"
        ],
        [
         "PROD_00130",
         130,
         "2025-08-19T19:36:46.402Z",
         "2025-08-19T19:36:46.402Z"
        ],
        [
         "PROD_00131",
         131,
         "2025-08-19T19:36:46.402Z",
         "2025-08-19T19:36:46.402Z"
        ],
        [
         "PROD_00132",
         132,
         "2025-08-19T19:36:46.402Z",
         "2025-08-19T19:36:46.402Z"
        ],
        [
         "PROD_00133",
         133,
         "2025-08-19T19:36:46.402Z",
         "2025-08-19T19:36:46.402Z"
        ],
        [
         "PROD_00134",
         134,
         "2025-08-19T19:36:46.402Z",
         "2025-08-19T19:36:46.402Z"
        ],
        [
         "PROD_00135",
         135,
         "2025-08-19T19:36:46.402Z",
         "2025-08-19T19:36:46.402Z"
        ],
        [
         "PROD_00136",
         136,
         "2025-08-19T19:36:46.402Z",
         "2025-08-19T19:36:46.402Z"
        ],
        [
         "PROD_00137",
         137,
         "2025-08-19T19:36:46.402Z",
         "2025-08-19T19:36:46.402Z"
        ],
        [
         "PROD_00138",
         138,
         "2025-08-19T19:36:46.402Z",
         "2025-08-19T19:36:46.402Z"
        ],
        [
         "PROD_00139",
         139,
         "2025-08-19T19:36:46.402Z",
         "2025-08-19T19:36:46.402Z"
        ],
        [
         "PROD_00140",
         140,
         "2025-08-19T19:36:46.402Z",
         "2025-08-19T19:36:46.402Z"
        ],
        [
         "PROD_00141",
         141,
         "2025-08-19T19:36:46.402Z",
         "2025-08-19T19:36:46.402Z"
        ],
        [
         "PROD_00142",
         142,
         "2025-08-19T19:36:46.402Z",
         "2025-08-19T19:36:46.402Z"
        ],
        [
         "PROD_00143",
         143,
         "2025-08-19T19:36:46.402Z",
         "2025-08-19T19:36:46.402Z"
        ],
        [
         "PROD_00144",
         144,
         "2025-08-19T19:36:46.402Z",
         "2025-08-19T19:36:46.402Z"
        ],
        [
         "PROD_00145",
         145,
         "2025-08-19T19:36:46.402Z",
         "2025-08-19T19:36:46.402Z"
        ],
        [
         "PROD_00146",
         146,
         "2025-08-19T19:36:46.402Z",
         "2025-08-19T19:36:46.402Z"
        ],
        [
         "PROD_00147",
         147,
         "2025-08-19T19:36:46.402Z",
         "2025-08-19T19:36:46.402Z"
        ],
        [
         "PROD_00148",
         148,
         "2025-08-19T19:36:46.402Z",
         "2025-08-19T19:36:46.402Z"
        ],
        [
         "PROD_00149",
         149,
         "2025-08-19T19:36:46.402Z",
         "2025-08-19T19:36:46.402Z"
        ],
        [
         "PROD_00150",
         150,
         "2025-08-19T19:36:46.402Z",
         "2025-08-19T19:36:46.402Z"
        ],
        [
         "PROD_00151",
         151,
         "2025-08-19T19:36:46.402Z",
         "2025-08-19T19:36:46.402Z"
        ],
        [
         "PROD_00152",
         152,
         "2025-08-19T19:36:46.402Z",
         "2025-08-19T19:36:46.402Z"
        ],
        [
         "PROD_00153",
         153,
         "2025-08-19T19:36:46.402Z",
         "2025-08-19T19:36:46.402Z"
        ],
        [
         "PROD_00154",
         154,
         "2025-08-19T19:36:46.402Z",
         "2025-08-19T19:36:46.402Z"
        ],
        [
         "PROD_00155",
         155,
         "2025-08-19T19:36:46.402Z",
         "2025-08-19T19:36:46.402Z"
        ],
        [
         "PROD_00156",
         156,
         "2025-08-19T19:36:46.402Z",
         "2025-08-19T19:36:46.402Z"
        ],
        [
         "PROD_00157",
         157,
         "2025-08-19T19:36:46.402Z",
         "2025-08-19T19:36:46.402Z"
        ],
        [
         "PROD_00158",
         158,
         "2025-08-19T19:36:46.402Z",
         "2025-08-19T19:36:46.402Z"
        ],
        [
         "PROD_00159",
         159,
         "2025-08-19T19:36:46.402Z",
         "2025-08-19T19:36:46.402Z"
        ],
        [
         "PROD_00160",
         160,
         "2025-08-19T19:36:46.402Z",
         "2025-08-19T19:36:46.402Z"
        ],
        [
         "PROD_00161",
         161,
         "2025-08-19T19:36:46.402Z",
         "2025-08-19T19:36:46.402Z"
        ],
        [
         "PROD_00162",
         162,
         "2025-08-19T19:36:46.402Z",
         "2025-08-19T19:36:46.402Z"
        ],
        [
         "PROD_00163",
         163,
         "2025-08-19T19:36:46.402Z",
         "2025-08-19T19:36:46.402Z"
        ],
        [
         "PROD_00164",
         164,
         "2025-08-19T19:36:46.402Z",
         "2025-08-19T19:36:46.402Z"
        ],
        [
         "PROD_00165",
         165,
         "2025-08-19T19:36:46.402Z",
         "2025-08-19T19:36:46.402Z"
        ],
        [
         "PROD_00166",
         166,
         "2025-08-19T19:36:46.402Z",
         "2025-08-19T19:36:46.402Z"
        ],
        [
         "PROD_00167",
         167,
         "2025-08-19T19:36:46.402Z",
         "2025-08-19T19:36:46.402Z"
        ],
        [
         "PROD_00168",
         168,
         "2025-08-19T19:36:46.402Z",
         "2025-08-19T19:36:46.402Z"
        ],
        [
         "PROD_00169",
         169,
         "2025-08-19T19:36:46.402Z",
         "2025-08-19T19:36:46.402Z"
        ],
        [
         "PROD_00170",
         170,
         "2025-08-19T19:36:46.402Z",
         "2025-08-19T19:36:46.402Z"
        ],
        [
         "PROD_00171",
         171,
         "2025-08-19T19:36:46.402Z",
         "2025-08-19T19:36:46.402Z"
        ],
        [
         "PROD_00172",
         172,
         "2025-08-19T19:36:46.402Z",
         "2025-08-19T19:36:46.402Z"
        ],
        [
         "PROD_00173",
         173,
         "2025-08-19T19:36:46.402Z",
         "2025-08-19T19:36:46.402Z"
        ],
        [
         "PROD_00174",
         174,
         "2025-08-19T19:36:46.402Z",
         "2025-08-19T19:36:46.402Z"
        ],
        [
         "PROD_00175",
         175,
         "2025-08-19T19:36:46.402Z",
         "2025-08-19T19:36:46.402Z"
        ],
        [
         "PROD_00176",
         176,
         "2025-08-19T19:36:46.402Z",
         "2025-08-19T19:36:46.402Z"
        ],
        [
         "PROD_00177",
         177,
         "2025-08-19T19:36:46.402Z",
         "2025-08-19T19:36:46.402Z"
        ],
        [
         "PROD_00178",
         178,
         "2025-08-19T19:36:46.402Z",
         "2025-08-19T19:36:46.402Z"
        ],
        [
         "PROD_00179",
         179,
         "2025-08-19T19:36:46.402Z",
         "2025-08-19T19:36:46.402Z"
        ],
        [
         "PROD_00180",
         180,
         "2025-08-19T19:36:46.402Z",
         "2025-08-19T19:36:46.402Z"
        ],
        [
         "PROD_00181",
         181,
         "2025-08-19T19:36:46.402Z",
         "2025-08-19T19:36:46.402Z"
        ],
        [
         "PROD_00182",
         182,
         "2025-08-19T19:36:46.402Z",
         "2025-08-19T19:36:46.402Z"
        ],
        [
         "PROD_00183",
         183,
         "2025-08-19T19:36:46.402Z",
         "2025-08-19T19:36:46.402Z"
        ],
        [
         "PROD_00184",
         184,
         "2025-08-19T19:36:46.402Z",
         "2025-08-19T19:36:46.402Z"
        ],
        [
         "PROD_00185",
         185,
         "2025-08-19T19:36:46.402Z",
         "2025-08-19T19:36:46.402Z"
        ],
        [
         "PROD_00186",
         186,
         "2025-08-19T19:36:46.402Z",
         "2025-08-19T19:36:46.402Z"
        ],
        [
         "PROD_00187",
         187,
         "2025-08-19T19:36:46.402Z",
         "2025-08-19T19:36:46.402Z"
        ],
        [
         "PROD_00188",
         188,
         "2025-08-19T19:36:46.402Z",
         "2025-08-19T19:36:46.402Z"
        ],
        [
         "PROD_00189",
         189,
         "2025-08-19T19:36:46.402Z",
         "2025-08-19T19:36:46.402Z"
        ],
        [
         "PROD_00190",
         190,
         "2025-08-19T19:36:46.402Z",
         "2025-08-19T19:36:46.402Z"
        ],
        [
         "PROD_00191",
         191,
         "2025-08-19T19:36:46.402Z",
         "2025-08-19T19:36:46.402Z"
        ],
        [
         "PROD_00192",
         192,
         "2025-08-19T19:36:46.402Z",
         "2025-08-19T19:36:46.402Z"
        ],
        [
         "PROD_00193",
         193,
         "2025-08-19T19:36:46.402Z",
         "2025-08-19T19:36:46.402Z"
        ],
        [
         "PROD_00194",
         194,
         "2025-08-19T19:36:46.402Z",
         "2025-08-19T19:36:46.402Z"
        ],
        [
         "PROD_00195",
         195,
         "2025-08-19T19:36:46.402Z",
         "2025-08-19T19:36:46.402Z"
        ],
        [
         "PROD_00196",
         196,
         "2025-08-19T19:36:46.402Z",
         "2025-08-19T19:36:46.402Z"
        ],
        [
         "PROD_00197",
         197,
         "2025-08-19T19:36:46.402Z",
         "2025-08-19T19:36:46.402Z"
        ],
        [
         "PROD_00198",
         198,
         "2025-08-19T19:36:46.402Z",
         "2025-08-19T19:36:46.402Z"
        ],
        [
         "PROD_00199",
         199,
         "2025-08-19T19:36:46.402Z",
         "2025-08-19T19:36:46.402Z"
        ],
        [
         "PROD_00200",
         200,
         "2025-08-19T19:36:46.402Z",
         "2025-08-19T19:36:46.402Z"
        ],
        [
         "PROD_00201",
         201,
         "2025-08-19T19:36:46.402Z",
         "2025-08-19T19:36:46.402Z"
        ],
        [
         "PROD_00202",
         202,
         "2025-08-19T19:36:46.402Z",
         "2025-08-19T19:36:46.402Z"
        ],
        [
         "PROD_00203",
         203,
         "2025-08-19T19:36:46.402Z",
         "2025-08-19T19:36:46.402Z"
        ],
        [
         "PROD_00204",
         204,
         "2025-08-19T19:36:46.402Z",
         "2025-08-19T19:36:46.402Z"
        ],
        [
         "PROD_00205",
         205,
         "2025-08-19T19:36:46.402Z",
         "2025-08-19T19:36:46.402Z"
        ],
        [
         "PROD_00206",
         206,
         "2025-08-19T19:36:46.402Z",
         "2025-08-19T19:36:46.402Z"
        ],
        [
         "PROD_00207",
         207,
         "2025-08-19T19:36:46.402Z",
         "2025-08-19T19:36:46.402Z"
        ],
        [
         "PROD_00208",
         208,
         "2025-08-19T19:36:46.402Z",
         "2025-08-19T19:36:46.402Z"
        ],
        [
         "PROD_00209",
         209,
         "2025-08-19T19:36:46.402Z",
         "2025-08-19T19:36:46.402Z"
        ],
        [
         "PROD_00210",
         210,
         "2025-08-19T19:36:46.402Z",
         "2025-08-19T19:36:46.402Z"
        ]
       ],
       "datasetInfos": [],
       "dbfsResultPath": null,
       "isJsonSchema": true,
       "metadata": {},
       "overflow": false,
       "plotOptions": {
        "customPlotOptions": {},
        "displayType": "table",
        "pivotAggregation": null,
        "pivotColumns": null,
        "xColumns": null,
        "yColumns": null
       },
       "removedWidgets": [],
       "schema": [
        {
         "metadata": "{}",
         "name": "product_id",
         "type": "\"string\""
        },
        {
         "metadata": "{}",
         "name": "product_sk",
         "type": "\"integer\""
        },
        {
         "metadata": "{}",
         "name": "create_date",
         "type": "\"timestamp\""
        },
        {
         "metadata": "{}",
         "name": "update_date",
         "type": "\"timestamp\""
        }
       ],
       "type": "table"
      }
     },
     "output_type": "display_data"
    }
   ],
   "source": [
    "df_target.display()"
   ]
  },
  {
   "cell_type": "markdown",
   "metadata": {
    "application/vnd.databricks.v1+cell": {
     "cellMetadata": {
      "byteLimit": 2048000,
      "rowLimit": 10000
     },
     "inputWidgets": {},
     "nuid": "06ae9e09-f162-4a01-972d-bedd4672af2f",
     "showTitle": false,
     "tableResultSettingsMap": {},
     "title": ""
    }
   },
   "source": [
    "1. **Creation of temporary views**  \n",
    "   - **`src`** → new or modified data obtained from the source table.  \n",
    "   - **`target`** → current dimension records in the target table.\n",
    "\n",
    "2. **Construction of the join condition**  \n",
    "   - The natural key columns (`key_cols_list`) are used to link source and target records.\n",
    "\n",
    "3. **LEFT JOIN** between `src` and `target`  \n",
    "   - Returns **all** records from `src`.  \n",
    "   - If a `src` record also exists in `target` (natural keys match), its `create_date` and `update_date` values are retrieved.  \n",
    "   - If it does not exist in `target`, these fields remain null.\n"
   ]
  },
  {
   "cell_type": "code",
   "execution_count": 0,
   "metadata": {
    "application/vnd.databricks.v1+cell": {
     "cellMetadata": {
      "byteLimit": 2048000,
      "rowLimit": 10000
     },
     "inputWidgets": {},
     "nuid": "ef198329-fe30-46fc-a622-a4ce6047722c",
     "showTitle": false,
     "tableResultSettingsMap": {},
     "title": ""
    }
   },
   "outputs": [],
   "source": [
    "df_src.createOrReplaceTempView(\"src\")\n",
    "df_target.createOrReplaceTempView(\"target\")"
   ]
  },
  {
   "cell_type": "code",
   "execution_count": 0,
   "metadata": {
    "application/vnd.databricks.v1+cell": {
     "cellMetadata": {
      "byteLimit": 2048000,
      "rowLimit": 10000
     },
     "inputWidgets": {},
     "nuid": "1c8448e9-bff5-4c27-af86-5882cac88017",
     "showTitle": false,
     "tableResultSettingsMap": {},
     "title": ""
    }
   },
   "outputs": [],
   "source": [
    "join_condition = ' AND '.join([f\"src.{i} = target.{i}\" for i in key_cols_list])\n",
    "\n",
    "df_join = spark.sql(f\"\"\"\n",
    "    SELECT src.*, target.create_date, target.update_date\n",
    "    FROM src\n",
    "    LEFT JOIN target\n",
    "    ON ({join_condition})\n",
    "\"\"\")"
   ]
  },
  {
   "cell_type": "code",
   "execution_count": 0,
   "metadata": {
    "application/vnd.databricks.v1+cell": {
     "cellMetadata": {
      "byteLimit": 2048000,
      "rowLimit": 10000
     },
     "inputWidgets": {},
     "nuid": "78266b39-ea9a-45c0-ad69-5e258e3928e0",
     "showTitle": false,
     "tableResultSettingsMap": {
      "0": {
       "dataGridStateBlob": "{\"version\":1,\"tableState\":{\"columnPinning\":{\"left\":[\"#row_number#\"],\"right\":[]},\"columnSizing\":{},\"columnVisibility\":{}},\"settings\":{\"columns\":{}},\"syncTimestamp\":1754517880002}",
       "filterBlob": null,
       "queryPlanFiltersBlob": null,
       "tableResultIndex": 0
      }
     },
     "title": ""
    }
   },
   "outputs": [
    {
     "data": {
      "text/html": [
       "<style scoped>\n",
       "  .table-result-container {\n",
       "    max-height: 300px;\n",
       "    overflow: auto;\n",
       "  }\n",
       "  table, th, td {\n",
       "    border: 1px solid black;\n",
       "    border-collapse: collapse;\n",
       "  }\n",
       "  th, td {\n",
       "    padding: 5px;\n",
       "  }\n",
       "  th {\n",
       "    text-align: left;\n",
       "  }\n",
       "</style><div class='table-result-container'><table class='table-result'><thead style='background-color: white'><tr><th>product_sk</th><th>product_id</th><th>product_name</th><th>category</th><th>brand</th><th>origin_location</th><th>modified_date</th><th>create_date</th><th>update_date</th></tr></thead><tbody><tr><td>10</td><td>PROD_00010</td><td>QLED 4K TV</td><td>Electronics</td><td>Samsung</td><td>San Francisco</td><td>2025-08-19T21:02:10.523Z</td><td>2025-08-19T19:36:46.402Z</td><td>2025-08-19T19:36:46.402Z</td></tr><tr><td>208</td><td>PROD_00208</td><td>Training Pants</td><td>Sports & Outdoors</td><td>Reebok</td><td>San Francisco</td><td>2025-08-19T21:02:10.523Z</td><td>2025-08-19T19:36:46.402Z</td><td>2025-08-19T19:36:46.402Z</td></tr><tr><td>3</td><td>PROD_00003</td><td>PlayStation 5</td><td>Electronics</td><td>Sony</td><td>San Francisco</td><td>2025-08-19T21:02:10.523Z</td><td>2025-08-19T19:36:46.402Z</td><td>2025-08-19T19:36:46.402Z</td></tr><tr><td>186</td><td>PROD_00186</td><td>Yoga Mat</td><td>Sports & Outdoors</td><td>Nike</td><td>San Francisco</td><td>2025-08-19T21:02:10.523Z</td><td>2025-08-19T19:36:46.402Z</td><td>2025-08-19T19:36:46.402Z</td></tr><tr><td>78</td><td>PROD_00078</td><td>Ultraboost 22</td><td>Clothing</td><td>Adidas</td><td>San Francisco</td><td>2025-08-19T21:02:10.523Z</td><td>2025-08-19T19:36:46.402Z</td><td>2025-08-19T19:36:46.402Z</td></tr><tr><td>214</td><td>PROD_00215</td><td>Golf Clubs Set</td><td>Sports & Outdoors</td><td>Callaway</td><td>Phoenix</td><td>2025-08-19T21:02:10.523Z</td><td>null</td><td>null</td></tr><tr><td>215</td><td>PROD_00216</td><td>Hiking Boots</td><td>Sports & Outdoors</td><td>Merrell</td><td>Portland</td><td>2025-08-19T21:02:10.523Z</td><td>null</td><td>null</td></tr><tr><td>211</td><td>PROD_00211</td><td>Boxing Gloves</td><td>Sports & Outdoors</td><td>Everlast</td><td>Chicago</td><td>2025-08-19T21:02:10.523Z</td><td>null</td><td>null</td></tr><tr><td>216</td><td>PROD_00217</td><td>Skateboard</td><td>Sports & Outdoors</td><td>Element</td><td>Santa Cruz</td><td>2025-08-19T21:02:10.523Z</td><td>null</td><td>null</td></tr><tr><td>212</td><td>PROD_00212</td><td>Cycling Helmet</td><td>Sports & Outdoors</td><td>Giro</td><td>Denver</td><td>2025-08-19T21:02:10.523Z</td><td>null</td><td>null</td></tr><tr><td>213</td><td>PROD_00213</td><td>Climbing Rope</td><td>Sports & Outdoors</td><td>Black Diamond</td><td>Boulder</td><td>2025-08-19T21:02:10.523Z</td><td>null</td><td>null</td></tr></tbody></table></div>"
      ]
     },
     "metadata": {
      "application/vnd.databricks.v1+output": {
       "addedWidgets": {},
       "aggData": [],
       "aggError": "",
       "aggOverflow": false,
       "aggSchema": [],
       "aggSeriesLimitReached": false,
       "aggType": "",
       "arguments": {},
       "columnCustomDisplayInfos": {},
       "data": [
        [
         10,
         "PROD_00010",
         "QLED 4K TV",
         "Electronics",
         "Samsung",
         "San Francisco",
         "2025-08-19T21:02:10.523Z",
         "2025-08-19T19:36:46.402Z",
         "2025-08-19T19:36:46.402Z"
        ],
        [
         208,
         "PROD_00208",
         "Training Pants",
         "Sports & Outdoors",
         "Reebok",
         "San Francisco",
         "2025-08-19T21:02:10.523Z",
         "2025-08-19T19:36:46.402Z",
         "2025-08-19T19:36:46.402Z"
        ],
        [
         3,
         "PROD_00003",
         "PlayStation 5",
         "Electronics",
         "Sony",
         "San Francisco",
         "2025-08-19T21:02:10.523Z",
         "2025-08-19T19:36:46.402Z",
         "2025-08-19T19:36:46.402Z"
        ],
        [
         186,
         "PROD_00186",
         "Yoga Mat",
         "Sports & Outdoors",
         "Nike",
         "San Francisco",
         "2025-08-19T21:02:10.523Z",
         "2025-08-19T19:36:46.402Z",
         "2025-08-19T19:36:46.402Z"
        ],
        [
         78,
         "PROD_00078",
         "Ultraboost 22",
         "Clothing",
         "Adidas",
         "San Francisco",
         "2025-08-19T21:02:10.523Z",
         "2025-08-19T19:36:46.402Z",
         "2025-08-19T19:36:46.402Z"
        ],
        [
         214,
         "PROD_00215",
         "Golf Clubs Set",
         "Sports & Outdoors",
         "Callaway",
         "Phoenix",
         "2025-08-19T21:02:10.523Z",
         null,
         null
        ],
        [
         215,
         "PROD_00216",
         "Hiking Boots",
         "Sports & Outdoors",
         "Merrell",
         "Portland",
         "2025-08-19T21:02:10.523Z",
         null,
         null
        ],
        [
         211,
         "PROD_00211",
         "Boxing Gloves",
         "Sports & Outdoors",
         "Everlast",
         "Chicago",
         "2025-08-19T21:02:10.523Z",
         null,
         null
        ],
        [
         216,
         "PROD_00217",
         "Skateboard",
         "Sports & Outdoors",
         "Element",
         "Santa Cruz",
         "2025-08-19T21:02:10.523Z",
         null,
         null
        ],
        [
         212,
         "PROD_00212",
         "Cycling Helmet",
         "Sports & Outdoors",
         "Giro",
         "Denver",
         "2025-08-19T21:02:10.523Z",
         null,
         null
        ],
        [
         213,
         "PROD_00213",
         "Climbing Rope",
         "Sports & Outdoors",
         "Black Diamond",
         "Boulder",
         "2025-08-19T21:02:10.523Z",
         null,
         null
        ]
       ],
       "datasetInfos": [],
       "dbfsResultPath": null,
       "isJsonSchema": true,
       "metadata": {},
       "overflow": false,
       "plotOptions": {
        "customPlotOptions": {},
        "displayType": "table",
        "pivotAggregation": null,
        "pivotColumns": null,
        "xColumns": null,
        "yColumns": null
       },
       "removedWidgets": [],
       "schema": [
        {
         "metadata": "{}",
         "name": "product_sk",
         "type": "\"integer\""
        },
        {
         "metadata": "{}",
         "name": "product_id",
         "type": "\"string\""
        },
        {
         "metadata": "{}",
         "name": "product_name",
         "type": "\"string\""
        },
        {
         "metadata": "{}",
         "name": "category",
         "type": "\"string\""
        },
        {
         "metadata": "{}",
         "name": "brand",
         "type": "\"string\""
        },
        {
         "metadata": "{}",
         "name": "origin_location",
         "type": "\"string\""
        },
        {
         "metadata": "{}",
         "name": "modified_date",
         "type": "\"timestamp\""
        },
        {
         "metadata": "{}",
         "name": "create_date",
         "type": "\"timestamp\""
        },
        {
         "metadata": "{}",
         "name": "update_date",
         "type": "\"timestamp\""
        }
       ],
       "type": "table"
      }
     },
     "output_type": "display_data"
    }
   ],
   "source": [
    "df_join.display()"
   ]
  },
  {
   "cell_type": "markdown",
   "metadata": {
    "application/vnd.databricks.v1+cell": {
     "cellMetadata": {
      "byteLimit": 2048000,
      "rowLimit": 10000
     },
     "inputWidgets": {},
     "nuid": "9a491cab-c15d-494a-8a0b-b6c74dee1618",
     "showTitle": false,
     "tableResultSettingsMap": {},
     "title": ""
    }
   },
   "source": [
    "\n",
    "4. **Post-classification**  \n",
    "   - **`df_old`** → Records found in the target (`create_date` not null) → will be **updated**.  \n",
    "   - **`df_new`** → Records not existing in the target (`create_date` null) → will be **inserted**.\n"
   ]
  },
  {
   "cell_type": "code",
   "execution_count": 0,
   "metadata": {
    "application/vnd.databricks.v1+cell": {
     "cellMetadata": {
      "byteLimit": 2048000,
      "rowLimit": 10000
     },
     "inputWidgets": {},
     "nuid": "8725decc-944b-4d52-ba2d-e603649e750b",
     "showTitle": false,
     "tableResultSettingsMap": {},
     "title": ""
    }
   },
   "outputs": [],
   "source": [
    "df_old = df_join.filter(col(\"create_date\").isNotNull())\n",
    "df_new = df_join.filter(col(\"create_date\").isNull())"
   ]
  },
  {
   "cell_type": "code",
   "execution_count": 0,
   "metadata": {
    "application/vnd.databricks.v1+cell": {
     "cellMetadata": {
      "byteLimit": 2048000,
      "rowLimit": 10000
     },
     "inputWidgets": {},
     "nuid": "5ebd2efa-e2e3-48c1-8dd2-b661f3decf42",
     "showTitle": false,
     "tableResultSettingsMap": {
      "0": {
       "dataGridStateBlob": "{\"version\":1,\"tableState\":{\"columnPinning\":{\"left\":[\"#row_number#\"],\"right\":[]},\"columnSizing\":{},\"columnVisibility\":{}},\"settings\":{\"columns\":{}},\"syncTimestamp\":1754594083179}",
       "filterBlob": null,
       "queryPlanFiltersBlob": null,
       "tableResultIndex": 0
      }
     },
     "title": ""
    }
   },
   "outputs": [
    {
     "data": {
      "text/html": [
       "<style scoped>\n",
       "  .table-result-container {\n",
       "    max-height: 300px;\n",
       "    overflow: auto;\n",
       "  }\n",
       "  table, th, td {\n",
       "    border: 1px solid black;\n",
       "    border-collapse: collapse;\n",
       "  }\n",
       "  th, td {\n",
       "    padding: 5px;\n",
       "  }\n",
       "  th {\n",
       "    text-align: left;\n",
       "  }\n",
       "</style><div class='table-result-container'><table class='table-result'><thead style='background-color: white'><tr><th>product_sk</th><th>product_id</th><th>product_name</th><th>category</th><th>brand</th><th>origin_location</th><th>modified_date</th><th>create_date</th><th>update_date</th></tr></thead><tbody><tr><td>3</td><td>PROD_00003</td><td>PlayStation 5</td><td>Electronics</td><td>Sony</td><td>San Francisco</td><td>2025-08-19T21:02:10.523Z</td><td>2025-08-19T19:36:46.402Z</td><td>2025-08-19T19:36:46.402Z</td></tr><tr><td>10</td><td>PROD_00010</td><td>QLED 4K TV</td><td>Electronics</td><td>Samsung</td><td>San Francisco</td><td>2025-08-19T21:02:10.523Z</td><td>2025-08-19T19:36:46.402Z</td><td>2025-08-19T19:36:46.402Z</td></tr><tr><td>78</td><td>PROD_00078</td><td>Ultraboost 22</td><td>Clothing</td><td>Adidas</td><td>San Francisco</td><td>2025-08-19T21:02:10.523Z</td><td>2025-08-19T19:36:46.402Z</td><td>2025-08-19T19:36:46.402Z</td></tr><tr><td>186</td><td>PROD_00186</td><td>Yoga Mat</td><td>Sports & Outdoors</td><td>Nike</td><td>San Francisco</td><td>2025-08-19T21:02:10.523Z</td><td>2025-08-19T19:36:46.402Z</td><td>2025-08-19T19:36:46.402Z</td></tr><tr><td>208</td><td>PROD_00208</td><td>Training Pants</td><td>Sports & Outdoors</td><td>Reebok</td><td>San Francisco</td><td>2025-08-19T21:02:10.523Z</td><td>2025-08-19T19:36:46.402Z</td><td>2025-08-19T19:36:46.402Z</td></tr></tbody></table></div>"
      ]
     },
     "metadata": {
      "application/vnd.databricks.v1+output": {
       "addedWidgets": {},
       "aggData": [],
       "aggError": "",
       "aggOverflow": false,
       "aggSchema": [],
       "aggSeriesLimitReached": false,
       "aggType": "",
       "arguments": {},
       "columnCustomDisplayInfos": {},
       "data": [
        [
         3,
         "PROD_00003",
         "PlayStation 5",
         "Electronics",
         "Sony",
         "San Francisco",
         "2025-08-19T21:02:10.523Z",
         "2025-08-19T19:36:46.402Z",
         "2025-08-19T19:36:46.402Z"
        ],
        [
         10,
         "PROD_00010",
         "QLED 4K TV",
         "Electronics",
         "Samsung",
         "San Francisco",
         "2025-08-19T21:02:10.523Z",
         "2025-08-19T19:36:46.402Z",
         "2025-08-19T19:36:46.402Z"
        ],
        [
         78,
         "PROD_00078",
         "Ultraboost 22",
         "Clothing",
         "Adidas",
         "San Francisco",
         "2025-08-19T21:02:10.523Z",
         "2025-08-19T19:36:46.402Z",
         "2025-08-19T19:36:46.402Z"
        ],
        [
         186,
         "PROD_00186",
         "Yoga Mat",
         "Sports & Outdoors",
         "Nike",
         "San Francisco",
         "2025-08-19T21:02:10.523Z",
         "2025-08-19T19:36:46.402Z",
         "2025-08-19T19:36:46.402Z"
        ],
        [
         208,
         "PROD_00208",
         "Training Pants",
         "Sports & Outdoors",
         "Reebok",
         "San Francisco",
         "2025-08-19T21:02:10.523Z",
         "2025-08-19T19:36:46.402Z",
         "2025-08-19T19:36:46.402Z"
        ]
       ],
       "datasetInfos": [],
       "dbfsResultPath": null,
       "isJsonSchema": true,
       "metadata": {},
       "overflow": false,
       "plotOptions": {
        "customPlotOptions": {},
        "displayType": "table",
        "pivotAggregation": null,
        "pivotColumns": null,
        "xColumns": null,
        "yColumns": null
       },
       "removedWidgets": [],
       "schema": [
        {
         "metadata": "{}",
         "name": "product_sk",
         "type": "\"integer\""
        },
        {
         "metadata": "{}",
         "name": "product_id",
         "type": "\"string\""
        },
        {
         "metadata": "{}",
         "name": "product_name",
         "type": "\"string\""
        },
        {
         "metadata": "{}",
         "name": "category",
         "type": "\"string\""
        },
        {
         "metadata": "{}",
         "name": "brand",
         "type": "\"string\""
        },
        {
         "metadata": "{}",
         "name": "origin_location",
         "type": "\"string\""
        },
        {
         "metadata": "{}",
         "name": "modified_date",
         "type": "\"timestamp\""
        },
        {
         "metadata": "{}",
         "name": "create_date",
         "type": "\"timestamp\""
        },
        {
         "metadata": "{}",
         "name": "update_date",
         "type": "\"timestamp\""
        }
       ],
       "type": "table"
      }
     },
     "output_type": "display_data"
    }
   ],
   "source": [
    "df_old.display()"
   ]
  },
  {
   "cell_type": "code",
   "execution_count": 0,
   "metadata": {
    "application/vnd.databricks.v1+cell": {
     "cellMetadata": {
      "byteLimit": 2048000,
      "rowLimit": 10000
     },
     "inputWidgets": {},
     "nuid": "72079e2f-98c5-473b-abfc-fa7d6ff067eb",
     "showTitle": false,
     "tableResultSettingsMap": {},
     "title": ""
    }
   },
   "outputs": [
    {
     "data": {
      "text/html": [
       "<style scoped>\n",
       "  .table-result-container {\n",
       "    max-height: 300px;\n",
       "    overflow: auto;\n",
       "  }\n",
       "  table, th, td {\n",
       "    border: 1px solid black;\n",
       "    border-collapse: collapse;\n",
       "  }\n",
       "  th, td {\n",
       "    padding: 5px;\n",
       "  }\n",
       "  th {\n",
       "    text-align: left;\n",
       "  }\n",
       "</style><div class='table-result-container'><table class='table-result'><thead style='background-color: white'><tr><th>product_sk</th><th>product_id</th><th>product_name</th><th>category</th><th>brand</th><th>origin_location</th><th>modified_date</th><th>create_date</th><th>update_date</th></tr></thead><tbody><tr><td>214</td><td>PROD_00215</td><td>Golf Clubs Set</td><td>Sports & Outdoors</td><td>Callaway</td><td>Phoenix</td><td>2025-08-19T21:02:10.523Z</td><td>null</td><td>null</td></tr><tr><td>215</td><td>PROD_00216</td><td>Hiking Boots</td><td>Sports & Outdoors</td><td>Merrell</td><td>Portland</td><td>2025-08-19T21:02:10.523Z</td><td>null</td><td>null</td></tr><tr><td>211</td><td>PROD_00211</td><td>Boxing Gloves</td><td>Sports & Outdoors</td><td>Everlast</td><td>Chicago</td><td>2025-08-19T21:02:10.523Z</td><td>null</td><td>null</td></tr><tr><td>216</td><td>PROD_00217</td><td>Skateboard</td><td>Sports & Outdoors</td><td>Element</td><td>Santa Cruz</td><td>2025-08-19T21:02:10.523Z</td><td>null</td><td>null</td></tr><tr><td>212</td><td>PROD_00212</td><td>Cycling Helmet</td><td>Sports & Outdoors</td><td>Giro</td><td>Denver</td><td>2025-08-19T21:02:10.523Z</td><td>null</td><td>null</td></tr><tr><td>213</td><td>PROD_00213</td><td>Climbing Rope</td><td>Sports & Outdoors</td><td>Black Diamond</td><td>Boulder</td><td>2025-08-19T21:02:10.523Z</td><td>null</td><td>null</td></tr></tbody></table></div>"
      ]
     },
     "metadata": {
      "application/vnd.databricks.v1+output": {
       "addedWidgets": {},
       "aggData": [],
       "aggError": "",
       "aggOverflow": false,
       "aggSchema": [],
       "aggSeriesLimitReached": false,
       "aggType": "",
       "arguments": {},
       "columnCustomDisplayInfos": {},
       "data": [
        [
         214,
         "PROD_00215",
         "Golf Clubs Set",
         "Sports & Outdoors",
         "Callaway",
         "Phoenix",
         "2025-08-19T21:02:10.523Z",
         null,
         null
        ],
        [
         215,
         "PROD_00216",
         "Hiking Boots",
         "Sports & Outdoors",
         "Merrell",
         "Portland",
         "2025-08-19T21:02:10.523Z",
         null,
         null
        ],
        [
         211,
         "PROD_00211",
         "Boxing Gloves",
         "Sports & Outdoors",
         "Everlast",
         "Chicago",
         "2025-08-19T21:02:10.523Z",
         null,
         null
        ],
        [
         216,
         "PROD_00217",
         "Skateboard",
         "Sports & Outdoors",
         "Element",
         "Santa Cruz",
         "2025-08-19T21:02:10.523Z",
         null,
         null
        ],
        [
         212,
         "PROD_00212",
         "Cycling Helmet",
         "Sports & Outdoors",
         "Giro",
         "Denver",
         "2025-08-19T21:02:10.523Z",
         null,
         null
        ],
        [
         213,
         "PROD_00213",
         "Climbing Rope",
         "Sports & Outdoors",
         "Black Diamond",
         "Boulder",
         "2025-08-19T21:02:10.523Z",
         null,
         null
        ]
       ],
       "datasetInfos": [],
       "dbfsResultPath": null,
       "isJsonSchema": true,
       "metadata": {},
       "overflow": false,
       "plotOptions": {
        "customPlotOptions": {},
        "displayType": "table",
        "pivotAggregation": null,
        "pivotColumns": null,
        "xColumns": null,
        "yColumns": null
       },
       "removedWidgets": [],
       "schema": [
        {
         "metadata": "{}",
         "name": "product_sk",
         "type": "\"integer\""
        },
        {
         "metadata": "{}",
         "name": "product_id",
         "type": "\"string\""
        },
        {
         "metadata": "{}",
         "name": "product_name",
         "type": "\"string\""
        },
        {
         "metadata": "{}",
         "name": "category",
         "type": "\"string\""
        },
        {
         "metadata": "{}",
         "name": "brand",
         "type": "\"string\""
        },
        {
         "metadata": "{}",
         "name": "origin_location",
         "type": "\"string\""
        },
        {
         "metadata": "{}",
         "name": "modified_date",
         "type": "\"timestamp\""
        },
        {
         "metadata": "{}",
         "name": "create_date",
         "type": "\"timestamp\""
        },
        {
         "metadata": "{}",
         "name": "update_date",
         "type": "\"timestamp\""
        }
       ],
       "type": "table"
      }
     },
     "output_type": "display_data"
    }
   ],
   "source": [
    "df_new.display()"
   ]
  },
  {
   "cell_type": "markdown",
   "metadata": {
    "application/vnd.databricks.v1+cell": {
     "cellMetadata": {
      "byteLimit": 2048000,
      "rowLimit": 10000
     },
     "inputWidgets": {},
     "nuid": "47a40422-e8a2-4d2b-b193-7bb84f6e085c",
     "showTitle": false,
     "tableResultSettingsMap": {},
     "title": ""
    }
   },
   "source": [
    "- **`df_old_enr`** → Existing records, only `update_date` is updated with the current date/time.  \n",
    "- **`df_new_enr`** → New records, both `create_date` and `update_date` are set to the current date/time.  \n",
    "\n",
    "Finally, **`df_union`** combines both sets to prepare the load into the target table.\n"
   ]
  },
  {
   "cell_type": "code",
   "execution_count": 0,
   "metadata": {
    "application/vnd.databricks.v1+cell": {
     "cellMetadata": {
      "byteLimit": 2048000,
      "rowLimit": 10000
     },
     "inputWidgets": {},
     "nuid": "4e0d49ca-f37f-4da9-967f-d958406134ee",
     "showTitle": false,
     "tableResultSettingsMap": {},
     "title": ""
    }
   },
   "outputs": [],
   "source": [
    "df_old_enr = df_old.withColumn(\"update_date\", current_timestamp())"
   ]
  },
  {
   "cell_type": "code",
   "execution_count": 0,
   "metadata": {
    "application/vnd.databricks.v1+cell": {
     "cellMetadata": {
      "byteLimit": 2048000,
      "rowLimit": 10000
     },
     "inputWidgets": {},
     "nuid": "536df63d-5021-496b-9a28-c4f75c9ac77d",
     "showTitle": false,
     "tableResultSettingsMap": {
      "0": {
       "dataGridStateBlob": "{\"version\":1,\"tableState\":{\"columnPinning\":{\"left\":[\"#row_number#\"],\"right\":[]},\"columnSizing\":{},\"columnVisibility\":{}},\"settings\":{\"columns\":{}},\"syncTimestamp\":1755207718428}",
       "filterBlob": null,
       "queryPlanFiltersBlob": null,
       "tableResultIndex": 0
      }
     },
     "title": ""
    }
   },
   "outputs": [
    {
     "data": {
      "text/html": [
       "<style scoped>\n",
       "  .table-result-container {\n",
       "    max-height: 300px;\n",
       "    overflow: auto;\n",
       "  }\n",
       "  table, th, td {\n",
       "    border: 1px solid black;\n",
       "    border-collapse: collapse;\n",
       "  }\n",
       "  th, td {\n",
       "    padding: 5px;\n",
       "  }\n",
       "  th {\n",
       "    text-align: left;\n",
       "  }\n",
       "</style><div class='table-result-container'><table class='table-result'><thead style='background-color: white'><tr><th>product_sk</th><th>product_id</th><th>product_name</th><th>category</th><th>brand</th><th>origin_location</th><th>modified_date</th><th>create_date</th><th>update_date</th></tr></thead><tbody><tr><td>208</td><td>PROD_00208</td><td>Training Pants</td><td>Sports & Outdoors</td><td>Reebok</td><td>San Francisco</td><td>2025-08-19T21:02:10.523Z</td><td>2025-08-19T19:36:46.402Z</td><td>2025-08-19T21:16:06.109Z</td></tr><tr><td>78</td><td>PROD_00078</td><td>Ultraboost 22</td><td>Clothing</td><td>Adidas</td><td>San Francisco</td><td>2025-08-19T21:02:10.523Z</td><td>2025-08-19T19:36:46.402Z</td><td>2025-08-19T21:16:06.109Z</td></tr><tr><td>3</td><td>PROD_00003</td><td>PlayStation 5</td><td>Electronics</td><td>Sony</td><td>San Francisco</td><td>2025-08-19T21:02:10.523Z</td><td>2025-08-19T19:36:46.402Z</td><td>2025-08-19T21:16:06.109Z</td></tr><tr><td>10</td><td>PROD_00010</td><td>QLED 4K TV</td><td>Electronics</td><td>Samsung</td><td>San Francisco</td><td>2025-08-19T21:02:10.523Z</td><td>2025-08-19T19:36:46.402Z</td><td>2025-08-19T21:16:06.109Z</td></tr><tr><td>186</td><td>PROD_00186</td><td>Yoga Mat</td><td>Sports & Outdoors</td><td>Nike</td><td>San Francisco</td><td>2025-08-19T21:02:10.523Z</td><td>2025-08-19T19:36:46.402Z</td><td>2025-08-19T21:16:06.109Z</td></tr></tbody></table></div>"
      ]
     },
     "metadata": {
      "application/vnd.databricks.v1+output": {
       "addedWidgets": {},
       "aggData": [],
       "aggError": "",
       "aggOverflow": false,
       "aggSchema": [],
       "aggSeriesLimitReached": false,
       "aggType": "",
       "arguments": {},
       "columnCustomDisplayInfos": {},
       "data": [
        [
         208,
         "PROD_00208",
         "Training Pants",
         "Sports & Outdoors",
         "Reebok",
         "San Francisco",
         "2025-08-19T21:02:10.523Z",
         "2025-08-19T19:36:46.402Z",
         "2025-08-19T21:16:06.109Z"
        ],
        [
         78,
         "PROD_00078",
         "Ultraboost 22",
         "Clothing",
         "Adidas",
         "San Francisco",
         "2025-08-19T21:02:10.523Z",
         "2025-08-19T19:36:46.402Z",
         "2025-08-19T21:16:06.109Z"
        ],
        [
         3,
         "PROD_00003",
         "PlayStation 5",
         "Electronics",
         "Sony",
         "San Francisco",
         "2025-08-19T21:02:10.523Z",
         "2025-08-19T19:36:46.402Z",
         "2025-08-19T21:16:06.109Z"
        ],
        [
         10,
         "PROD_00010",
         "QLED 4K TV",
         "Electronics",
         "Samsung",
         "San Francisco",
         "2025-08-19T21:02:10.523Z",
         "2025-08-19T19:36:46.402Z",
         "2025-08-19T21:16:06.109Z"
        ],
        [
         186,
         "PROD_00186",
         "Yoga Mat",
         "Sports & Outdoors",
         "Nike",
         "San Francisco",
         "2025-08-19T21:02:10.523Z",
         "2025-08-19T19:36:46.402Z",
         "2025-08-19T21:16:06.109Z"
        ]
       ],
       "datasetInfos": [],
       "dbfsResultPath": null,
       "isJsonSchema": true,
       "metadata": {},
       "overflow": false,
       "plotOptions": {
        "customPlotOptions": {},
        "displayType": "table",
        "pivotAggregation": null,
        "pivotColumns": null,
        "xColumns": null,
        "yColumns": null
       },
       "removedWidgets": [],
       "schema": [
        {
         "metadata": "{}",
         "name": "product_sk",
         "type": "\"integer\""
        },
        {
         "metadata": "{}",
         "name": "product_id",
         "type": "\"string\""
        },
        {
         "metadata": "{}",
         "name": "product_name",
         "type": "\"string\""
        },
        {
         "metadata": "{}",
         "name": "category",
         "type": "\"string\""
        },
        {
         "metadata": "{}",
         "name": "brand",
         "type": "\"string\""
        },
        {
         "metadata": "{}",
         "name": "origin_location",
         "type": "\"string\""
        },
        {
         "metadata": "{}",
         "name": "modified_date",
         "type": "\"timestamp\""
        },
        {
         "metadata": "{}",
         "name": "create_date",
         "type": "\"timestamp\""
        },
        {
         "metadata": "{}",
         "name": "update_date",
         "type": "\"timestamp\""
        }
       ],
       "type": "table"
      }
     },
     "output_type": "display_data"
    }
   ],
   "source": [
    "df_old_enr.display()"
   ]
  },
  {
   "cell_type": "markdown",
   "metadata": {
    "application/vnd.databricks.v1+cell": {
     "cellMetadata": {
      "byteLimit": 2048000,
      "rowLimit": 10000
     },
     "inputWidgets": {},
     "nuid": "b10b848b-293c-41f4-a722-6a1fa1479ce7",
     "showTitle": false,
     "tableResultSettingsMap": {},
     "title": ""
    }
   },
   "source": [
    "- **Option A:** Use directly the surrogate keys already present in the Silver table (our case).  \n",
    "- **Option B:** Generate surrogate keys in Gold when they do not exist in Silver, using the current `max(surrogate_key)` + an increment.\n"
   ]
  },
  {
   "cell_type": "code",
   "execution_count": 0,
   "metadata": {
    "application/vnd.databricks.v1+cell": {
     "cellMetadata": {
      "byteLimit": 2048000,
      "rowLimit": 10000
     },
     "inputWidgets": {},
     "nuid": "187f190b-95ff-490e-b5b7-950bf005ef17",
     "showTitle": false,
     "tableResultSettingsMap": {},
     "title": ""
    }
   },
   "outputs": [],
   "source": [
    "#Option A: If we already have surrogate key generated\n",
    "df_new_enr = df_new.withColumn(\"create_date\", current_timestamp()) \\\n",
    "                  .withColumn(\"update_date\", current_timestamp())"
   ]
  },
  {
   "cell_type": "code",
   "execution_count": 0,
   "metadata": {
    "application/vnd.databricks.v1+cell": {
     "cellMetadata": {
      "byteLimit": 2048000,
      "rowLimit": 10000
     },
     "inputWidgets": {},
     "nuid": "44665854-4b9f-42bc-8505-3765dc3088ac",
     "showTitle": false,
     "tableResultSettingsMap": {},
     "title": ""
    }
   },
   "outputs": [],
   "source": [
    "#Option B: If we don't have surrogate key generated\n",
    "# if spark.catalog.tableExists(f\"{catalog}.{target_schema}.{target_object}\"):\n",
    "#     max_surrogate_key = spark.sql(\n",
    "#         f\"SELECT max({surrogate_key}) FROM {catalog}.{target_schema}.{target_object}\"\n",
    "#     ).collect()[0][0]\n",
    "#     if max_surrogate_key is None:\n",
    "#         max_surrogate_key = 0\n",
    "# else:\n",
    "#     max_surrogate_key = 0\n",
    "\n",
    "# df_new_enr = (\n",
    "#     df_new.withColumn(\n",
    "#         surrogate_key,\n",
    "#         lit(max_surrogate_key) + lit(1) + monotonically_increasing_id()\n",
    "#     )\n",
    "#     .withColumn(\"create_date\", current_timestamp())\n",
    "#     .withColumn(\"update_date\", current_timestamp())\n",
    "# )"
   ]
  },
  {
   "cell_type": "code",
   "execution_count": 0,
   "metadata": {
    "application/vnd.databricks.v1+cell": {
     "cellMetadata": {
      "byteLimit": 2048000,
      "rowLimit": 10000
     },
     "inputWidgets": {},
     "nuid": "818beddb-6358-426c-ab4a-d0605936de55",
     "showTitle": false,
     "tableResultSettingsMap": {
      "0": {
       "dataGridStateBlob": "{\"version\":1,\"tableState\":{\"columnPinning\":{\"left\":[\"#row_number#\"],\"right\":[]},\"columnSizing\":{},\"columnVisibility\":{}},\"settings\":{\"columns\":{}},\"syncTimestamp\":1754945011096}",
       "filterBlob": null,
       "queryPlanFiltersBlob": null,
       "tableResultIndex": 0
      }
     },
     "title": ""
    }
   },
   "outputs": [
    {
     "data": {
      "text/html": [
       "<style scoped>\n",
       "  .table-result-container {\n",
       "    max-height: 300px;\n",
       "    overflow: auto;\n",
       "  }\n",
       "  table, th, td {\n",
       "    border: 1px solid black;\n",
       "    border-collapse: collapse;\n",
       "  }\n",
       "  th, td {\n",
       "    padding: 5px;\n",
       "  }\n",
       "  th {\n",
       "    text-align: left;\n",
       "  }\n",
       "</style><div class='table-result-container'><table class='table-result'><thead style='background-color: white'><tr><th>product_sk</th><th>product_id</th><th>product_name</th><th>category</th><th>brand</th><th>origin_location</th><th>modified_date</th><th>create_date</th><th>update_date</th></tr></thead><tbody><tr><td>214</td><td>PROD_00215</td><td>Golf Clubs Set</td><td>Sports & Outdoors</td><td>Callaway</td><td>Phoenix</td><td>2025-08-19T21:02:10.523Z</td><td>2025-08-19T21:16:11.107Z</td><td>2025-08-19T21:16:11.107Z</td></tr><tr><td>215</td><td>PROD_00216</td><td>Hiking Boots</td><td>Sports & Outdoors</td><td>Merrell</td><td>Portland</td><td>2025-08-19T21:02:10.523Z</td><td>2025-08-19T21:16:11.107Z</td><td>2025-08-19T21:16:11.107Z</td></tr><tr><td>211</td><td>PROD_00211</td><td>Boxing Gloves</td><td>Sports & Outdoors</td><td>Everlast</td><td>Chicago</td><td>2025-08-19T21:02:10.523Z</td><td>2025-08-19T21:16:11.107Z</td><td>2025-08-19T21:16:11.107Z</td></tr><tr><td>216</td><td>PROD_00217</td><td>Skateboard</td><td>Sports & Outdoors</td><td>Element</td><td>Santa Cruz</td><td>2025-08-19T21:02:10.523Z</td><td>2025-08-19T21:16:11.107Z</td><td>2025-08-19T21:16:11.107Z</td></tr><tr><td>212</td><td>PROD_00212</td><td>Cycling Helmet</td><td>Sports & Outdoors</td><td>Giro</td><td>Denver</td><td>2025-08-19T21:02:10.523Z</td><td>2025-08-19T21:16:11.107Z</td><td>2025-08-19T21:16:11.107Z</td></tr><tr><td>213</td><td>PROD_00213</td><td>Climbing Rope</td><td>Sports & Outdoors</td><td>Black Diamond</td><td>Boulder</td><td>2025-08-19T21:02:10.523Z</td><td>2025-08-19T21:16:11.107Z</td><td>2025-08-19T21:16:11.107Z</td></tr></tbody></table></div>"
      ]
     },
     "metadata": {
      "application/vnd.databricks.v1+output": {
       "addedWidgets": {},
       "aggData": [],
       "aggError": "",
       "aggOverflow": false,
       "aggSchema": [],
       "aggSeriesLimitReached": false,
       "aggType": "",
       "arguments": {},
       "columnCustomDisplayInfos": {},
       "data": [
        [
         214,
         "PROD_00215",
         "Golf Clubs Set",
         "Sports & Outdoors",
         "Callaway",
         "Phoenix",
         "2025-08-19T21:02:10.523Z",
         "2025-08-19T21:16:11.107Z",
         "2025-08-19T21:16:11.107Z"
        ],
        [
         215,
         "PROD_00216",
         "Hiking Boots",
         "Sports & Outdoors",
         "Merrell",
         "Portland",
         "2025-08-19T21:02:10.523Z",
         "2025-08-19T21:16:11.107Z",
         "2025-08-19T21:16:11.107Z"
        ],
        [
         211,
         "PROD_00211",
         "Boxing Gloves",
         "Sports & Outdoors",
         "Everlast",
         "Chicago",
         "2025-08-19T21:02:10.523Z",
         "2025-08-19T21:16:11.107Z",
         "2025-08-19T21:16:11.107Z"
        ],
        [
         216,
         "PROD_00217",
         "Skateboard",
         "Sports & Outdoors",
         "Element",
         "Santa Cruz",
         "2025-08-19T21:02:10.523Z",
         "2025-08-19T21:16:11.107Z",
         "2025-08-19T21:16:11.107Z"
        ],
        [
         212,
         "PROD_00212",
         "Cycling Helmet",
         "Sports & Outdoors",
         "Giro",
         "Denver",
         "2025-08-19T21:02:10.523Z",
         "2025-08-19T21:16:11.107Z",
         "2025-08-19T21:16:11.107Z"
        ],
        [
         213,
         "PROD_00213",
         "Climbing Rope",
         "Sports & Outdoors",
         "Black Diamond",
         "Boulder",
         "2025-08-19T21:02:10.523Z",
         "2025-08-19T21:16:11.107Z",
         "2025-08-19T21:16:11.107Z"
        ]
       ],
       "datasetInfos": [],
       "dbfsResultPath": null,
       "isJsonSchema": true,
       "metadata": {},
       "overflow": false,
       "plotOptions": {
        "customPlotOptions": {},
        "displayType": "table",
        "pivotAggregation": null,
        "pivotColumns": null,
        "xColumns": null,
        "yColumns": null
       },
       "removedWidgets": [],
       "schema": [
        {
         "metadata": "{}",
         "name": "product_sk",
         "type": "\"integer\""
        },
        {
         "metadata": "{}",
         "name": "product_id",
         "type": "\"string\""
        },
        {
         "metadata": "{}",
         "name": "product_name",
         "type": "\"string\""
        },
        {
         "metadata": "{}",
         "name": "category",
         "type": "\"string\""
        },
        {
         "metadata": "{}",
         "name": "brand",
         "type": "\"string\""
        },
        {
         "metadata": "{}",
         "name": "origin_location",
         "type": "\"string\""
        },
        {
         "metadata": "{}",
         "name": "modified_date",
         "type": "\"timestamp\""
        },
        {
         "metadata": "{}",
         "name": "create_date",
         "type": "\"timestamp\""
        },
        {
         "metadata": "{}",
         "name": "update_date",
         "type": "\"timestamp\""
        }
       ],
       "type": "table"
      }
     },
     "output_type": "display_data"
    }
   ],
   "source": [
    "df_new_enr.display()"
   ]
  },
  {
   "cell_type": "code",
   "execution_count": 0,
   "metadata": {
    "application/vnd.databricks.v1+cell": {
     "cellMetadata": {
      "byteLimit": 2048000,
      "rowLimit": 10000
     },
     "inputWidgets": {},
     "nuid": "4081b74c-742c-4678-b268-30c192de5511",
     "showTitle": false,
     "tableResultSettingsMap": {},
     "title": ""
    }
   },
   "outputs": [],
   "source": [
    "df_union = df_old_enr.unionByName(df_new_enr)"
   ]
  },
  {
   "cell_type": "code",
   "execution_count": 0,
   "metadata": {
    "application/vnd.databricks.v1+cell": {
     "cellMetadata": {
      "byteLimit": 2048000,
      "rowLimit": 10000
     },
     "inputWidgets": {},
     "nuid": "c86c071a-2512-42c0-9e76-20deb975da25",
     "showTitle": false,
     "tableResultSettingsMap": {
      "0": {
       "dataGridStateBlob": "{\"version\":1,\"tableState\":{\"columnPinning\":{\"left\":[\"#row_number#\"],\"right\":[]},\"columnSizing\":{},\"columnVisibility\":{}},\"settings\":{\"columns\":{}},\"syncTimestamp\":1754945452685}",
       "filterBlob": null,
       "queryPlanFiltersBlob": null,
       "tableResultIndex": 0
      }
     },
     "title": ""
    }
   },
   "outputs": [
    {
     "data": {
      "text/html": [
       "<style scoped>\n",
       "  .table-result-container {\n",
       "    max-height: 300px;\n",
       "    overflow: auto;\n",
       "  }\n",
       "  table, th, td {\n",
       "    border: 1px solid black;\n",
       "    border-collapse: collapse;\n",
       "  }\n",
       "  th, td {\n",
       "    padding: 5px;\n",
       "  }\n",
       "  th {\n",
       "    text-align: left;\n",
       "  }\n",
       "</style><div class='table-result-container'><table class='table-result'><thead style='background-color: white'><tr><th>product_sk</th><th>product_id</th><th>product_name</th><th>category</th><th>brand</th><th>origin_location</th><th>modified_date</th><th>create_date</th><th>update_date</th></tr></thead><tbody><tr><td>208</td><td>PROD_00208</td><td>Training Pants</td><td>Sports & Outdoors</td><td>Reebok</td><td>San Francisco</td><td>2025-08-19T21:02:10.523Z</td><td>2025-08-19T19:36:46.402Z</td><td>2025-08-19T21:16:15.150Z</td></tr><tr><td>78</td><td>PROD_00078</td><td>Ultraboost 22</td><td>Clothing</td><td>Adidas</td><td>San Francisco</td><td>2025-08-19T21:02:10.523Z</td><td>2025-08-19T19:36:46.402Z</td><td>2025-08-19T21:16:15.150Z</td></tr><tr><td>3</td><td>PROD_00003</td><td>PlayStation 5</td><td>Electronics</td><td>Sony</td><td>San Francisco</td><td>2025-08-19T21:02:10.523Z</td><td>2025-08-19T19:36:46.402Z</td><td>2025-08-19T21:16:15.150Z</td></tr><tr><td>10</td><td>PROD_00010</td><td>QLED 4K TV</td><td>Electronics</td><td>Samsung</td><td>San Francisco</td><td>2025-08-19T21:02:10.523Z</td><td>2025-08-19T19:36:46.402Z</td><td>2025-08-19T21:16:15.150Z</td></tr><tr><td>186</td><td>PROD_00186</td><td>Yoga Mat</td><td>Sports & Outdoors</td><td>Nike</td><td>San Francisco</td><td>2025-08-19T21:02:10.523Z</td><td>2025-08-19T19:36:46.402Z</td><td>2025-08-19T21:16:15.150Z</td></tr><tr><td>214</td><td>PROD_00215</td><td>Golf Clubs Set</td><td>Sports & Outdoors</td><td>Callaway</td><td>Phoenix</td><td>2025-08-19T21:02:10.523Z</td><td>2025-08-19T21:16:15.150Z</td><td>2025-08-19T21:16:15.150Z</td></tr><tr><td>215</td><td>PROD_00216</td><td>Hiking Boots</td><td>Sports & Outdoors</td><td>Merrell</td><td>Portland</td><td>2025-08-19T21:02:10.523Z</td><td>2025-08-19T21:16:15.150Z</td><td>2025-08-19T21:16:15.150Z</td></tr><tr><td>211</td><td>PROD_00211</td><td>Boxing Gloves</td><td>Sports & Outdoors</td><td>Everlast</td><td>Chicago</td><td>2025-08-19T21:02:10.523Z</td><td>2025-08-19T21:16:15.150Z</td><td>2025-08-19T21:16:15.150Z</td></tr><tr><td>216</td><td>PROD_00217</td><td>Skateboard</td><td>Sports & Outdoors</td><td>Element</td><td>Santa Cruz</td><td>2025-08-19T21:02:10.523Z</td><td>2025-08-19T21:16:15.150Z</td><td>2025-08-19T21:16:15.150Z</td></tr><tr><td>212</td><td>PROD_00212</td><td>Cycling Helmet</td><td>Sports & Outdoors</td><td>Giro</td><td>Denver</td><td>2025-08-19T21:02:10.523Z</td><td>2025-08-19T21:16:15.150Z</td><td>2025-08-19T21:16:15.150Z</td></tr><tr><td>213</td><td>PROD_00213</td><td>Climbing Rope</td><td>Sports & Outdoors</td><td>Black Diamond</td><td>Boulder</td><td>2025-08-19T21:02:10.523Z</td><td>2025-08-19T21:16:15.150Z</td><td>2025-08-19T21:16:15.150Z</td></tr></tbody></table></div>"
      ]
     },
     "metadata": {
      "application/vnd.databricks.v1+output": {
       "addedWidgets": {},
       "aggData": [],
       "aggError": "",
       "aggOverflow": false,
       "aggSchema": [],
       "aggSeriesLimitReached": false,
       "aggType": "",
       "arguments": {},
       "columnCustomDisplayInfos": {},
       "data": [
        [
         208,
         "PROD_00208",
         "Training Pants",
         "Sports & Outdoors",
         "Reebok",
         "San Francisco",
         "2025-08-19T21:02:10.523Z",
         "2025-08-19T19:36:46.402Z",
         "2025-08-19T21:16:15.150Z"
        ],
        [
         78,
         "PROD_00078",
         "Ultraboost 22",
         "Clothing",
         "Adidas",
         "San Francisco",
         "2025-08-19T21:02:10.523Z",
         "2025-08-19T19:36:46.402Z",
         "2025-08-19T21:16:15.150Z"
        ],
        [
         3,
         "PROD_00003",
         "PlayStation 5",
         "Electronics",
         "Sony",
         "San Francisco",
         "2025-08-19T21:02:10.523Z",
         "2025-08-19T19:36:46.402Z",
         "2025-08-19T21:16:15.150Z"
        ],
        [
         10,
         "PROD_00010",
         "QLED 4K TV",
         "Electronics",
         "Samsung",
         "San Francisco",
         "2025-08-19T21:02:10.523Z",
         "2025-08-19T19:36:46.402Z",
         "2025-08-19T21:16:15.150Z"
        ],
        [
         186,
         "PROD_00186",
         "Yoga Mat",
         "Sports & Outdoors",
         "Nike",
         "San Francisco",
         "2025-08-19T21:02:10.523Z",
         "2025-08-19T19:36:46.402Z",
         "2025-08-19T21:16:15.150Z"
        ],
        [
         214,
         "PROD_00215",
         "Golf Clubs Set",
         "Sports & Outdoors",
         "Callaway",
         "Phoenix",
         "2025-08-19T21:02:10.523Z",
         "2025-08-19T21:16:15.150Z",
         "2025-08-19T21:16:15.150Z"
        ],
        [
         215,
         "PROD_00216",
         "Hiking Boots",
         "Sports & Outdoors",
         "Merrell",
         "Portland",
         "2025-08-19T21:02:10.523Z",
         "2025-08-19T21:16:15.150Z",
         "2025-08-19T21:16:15.150Z"
        ],
        [
         211,
         "PROD_00211",
         "Boxing Gloves",
         "Sports & Outdoors",
         "Everlast",
         "Chicago",
         "2025-08-19T21:02:10.523Z",
         "2025-08-19T21:16:15.150Z",
         "2025-08-19T21:16:15.150Z"
        ],
        [
         216,
         "PROD_00217",
         "Skateboard",
         "Sports & Outdoors",
         "Element",
         "Santa Cruz",
         "2025-08-19T21:02:10.523Z",
         "2025-08-19T21:16:15.150Z",
         "2025-08-19T21:16:15.150Z"
        ],
        [
         212,
         "PROD_00212",
         "Cycling Helmet",
         "Sports & Outdoors",
         "Giro",
         "Denver",
         "2025-08-19T21:02:10.523Z",
         "2025-08-19T21:16:15.150Z",
         "2025-08-19T21:16:15.150Z"
        ],
        [
         213,
         "PROD_00213",
         "Climbing Rope",
         "Sports & Outdoors",
         "Black Diamond",
         "Boulder",
         "2025-08-19T21:02:10.523Z",
         "2025-08-19T21:16:15.150Z",
         "2025-08-19T21:16:15.150Z"
        ]
       ],
       "datasetInfos": [],
       "dbfsResultPath": null,
       "isJsonSchema": true,
       "metadata": {},
       "overflow": false,
       "plotOptions": {
        "customPlotOptions": {},
        "displayType": "table",
        "pivotAggregation": null,
        "pivotColumns": null,
        "xColumns": null,
        "yColumns": null
       },
       "removedWidgets": [],
       "schema": [
        {
         "metadata": "{}",
         "name": "product_sk",
         "type": "\"integer\""
        },
        {
         "metadata": "{}",
         "name": "product_id",
         "type": "\"string\""
        },
        {
         "metadata": "{}",
         "name": "product_name",
         "type": "\"string\""
        },
        {
         "metadata": "{}",
         "name": "category",
         "type": "\"string\""
        },
        {
         "metadata": "{}",
         "name": "brand",
         "type": "\"string\""
        },
        {
         "metadata": "{}",
         "name": "origin_location",
         "type": "\"string\""
        },
        {
         "metadata": "{}",
         "name": "modified_date",
         "type": "\"timestamp\""
        },
        {
         "metadata": "{}",
         "name": "create_date",
         "type": "\"timestamp\""
        },
        {
         "metadata": "{}",
         "name": "update_date",
         "type": "\"timestamp\""
        }
       ],
       "type": "table"
      }
     },
     "output_type": "display_data"
    }
   ],
   "source": [
    "df_union.display()"
   ]
  },
  {
   "cell_type": "markdown",
   "metadata": {
    "application/vnd.databricks.v1+cell": {
     "cellMetadata": {
      "byteLimit": 2048000,
      "rowLimit": 10000
     },
     "inputWidgets": {},
     "nuid": "7dea7ce0-f1ea-4cb2-ad54-632d2154f8ba",
     "showTitle": false,
     "tableResultSettingsMap": {},
     "title": ""
    }
   },
   "source": [
    "### **Writing to the Target Table with Delta Lake (Upsert)**\n",
    "\n",
    "- **If the target table exists**  \n",
    "  1. It is obtained as a Delta object (`dlt_object`).  \n",
    "  2. A **MERGE** is executed between:\n",
    "     - **`src`** → combined data (`df_union`).\n",
    "     - **`trg`** → target table.\n",
    "  3. MERGE conditions:\n",
    "     - **Match by surrogate key** (`product_sk`).  \n",
    "     - **When matched** → update all fields if `modified_date` from `src` is greater than or equal to that of `trg`.  \n",
    "     - **When not matched** → insert the full record.\n",
    "\n",
    "- **If the target table does not exist**  \n",
    "  → It is created by writing `df_union` in Delta format, in `append` mode.\n",
    "\n",
    "This step ensures that the dimension is updated incrementally.\n"
   ]
  },
  {
   "cell_type": "code",
   "execution_count": 0,
   "metadata": {
    "application/vnd.databricks.v1+cell": {
     "cellMetadata": {
      "byteLimit": 2048000,
      "rowLimit": 10000
     },
     "inputWidgets": {},
     "nuid": "b414fda0-3e2d-441e-b689-e86f45bf8b57",
     "showTitle": false,
     "tableResultSettingsMap": {},
     "title": ""
    }
   },
   "outputs": [],
   "source": [
    "from delta.tables import DeltaTable"
   ]
  },
  {
   "cell_type": "code",
   "execution_count": 0,
   "metadata": {
    "application/vnd.databricks.v1+cell": {
     "cellMetadata": {
      "byteLimit": 2048000,
      "rowLimit": 10000
     },
     "inputWidgets": {},
     "nuid": "31d461b4-db9c-4b07-866f-dc076c37443b",
     "showTitle": false,
     "tableResultSettingsMap": {},
     "title": ""
    }
   },
   "outputs": [],
   "source": [
    "if spark.catalog.tableExists(f\"{catalog}.{target_schema}.{target_object}\"):\n",
    "    dlt_object = DeltaTable.forName(spark, f\"{catalog}.{target_schema}.{target_object}\")\n",
    "    dlt_object.alias(\"trg\").merge(df_union.alias(\"src\"), f\"trg.{surrogate_key} = src.{surrogate_key}\")\\\n",
    "        .whenMatchedUpdateAll(condition = f\"src.{cdc_col} >= trg.{cdc_col}\")\\\n",
    "        .whenNotMatchedInsertAll()\\\n",
    "        .execute()\n",
    "else:\n",
    "    df_union.write.format(\"delta\")\\\n",
    "        .mode(\"append\")\\\n",
    "        .saveAsTable(f\"{catalog}.{target_schema}.{target_object}\")\n"
   ]
  }
 ],
 "metadata": {
  "application/vnd.databricks.v1+notebook": {
   "computePreferences": {
    "hardware": {
     "accelerator": null,
     "gpuPoolId": null,
     "memory": null
    }
   },
   "dashboards": [],
   "environmentMetadata": {
    "base_environment": "",
    "environment_version": "2"
   },
   "inputWidgetPreferences": null,
   "language": "python",
   "notebookMetadata": {
    "mostRecentlyExecutedCommandWithImplicitDF": {
     "commandId": 5346649193489327,
     "dataframes": [
      "_sqldf"
     ]
    },
    "pythonIndentUnit": 4
   },
   "notebookName": "GoldLayer-Dimensions",
   "widgets": {
    "backdate_refresh": {
     "currentValue": "",
     "nuid": "f6368640-bf7e-4a9d-a0bc-fb65f0e6df7c",
     "typedWidgetInfo": {
      "autoCreated": false,
      "defaultValue": "",
      "label": null,
      "name": "backdate_refresh",
      "options": {
       "validationRegex": null,
       "widgetDisplayType": "Text"
      },
      "parameterDataType": "String"
     },
     "widgetInfo": {
      "defaultValue": "",
      "label": null,
      "name": "backdate_refresh",
      "options": {
       "autoCreated": null,
       "validationRegex": null,
       "widgetType": "text"
      },
      "widgetType": "text"
     }
    },
    "cdccol": {
     "currentValue": "",
     "nuid": "ab6afba4-d068-4414-8ca1-394b95616800",
     "typedWidgetInfo": {
      "autoCreated": false,
      "defaultValue": "",
      "label": null,
      "name": "cdccol",
      "options": {
       "validationRegex": null,
       "widgetDisplayType": "Text"
      },
      "parameterDataType": "String"
     },
     "widgetInfo": {
      "defaultValue": "",
      "label": null,
      "name": "cdccol",
      "options": {
       "autoCreated": null,
       "validationRegex": null,
       "widgetType": "text"
      },
      "widgetType": "text"
     }
    },
    "keycols": {
     "currentValue": "[\"sales_id\"]",
     "nuid": "32112a90-114e-4a9e-85c0-c9929f8df885",
     "typedWidgetInfo": {
      "autoCreated": false,
      "defaultValue": "",
      "label": null,
      "name": "keycols",
      "options": {
       "validationRegex": null,
       "widgetDisplayType": "Text"
      },
      "parameterDataType": "String"
     },
     "widgetInfo": {
      "defaultValue": "",
      "label": null,
      "name": "keycols",
      "options": {
       "autoCreated": null,
       "validationRegex": null,
       "widgetType": "text"
      },
      "widgetType": "text"
     }
    },
    "source_object": {
     "currentValue": "",
     "nuid": "2335e466-6fe9-438f-ade6-0bc56c440971",
     "typedWidgetInfo": {
      "autoCreated": false,
      "defaultValue": "",
      "label": null,
      "name": "source_object",
      "options": {
       "validationRegex": null,
       "widgetDisplayType": "Text"
      },
      "parameterDataType": "String"
     },
     "widgetInfo": {
      "defaultValue": "",
      "label": null,
      "name": "source_object",
      "options": {
       "autoCreated": null,
       "validationRegex": null,
       "widgetType": "text"
      },
      "widgetType": "text"
     }
    },
    "source_schema": {
     "currentValue": "",
     "nuid": "91d1bff4-a3a0-400c-ac43-0d25fa7bea93",
     "typedWidgetInfo": {
      "autoCreated": false,
      "defaultValue": "",
      "label": "",
      "name": "source_schema",
      "options": {
       "validationRegex": null,
       "widgetDisplayType": "Text"
      },
      "parameterDataType": "String"
     },
     "widgetInfo": {
      "defaultValue": "",
      "label": "",
      "name": "source_schema",
      "options": {
       "autoCreated": false,
       "validationRegex": null,
       "widgetType": "text"
      },
      "widgetType": "text"
     }
    }
   }
  },
  "language_info": {
   "name": "python"
  }
 },
 "nbformat": 4,
 "nbformat_minor": 0
}
