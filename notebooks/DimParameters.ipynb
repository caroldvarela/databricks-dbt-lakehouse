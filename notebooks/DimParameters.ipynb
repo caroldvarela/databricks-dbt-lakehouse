{
 "cells": [
  {
   "cell_type": "markdown",
   "metadata": {
    "application/vnd.databricks.v1+cell": {
     "cellMetadata": {},
     "inputWidgets": {},
     "nuid": "2c0d502a-dd20-4a05-84e7-eaceb9add493",
     "showTitle": false,
     "tableResultSettingsMap": {},
     "title": ""
    }
   },
   "source": [
    "# **\uD83D\uDCD0 Dimension Configuration**\n",
    "\n",
    "The configuration variables required for the incremental load process are defined here.  \n",
    "Each parameter determines how and from where the data will be read, as well as where it will be written in the target.\n",
    "\n",
    "- **`catalog`**  \n",
    "  - Working catalog where the tables are registered.  \n",
    "  - Allows fully qualifying tables using the format `catalog.schema.table`.\n",
    "\n",
    "- **`key_cols`**  \n",
    "  - List of the **natural key columns** that uniquely identify a record in the dimension.  \n",
    "\n",
    "- **`cdc_col`** (*Change Data Capture column*)  \n",
    "  - Column used for **change tracking** (*Change Data Capture*).  \n",
    "  - Indicates the date and time of the last modification for each record and is used to filter only new or updated data.  \n",
    "\n",
    "- **`backdate_refresh`**  \n",
    "  - Optional field to force a reload starting from a specific date.  \n",
    "  - If empty (`\"\"`), the last load date detected in the target will be used.  \n",
    "  - If it contains a date (`\"YYYY-MM-DD HH:MM:SS\"`), that will be used as the starting point for reloading data.\n",
    "\n",
    "- **`source_object`**  \n",
    "  - Name of the source table in the `silver` schema that contains the data.  \n",
    "\n",
    "- **`source_schema`**  \n",
    "  - Name of the schema where the source table resides (`silver`).\n",
    "\n",
    "- **`target_schema`**  \n",
    "  - Name of the schema where the dimension will be stored (`gold`).\n",
    "\n",
    "- **`target_object`**  \n",
    "  - Name of the target table that will hold the dimension.  \n",
    "\n",
    "- **`surrogate_key`**  \n",
    "  - Name of the **surrogate key** column used in the dimension to assign a unique internal identifier.\n"
   ]
  },
  {
   "cell_type": "code",
   "execution_count": 0,
   "metadata": {
    "application/vnd.databricks.v1+cell": {
     "cellMetadata": {},
     "inputWidgets": {},
     "nuid": "9fa3500b-be7f-4725-989e-5327e8088fee",
     "showTitle": false,
     "tableResultSettingsMap": {},
     "title": ""
    }
   },
   "outputs": [],
   "source": [
    "dimensions = [\n",
    "    {\n",
    "        \"catalog\": \"workspace\",\n",
    "        \"key_cols_list\": [\"store_id\"],\n",
    "        \"cdc_col\": \"modified_date\",\n",
    "        \"backdate_refresh\": \"\",\n",
    "        \"source_object\": \"silver_stores\",\n",
    "        \"source_schema\": \"silver\",\n",
    "        \"target_schema\": \"gold\",\n",
    "        \"target_object\": \"DimStores\",\n",
    "        \"surrogate_key\": \"store_sk\"\n",
    "    },\n",
    "    {\n",
    "        \"catalog\": \"workspace\",\n",
    "        \"key_cols_list\": [\"customer_id\"],\n",
    "        \"cdc_col\": \"modified_date\",\n",
    "        \"backdate_refresh\": \"\",\n",
    "        \"source_object\": \"silver_customers\",\n",
    "        \"source_schema\": \"silver\",\n",
    "        \"target_schema\": \"gold\",\n",
    "        \"target_object\": \"DimCustomers\",\n",
    "        \"surrogate_key\": \"customer_sk\"\n",
    "    },\n",
    "    {\n",
    "        \"catalog\": \"workspace\",\n",
    "        \"key_cols_list\": [\"product_id\"],\n",
    "        \"cdc_col\": \"modified_date\",\n",
    "        \"backdate_refresh\": \"\",\n",
    "        \"source_object\": \"silver_products\",\n",
    "        \"source_schema\": \"silver\",\n",
    "        \"target_schema\": \"gold\",\n",
    "        \"target_object\": \"DimProducts\",\n",
    "        \"surrogate_key\": \"product_sk\"\n",
    "    },\n",
    "    {\n",
    "        \"catalog\": \"workspace\",\n",
    "        \"key_cols_list\": [\"salesperson_id\"],\n",
    "        \"cdc_col\": \"modified_date\",\n",
    "        \"backdate_refresh\": \"\",\n",
    "        \"source_object\": \"silver_salespersons\",\n",
    "        \"source_schema\": \"silver\",\n",
    "        \"target_schema\": \"gold\",\n",
    "        \"target_object\": \"DimSalespersons\",\n",
    "        \"surrogate_key\": \"salesperson_sk\"\n",
    "    },\n",
    "    {\n",
    "        \"catalog\": \"workspace\",\n",
    "        \"key_cols_list\": [\"campaign_id\"],\n",
    "        \"cdc_col\": \"modified_date\",\n",
    "        \"backdate_refresh\": \"\",\n",
    "        \"source_object\": \"silver_campaigns\",\n",
    "        \"source_schema\": \"silver\",\n",
    "        \"target_schema\": \"gold\",\n",
    "        \"target_object\": \"DimCampaigns\",\n",
    "        \"surrogate_key\": \"campaign_sk\"\n",
    "    }\n",
    "]\n",
    "\n"
   ]
  },
  {
   "cell_type": "code",
   "execution_count": 0,
   "metadata": {
    "application/vnd.databricks.v1+cell": {
     "cellMetadata": {},
     "inputWidgets": {},
     "nuid": "ab8e22fb-cb37-4e44-87b6-6568f57905b1",
     "showTitle": false,
     "tableResultSettingsMap": {},
     "title": ""
    }
   },
   "outputs": [],
   "source": [
    "dbutils.jobs.taskValues.set(key=\"output_key\", value=dimensions)"
   ]
  }
 ],
 "metadata": {
  "application/vnd.databricks.v1+notebook": {
   "computePreferences": null,
   "dashboards": [],
   "environmentMetadata": {
    "base_environment": "",
    "environment_version": "2"
   },
   "inputWidgetPreferences": null,
   "language": "python",
   "notebookMetadata": {
    "pythonIndentUnit": 4
   },
   "notebookName": "DimParameters",
   "widgets": {}
  },
  "language_info": {
   "name": "python"
  }
 },
 "nbformat": 4,
 "nbformat_minor": 0
}