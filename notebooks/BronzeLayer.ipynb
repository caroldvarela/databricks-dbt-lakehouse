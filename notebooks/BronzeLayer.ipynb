{
 "cells": [
  {
   "cell_type": "markdown",
   "metadata": {
    "application/vnd.databricks.v1+cell": {
     "cellMetadata": {
      "byteLimit": 2048000,
      "rowLimit": 10000
     },
     "inputWidgets": {},
     "nuid": "c5db6854-c3a5-4ddd-be95-3264e612f18a",
     "showTitle": false,
     "tableResultSettingsMap": {},
     "title": ""
    }
   },
   "source": [
    "# \uD83E\uDD49 Bronze Layer - Raw Data Ingestion\n",
    "\n",
    "This notebook implements the **Bronze layer** of the Medallion architecture.  \n",
    "Its purpose is to:\n",
    "\n",
    "- Ingest CSV files from the **Raw** layer using **Databricks Autoloader**.  \n",
    "- Handle **incremental ingestion** and **schema evolution**.  \n",
    "- Store the data in **Delta Lake** format within the `bronzevolume`.  \n",
    "\n",
    "Each execution takes the source (`src_value`) as a parameter and generates raw data persisted and ready for the **Silver** layer.\n",
    "\n",
    "---\n"
   ]
  },
  {
   "cell_type": "markdown",
   "metadata": {
    "application/vnd.databricks.v1+cell": {
     "cellMetadata": {
      "byteLimit": 2048000,
      "rowLimit": 10000
     },
     "inputWidgets": {},
     "nuid": "c6a79369-30a7-4a11-a37b-054df3f314a8",
     "showTitle": false,
     "tableResultSettingsMap": {},
     "title": ""
    }
   },
   "source": [
    "The value of `src_value` comes from the **SrcParameters** notebook,  \n",
    "where an array with the different sources is defined:  \n",
    "\n",
    "`sales, stores, customers, products, salespersons, campaigns, dates, times`\n",
    "\n",
    "In this way, the pipeline runs **dynamically**, executing for each one."
   ]
  },
  {
   "cell_type": "code",
   "execution_count": 0,
   "metadata": {
    "application/vnd.databricks.v1+cell": {
     "cellMetadata": {
      "byteLimit": 2048000,
      "rowLimit": 10000
     },
     "inputWidgets": {},
     "nuid": "57b2c11e-c59f-457d-906d-8e3677165a58",
     "showTitle": false,
     "tableResultSettingsMap": {},
     "title": ""
    }
   },
   "outputs": [
    {
     "output_type": "stream",
     "name": "stdout",
     "output_type": "stream",
     "text": [
      "sales\n"
     ]
    }
   ],
   "source": [
    "src_value = dbutils.widgets.get(\"src\")\n",
    "print(src_value)"
   ]
  },
  {
   "cell_type": "code",
   "execution_count": 0,
   "metadata": {
    "application/vnd.databricks.v1+cell": {
     "cellMetadata": {
      "byteLimit": 2048000,
      "implicitDf": true,
      "rowLimit": 10000
     },
     "inputWidgets": {},
     "nuid": "4b98f279-f671-4240-9a75-4ca9b66c0350",
     "showTitle": false,
     "tableResultSettingsMap": {},
     "title": ""
    }
   },
   "outputs": [],
   "source": [
    "%sql\n",
    "CREATE VOLUME IF NOT EXISTS workspace.bronze.bronzevolume"
   ]
  },
  {
   "cell_type": "markdown",
   "metadata": {
    "application/vnd.databricks.v1+cell": {
     "cellMetadata": {
      "byteLimit": 2048000,
      "rowLimit": 10000
     },
     "inputWidgets": {},
     "nuid": "8ddd2765-5ded-4584-a102-ead927a99c7e",
     "showTitle": false,
     "tableResultSettingsMap": {},
     "title": ""
    }
   },
   "source": [
    "**Databricks Autoloader** is used to read CSV files from the **Raw** layer:  \n",
    "- `schemaLocation`: stores the schema information and checkpoint.  \n",
    "- `schemaEvolutionMode = rescue`: handles schema changes.  \n",
    "- `load`: points to the source path defined by `src_value`.  "
   ]
  },
  {
   "cell_type": "code",
   "execution_count": 0,
   "metadata": {
    "application/vnd.databricks.v1+cell": {
     "cellMetadata": {
      "byteLimit": 2048000,
      "rowLimit": 10000
     },
     "inputWidgets": {},
     "nuid": "7e5e99ec-67da-4a60-9d4a-3b7dc85d9cb0",
     "showTitle": false,
     "tableResultSettingsMap": {},
     "title": ""
    }
   },
   "outputs": [],
   "source": [
    "df = spark.readStream.format(\"cloudFiles\") \\\n",
    "        .option(\"cloudFiles.format\", \"csv\") \\\n",
    "        .option(\"cloudFiles.schemaLocation\", f\"/Volumes/workspace/bronze/bronzevolume/{src_value}/checkpoint\") \\\n",
    "        .option(\"cloudFiles.schemaEvolutionMode\", \"rescue\") \\\n",
    "        .load(f\"/Volumes/workspace/raw/rawvolume/rawdata/{src_value}/\")"
   ]
  },
  {
   "cell_type": "markdown",
   "metadata": {
    "application/vnd.databricks.v1+cell": {
     "cellMetadata": {
      "byteLimit": 2048000,
      "rowLimit": 10000
     },
     "inputWidgets": {},
     "nuid": "b6e26fd2-e890-4e8d-b967-d807892867e6",
     "showTitle": false,
     "tableResultSettingsMap": {},
     "title": ""
    }
   },
   "source": [
    "The data is written in **Delta** format inside the Bronze volume:  \n",
    "- `outputMode(\"append\")`: adds new records.  \n",
    "- `trigger(once=True)`: runs the ingestion only once.  \n",
    "- `checkpointLocation`: ensures fault tolerance and avoids duplicates.  \n",
    "- `path`: final path where the raw data is stored.  "
   ]
  },
  {
   "cell_type": "code",
   "execution_count": 0,
   "metadata": {
    "application/vnd.databricks.v1+cell": {
     "cellMetadata": {
      "byteLimit": 2048000,
      "rowLimit": 10000
     },
     "inputWidgets": {},
     "nuid": "064eabee-4a6c-481a-8681-76e6b8adf56a",
     "showTitle": false,
     "tableResultSettingsMap": {},
     "title": ""
    }
   },
   "outputs": [],
   "source": [
    "\n",
    "df.writeStream.format(\"delta\") \\\n",
    "    .outputMode(\"append\") \\\n",
    "    .trigger(once=True) \\\n",
    "    .option(\"checkpointLocation\", f\"/Volumes/workspace/bronze/bronzevolume/{src_value}/checkpoint\") \\\n",
    "    .option(\"path\", f\"/Volumes/workspace/bronze/bronzevolume/{src_value}/data\") \\\n",
    "    .start() \\\n",
    "    .awaitTermination()"
   ]
  }
 ],
 "metadata": {
  "application/vnd.databricks.v1+notebook": {
   "computePreferences": null,
   "dashboards": [],
   "environmentMetadata": {
    "base_environment": "",
    "environment_version": "2"
   },
   "inputWidgetPreferences": null,
   "language": "python",
   "notebookMetadata": {
    "mostRecentlyExecutedCommandWithImplicitDF": {
     "commandId": 5150375760308796,
     "dataframes": [
      "_sqldf"
     ]
    },
    "pythonIndentUnit": 4
   },
   "notebookName": "BronzeLayer",
   "widgets": {
    "src": {
     "currentValue": "sales",
     "nuid": "1e429e3d-bef0-4f0f-b922-87ea417f638b",
     "typedWidgetInfo": {
      "autoCreated": false,
      "defaultValue": "",
      "label": null,
      "name": "src",
      "options": {
       "widgetDisplayType": "Text",
       "validationRegex": null
      },
      "parameterDataType": "String"
     },
     "widgetInfo": {
      "widgetType": "text",
      "defaultValue": "",
      "label": null,
      "name": "src",
      "options": {
       "widgetType": "text",
       "autoCreated": null,
       "validationRegex": null
      }
     }
    }
   }
  },
  "language_info": {
   "name": "python"
  }
 },
 "nbformat": 4,
 "nbformat_minor": 0
}