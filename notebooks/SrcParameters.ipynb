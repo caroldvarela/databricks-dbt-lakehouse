{
 "cells": [
  {
   "cell_type": "markdown",
   "metadata": {
    "application/vnd.databricks.v1+cell": {
     "cellMetadata": {},
     "inputWidgets": {},
     "nuid": "31bdaa4d-7da1-42b2-947d-3e2cd2a190a4",
     "showTitle": false,
     "tableResultSettingsMap": {},
     "title": ""
    }
   },
   "source": [
    "# ⚙️ SrcParameters - Data Sources Definition\n",
    "\n",
    "This notebook defines the array of **data sources** (`src_array`) that feed the Bronze layer:  \n",
    "`sales, stores, customers, products, salespersons, campaigns, dates, times`.\n",
    "\n",
    "The array is passed as output using `dbutils.jobs.taskValues.set`,  \n",
    "allowing other notebooks (such as the **Bronze** notebook) to dynamically receive the `src` value and process each source automatically.\n"
   ]
  },
  {
   "cell_type": "code",
   "execution_count": 0,
   "metadata": {
    "application/vnd.databricks.v1+cell": {
     "cellMetadata": {
      "byteLimit": 2048000,
      "rowLimit": 10000
     },
     "inputWidgets": {},
     "nuid": "eda0edd9-f41d-4743-97b4-866575023887",
     "showTitle": false,
     "tableResultSettingsMap": {},
     "title": ""
    }
   },
   "outputs": [],
   "source": [
    "src_array = [\n",
    "    {\"src\": \"sales\"},\n",
    "    {\"src\": \"stores\"},\n",
    "    {\"src\": \"customers\"},\n",
    "    {\"src\": \"products\"},\n",
    "    {\"src\": \"salespersons\"},\n",
    "    {\"src\": \"campaigns\"},\n",
    "    {\"src\": \"dates\"},\n",
    "    {\"src\": \"times\"}\n",
    "]"
   ]
  },
  {
   "cell_type": "code",
   "execution_count": 0,
   "metadata": {
    "application/vnd.databricks.v1+cell": {
     "cellMetadata": {
      "byteLimit": 2048000,
      "rowLimit": 10000
     },
     "inputWidgets": {},
     "nuid": "88e4c580-0351-4161-bd00-c3d1553c643f",
     "showTitle": false,
     "tableResultSettingsMap": {},
     "title": ""
    }
   },
   "outputs": [],
   "source": [
    "dbutils.jobs.taskValues.set(key = \"output_key\", value = src_array)"
   ]
  }
 ],
 "metadata": {
  "application/vnd.databricks.v1+notebook": {
   "computePreferences": null,
   "dashboards": [],
   "environmentMetadata": {
    "base_environment": "",
    "environment_version": "2"
   },
   "inputWidgetPreferences": null,
   "language": "python",
   "notebookMetadata": {
    "pythonIndentUnit": 4
   },
   "notebookName": "SrcParameters",
   "widgets": {}
  },
  "language_info": {
   "name": "python"
  }
 },
 "nbformat": 4,
 "nbformat_minor": 0
}