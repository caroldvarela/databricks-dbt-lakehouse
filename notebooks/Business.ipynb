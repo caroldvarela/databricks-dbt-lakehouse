{
 "cells": [
  {
   "cell_type": "code",
   "execution_count": 0,
   "metadata": {
    "application/vnd.databricks.v1+cell": {
     "cellMetadata": {
      "byteLimit": 2048000,
      "implicitDf": true,
      "rowLimit": 10000
     },
     "inputWidgets": {},
     "nuid": "8b20b544-3241-4491-bcab-afade0f80799",
     "showTitle": false,
     "tableResultSettingsMap": {},
     "title": ""
    }
   },
   "outputs": [
    {
     "output_type": "display_data",
     "data": {
      "text/html": [
       "<style scoped>\n",
       "  .table-result-container {\n",
       "    max-height: 300px;\n",
       "    overflow: auto;\n",
       "  }\n",
       "  table, th, td {\n",
       "    border: 1px solid black;\n",
       "    border-collapse: collapse;\n",
       "  }\n",
       "  th, td {\n",
       "    padding: 5px;\n",
       "  }\n",
       "  th {\n",
       "    text-align: left;\n",
       "  }\n",
       "</style><div class='table-result-container'><table class='table-result'><thead style='background-color: white'><tr><th>campaign_id</th><th>campaign_name</th><th>start_date</th><th>end_date</th><th>total_sales</th><th>total_transactions</th><th>unique_customers</th></tr></thead><tbody><tr><td>CAMP_003</td><td>Summer Sizzle Promo</td><td>2024-07-19</td><td>2024-12-20</td><td>150346.49000000002</td><td>52</td><td>45</td></tr><tr><td>CAMP_007</td><td>New Year Kickoff</td><td>2024-02-16</td><td>2024-06-14</td><td>149802.28999999998</td><td>47</td><td>36</td></tr><tr><td>CAMP_024</td><td>Red Tag Clearance</td><td>2024-01-27</td><td>2024-02-24</td><td>146229.25999999998</td><td>47</td><td>32</td></tr><tr><td>CAMP_040</td><td>12 Days of Deals</td><td>2024-07-11</td><td>2024-08-14</td><td>140689.26000000004</td><td>49</td><td>37</td></tr><tr><td>CAMP_050</td><td>Smart Shopper Week</td><td>2024-03-22</td><td>2024-11-23</td><td>139637.36</td><td>50</td><td>37</td></tr><tr><td>CAMP_001</td><td>Winter Wonders Sale</td><td>2024-05-09</td><td>2024-10-17</td><td>135989.90000000002</td><td>43</td><td>32</td></tr><tr><td>CAMP_006</td><td>Mega Weekend Bonanza</td><td>2024-02-06</td><td>2024-02-10</td><td>135622.71999999994</td><td>47</td><td>34</td></tr><tr><td>CAMP_018</td><td>Birthday Bash Sale</td><td>2024-06-12</td><td>2024-10-24</td><td>132995.25000000003</td><td>43</td><td>33</td></tr><tr><td>CAMP_014</td><td>Super Savings Week</td><td>2024-10-23</td><td>2024-11-20</td><td>131941.59999999998</td><td>43</td><td>27</td></tr><tr><td>CAMP_045</td><td>Happy Hour Discounts</td><td>2024-06-21</td><td>2024-12-07</td><td>130831.18999999999</td><td>49</td><td>36</td></tr></tbody></table></div>"
      ]
     },
     "metadata": {
      "application/vnd.databricks.v1+output": {
       "addedWidgets": {},
       "aggData": [],
       "aggError": "",
       "aggOverflow": false,
       "aggSchema": [],
       "aggSeriesLimitReached": false,
       "aggType": "",
       "arguments": {},
       "columnCustomDisplayInfos": {},
       "data": [
        [
         "CAMP_003",
         "Summer Sizzle Promo",
         "2024-07-19",
         "2024-12-20",
         150346.49000000002,
         52,
         45
        ],
        [
         "CAMP_007",
         "New Year Kickoff",
         "2024-02-16",
         "2024-06-14",
         149802.28999999998,
         47,
         36
        ],
        [
         "CAMP_024",
         "Red Tag Clearance",
         "2024-01-27",
         "2024-02-24",
         146229.25999999998,
         47,
         32
        ],
        [
         "CAMP_040",
         "12 Days of Deals",
         "2024-07-11",
         "2024-08-14",
         140689.26000000004,
         49,
         37
        ],
        [
         "CAMP_050",
         "Smart Shopper Week",
         "2024-03-22",
         "2024-11-23",
         139637.36,
         50,
         37
        ],
        [
         "CAMP_001",
         "Winter Wonders Sale",
         "2024-05-09",
         "2024-10-17",
         135989.90000000002,
         43,
         32
        ],
        [
         "CAMP_006",
         "Mega Weekend Bonanza",
         "2024-02-06",
         "2024-02-10",
         135622.71999999994,
         47,
         34
        ],
        [
         "CAMP_018",
         "Birthday Bash Sale",
         "2024-06-12",
         "2024-10-24",
         132995.25000000003,
         43,
         33
        ],
        [
         "CAMP_014",
         "Super Savings Week",
         "2024-10-23",
         "2024-11-20",
         131941.59999999998,
         43,
         27
        ],
        [
         "CAMP_045",
         "Happy Hour Discounts",
         "2024-06-21",
         "2024-12-07",
         130831.18999999999,
         49,
         36
        ]
       ],
       "datasetInfos": [
        {
         "name": "_sqldf",
         "schema": {
          "fields": [
           {
            "metadata": {},
            "name": "campaign_id",
            "nullable": true,
            "type": "string"
           },
           {
            "metadata": {},
            "name": "campaign_name",
            "nullable": true,
            "type": "string"
           },
           {
            "metadata": {},
            "name": "start_date",
            "nullable": true,
            "type": "date"
           },
           {
            "metadata": {},
            "name": "end_date",
            "nullable": true,
            "type": "date"
           },
           {
            "metadata": {},
            "name": "total_sales",
            "nullable": true,
            "type": "double"
           },
           {
            "metadata": {},
            "name": "total_transactions",
            "nullable": true,
            "type": "long"
           },
           {
            "metadata": {},
            "name": "unique_customers",
            "nullable": true,
            "type": "long"
           }
          ],
          "type": "struct"
         },
         "tableIdentifier": null,
         "typeStr": "pyspark.sql.connect.dataframe.DataFrame"
        }
       ],
       "dbfsResultPath": null,
       "isJsonSchema": true,
       "metadata": {
        "createTempViewForImplicitDf": true,
        "dataframeName": "_sqldf",
        "executionCount": 2
       },
       "overflow": false,
       "plotOptions": {
        "customPlotOptions": {},
        "displayType": "table",
        "pivotAggregation": null,
        "pivotColumns": null,
        "xColumns": null,
        "yColumns": null
       },
       "removedWidgets": [],
       "schema": [
        {
         "metadata": "{}",
         "name": "campaign_id",
         "type": "\"string\""
        },
        {
         "metadata": "{}",
         "name": "campaign_name",
         "type": "\"string\""
        },
        {
         "metadata": "{}",
         "name": "start_date",
         "type": "\"date\""
        },
        {
         "metadata": "{}",
         "name": "end_date",
         "type": "\"date\""
        },
        {
         "metadata": "{}",
         "name": "total_sales",
         "type": "\"double\""
        },
        {
         "metadata": "{}",
         "name": "total_transactions",
         "type": "\"long\""
        },
        {
         "metadata": "{}",
         "name": "unique_customers",
         "type": "\"long\""
        }
       ],
       "type": "table"
      }
     },
     "output_type": "display_data"
    }
   ],
   "source": [
    "%sql\n",
    "SELECT * FROM workspace.dbt_cvarela.campaignsalessummary\n",
    "LIMIT 10"
   ]
  },
  {
   "cell_type": "code",
   "execution_count": 0,
   "metadata": {
    "application/vnd.databricks.v1+cell": {
     "cellMetadata": {
      "byteLimit": 2048000,
      "implicitDf": true,
      "rowLimit": 10000
     },
     "inputWidgets": {},
     "nuid": "b04d9ac3-cfa0-4537-9592-501caa416ac5",
     "showTitle": false,
     "tableResultSettingsMap": {},
     "title": ""
    }
   },
   "outputs": [
    {
     "output_type": "display_data",
     "data": {
      "text/html": [
       "<style scoped>\n",
       "  .table-result-container {\n",
       "    max-height: 300px;\n",
       "    overflow: auto;\n",
       "  }\n",
       "  table, th, td {\n",
       "    border: 1px solid black;\n",
       "    border-collapse: collapse;\n",
       "  }\n",
       "  th, td {\n",
       "    padding: 5px;\n",
       "  }\n",
       "  th {\n",
       "    text-align: left;\n",
       "  }\n",
       "</style><div class='table-result-container'><table class='table-result'><thead style='background-color: white'><tr><th>customer_segment</th><th>residential_location</th><th>total_sales</th><th>total_transactions</th><th>unique_customers</th></tr></thead><tbody><tr><td>In-Store Regular</td><td>Jacksonville</td><td>32762.85</td><td>10</td><td>10</td></tr><tr><td>Premium Shopper</td><td>Oakland</td><td>31651.859999999997</td><td>9</td><td>9</td></tr><tr><td>Online Shopper</td><td>Nashville</td><td>24804.55</td><td>8</td><td>7</td></tr><tr><td>Premium Shopper</td><td>San Diego</td><td>24494.730000000003</td><td>7</td><td>7</td></tr><tr><td>Loyal Customer</td><td>Colorado Springs</td><td>23873.15</td><td>6</td><td>6</td></tr><tr><td>Online Shopper</td><td>Sacramento</td><td>22817.91</td><td>6</td><td>6</td></tr><tr><td>Occasional Shopper</td><td>Boston</td><td>22742.27</td><td>9</td><td>9</td></tr><tr><td>High Value</td><td>Tampa</td><td>21868.980000000003</td><td>6</td><td>4</td></tr><tr><td>Online Shopper</td><td>Tulsa</td><td>21230.309999999998</td><td>6</td><td>6</td></tr><tr><td>Deal Seeker</td><td>San Jose</td><td>20947.550000000003</td><td>7</td><td>6</td></tr></tbody></table></div>"
      ]
     },
     "metadata": {
      "application/vnd.databricks.v1+output": {
       "addedWidgets": {},
       "aggData": [],
       "aggError": "",
       "aggOverflow": false,
       "aggSchema": [],
       "aggSeriesLimitReached": false,
       "aggType": "",
       "arguments": {},
       "columnCustomDisplayInfos": {},
       "data": [
        [
         "In-Store Regular",
         "Jacksonville",
         32762.85,
         10,
         10
        ],
        [
         "Premium Shopper",
         "Oakland",
         31651.859999999997,
         9,
         9
        ],
        [
         "Online Shopper",
         "Nashville",
         24804.55,
         8,
         7
        ],
        [
         "Premium Shopper",
         "San Diego",
         24494.730000000003,
         7,
         7
        ],
        [
         "Loyal Customer",
         "Colorado Springs",
         23873.15,
         6,
         6
        ],
        [
         "Online Shopper",
         "Sacramento",
         22817.91,
         6,
         6
        ],
        [
         "Occasional Shopper",
         "Boston",
         22742.27,
         9,
         9
        ],
        [
         "High Value",
         "Tampa",
         21868.980000000003,
         6,
         4
        ],
        [
         "Online Shopper",
         "Tulsa",
         21230.309999999998,
         6,
         6
        ],
        [
         "Deal Seeker",
         "San Jose",
         20947.550000000003,
         7,
         6
        ]
       ],
       "datasetInfos": [
        {
         "name": "_sqldf",
         "schema": {
          "fields": [
           {
            "metadata": {},
            "name": "customer_segment",
            "nullable": true,
            "type": "string"
           },
           {
            "metadata": {},
            "name": "residential_location",
            "nullable": true,
            "type": "string"
           },
           {
            "metadata": {},
            "name": "total_sales",
            "nullable": true,
            "type": "double"
           },
           {
            "metadata": {},
            "name": "total_transactions",
            "nullable": true,
            "type": "long"
           },
           {
            "metadata": {},
            "name": "unique_customers",
            "nullable": true,
            "type": "long"
           }
          ],
          "type": "struct"
         },
         "tableIdentifier": null,
         "typeStr": "pyspark.sql.connect.dataframe.DataFrame"
        }
       ],
       "dbfsResultPath": null,
       "isJsonSchema": true,
       "metadata": {
        "createTempViewForImplicitDf": true,
        "dataframeName": "_sqldf",
        "executionCount": 3
       },
       "overflow": false,
       "plotOptions": {
        "customPlotOptions": {},
        "displayType": "table",
        "pivotAggregation": null,
        "pivotColumns": null,
        "xColumns": null,
        "yColumns": null
       },
       "removedWidgets": [],
       "schema": [
        {
         "metadata": "{}",
         "name": "customer_segment",
         "type": "\"string\""
        },
        {
         "metadata": "{}",
         "name": "residential_location",
         "type": "\"string\""
        },
        {
         "metadata": "{}",
         "name": "total_sales",
         "type": "\"double\""
        },
        {
         "metadata": "{}",
         "name": "total_transactions",
         "type": "\"long\""
        },
        {
         "metadata": "{}",
         "name": "unique_customers",
         "type": "\"long\""
        }
       ],
       "type": "table"
      }
     },
     "output_type": "display_data"
    }
   ],
   "source": [
    "%sql\n",
    "SELECT * FROM workspace.dbt_cvarela.customersegmentsalessummary\n",
    "LIMIT 10"
   ]
  },
  {
   "cell_type": "code",
   "execution_count": 0,
   "metadata": {
    "application/vnd.databricks.v1+cell": {
     "cellMetadata": {
      "byteLimit": 2048000,
      "implicitDf": true,
      "rowLimit": 10000
     },
     "inputWidgets": {},
     "nuid": "ae5905dd-38fa-4bc2-b64e-06358f469b82",
     "showTitle": false,
     "tableResultSettingsMap": {},
     "title": ""
    }
   },
   "outputs": [
    {
     "output_type": "display_data",
     "data": {
      "text/html": [
       "<style scoped>\n",
       "  .table-result-container {\n",
       "    max-height: 300px;\n",
       "    overflow: auto;\n",
       "  }\n",
       "  table, th, td {\n",
       "    border: 1px solid black;\n",
       "    border-collapse: collapse;\n",
       "  }\n",
       "  th, td {\n",
       "    padding: 5px;\n",
       "  }\n",
       "  th {\n",
       "    text-align: left;\n",
       "  }\n",
       "</style><div class='table-result-container'><table class='table-result'><thead style='background-color: white'><tr><th>campaign_id</th><th>campaign_name</th><th>full_date</th><th>daily_sales</th><th>transactions</th><th>unique_customers</th></tr></thead><tbody><tr><td>CAMP_001</td><td>Winter Wonders Sale</td><td>2024-02-06</td><td>26958.370000000003</td><td>9</td><td>7</td></tr><tr><td>CAMP_001</td><td>Winter Wonders Sale</td><td>2024-02-07</td><td>18574.01</td><td>5</td><td>4</td></tr><tr><td>CAMP_001</td><td>Winter Wonders Sale</td><td>2024-02-08</td><td>33614.98</td><td>11</td><td>10</td></tr><tr><td>CAMP_001</td><td>Winter Wonders Sale</td><td>2024-02-09</td><td>23656.719999999998</td><td>7</td><td>4</td></tr><tr><td>CAMP_001</td><td>Winter Wonders Sale</td><td>2024-02-10</td><td>33185.82</td><td>11</td><td>7</td></tr><tr><td>CAMP_002</td><td>Spring Splash Discounts</td><td>2024-01-27</td><td>5784.1900000000005</td><td>3</td><td>2</td></tr><tr><td>CAMP_002</td><td>Spring Splash Discounts</td><td>2024-01-28</td><td>3859.89</td><td>1</td><td>1</td></tr><tr><td>CAMP_002</td><td>Spring Splash Discounts</td><td>2024-01-29</td><td>3305.08</td><td>1</td><td>0</td></tr><tr><td>CAMP_002</td><td>Spring Splash Discounts</td><td>2024-01-30</td><td>4544.13</td><td>1</td><td>1</td></tr><tr><td>CAMP_002</td><td>Spring Splash Discounts</td><td>2024-02-01</td><td>4797.26</td><td>1</td><td>1</td></tr></tbody></table></div>"
      ]
     },
     "metadata": {
      "application/vnd.databricks.v1+output": {
       "addedWidgets": {},
       "aggData": [],
       "aggError": "",
       "aggOverflow": false,
       "aggSchema": [],
       "aggSeriesLimitReached": false,
       "aggType": "",
       "arguments": {},
       "columnCustomDisplayInfos": {},
       "data": [
        [
         "CAMP_001",
         "Winter Wonders Sale",
         "2024-02-06",
         26958.370000000003,
         9,
         7
        ],
        [
         "CAMP_001",
         "Winter Wonders Sale",
         "2024-02-07",
         18574.01,
         5,
         4
        ],
        [
         "CAMP_001",
         "Winter Wonders Sale",
         "2024-02-08",
         33614.98,
         11,
         10
        ],
        [
         "CAMP_001",
         "Winter Wonders Sale",
         "2024-02-09",
         23656.719999999998,
         7,
         4
        ],
        [
         "CAMP_001",
         "Winter Wonders Sale",
         "2024-02-10",
         33185.82,
         11,
         7
        ],
        [
         "CAMP_002",
         "Spring Splash Discounts",
         "2024-01-27",
         5784.1900000000005,
         3,
         2
        ],
        [
         "CAMP_002",
         "Spring Splash Discounts",
         "2024-01-28",
         3859.89,
         1,
         1
        ],
        [
         "CAMP_002",
         "Spring Splash Discounts",
         "2024-01-29",
         3305.08,
         1,
         0
        ],
        [
         "CAMP_002",
         "Spring Splash Discounts",
         "2024-01-30",
         4544.13,
         1,
         1
        ],
        [
         "CAMP_002",
         "Spring Splash Discounts",
         "2024-02-01",
         4797.26,
         1,
         1
        ]
       ],
       "datasetInfos": [
        {
         "name": "_sqldf",
         "schema": {
          "fields": [
           {
            "metadata": {},
            "name": "campaign_id",
            "nullable": true,
            "type": "string"
           },
           {
            "metadata": {},
            "name": "campaign_name",
            "nullable": true,
            "type": "string"
           },
           {
            "metadata": {},
            "name": "full_date",
            "nullable": true,
            "type": "date"
           },
           {
            "metadata": {},
            "name": "daily_sales",
            "nullable": true,
            "type": "double"
           },
           {
            "metadata": {},
            "name": "transactions",
            "nullable": true,
            "type": "long"
           },
           {
            "metadata": {},
            "name": "unique_customers",
            "nullable": true,
            "type": "long"
           }
          ],
          "type": "struct"
         },
         "tableIdentifier": null,
         "typeStr": "pyspark.sql.connect.dataframe.DataFrame"
        }
       ],
       "dbfsResultPath": null,
       "isJsonSchema": true,
       "metadata": {
        "createTempViewForImplicitDf": true,
        "dataframeName": "_sqldf",
        "executionCount": 4
       },
       "overflow": false,
       "plotOptions": {
        "customPlotOptions": {},
        "displayType": "table",
        "pivotAggregation": null,
        "pivotColumns": null,
        "xColumns": null,
        "yColumns": null
       },
       "removedWidgets": [],
       "schema": [
        {
         "metadata": "{}",
         "name": "campaign_id",
         "type": "\"string\""
        },
        {
         "metadata": "{}",
         "name": "campaign_name",
         "type": "\"string\""
        },
        {
         "metadata": "{}",
         "name": "full_date",
         "type": "\"date\""
        },
        {
         "metadata": "{}",
         "name": "daily_sales",
         "type": "\"double\""
        },
        {
         "metadata": "{}",
         "name": "transactions",
         "type": "\"long\""
        },
        {
         "metadata": "{}",
         "name": "unique_customers",
         "type": "\"long\""
        }
       ],
       "type": "table"
      }
     },
     "output_type": "display_data"
    }
   ],
   "source": [
    "%sql\n",
    "SELECT * FROM workspace.dbt_cvarela.dailycampaignsales\n",
    "LIMIT 10"
   ]
  },
  {
   "cell_type": "code",
   "execution_count": 0,
   "metadata": {
    "application/vnd.databricks.v1+cell": {
     "cellMetadata": {
      "byteLimit": 2048000,
      "implicitDf": true,
      "rowLimit": 10000
     },
     "inputWidgets": {},
     "nuid": "de0fd50c-4d51-4848-956e-a9b1f280e25d",
     "showTitle": false,
     "tableResultSettingsMap": {},
     "title": ""
    }
   },
   "outputs": [
    {
     "output_type": "display_data",
     "data": {
      "text/html": [
       "<style scoped>\n",
       "  .table-result-container {\n",
       "    max-height: 300px;\n",
       "    overflow: auto;\n",
       "  }\n",
       "  table, th, td {\n",
       "    border: 1px solid black;\n",
       "    border-collapse: collapse;\n",
       "  }\n",
       "  th, td {\n",
       "    padding: 5px;\n",
       "  }\n",
       "  th {\n",
       "    text-align: left;\n",
       "  }\n",
       "</style><div class='table-result-container'><table class='table-result'><thead style='background-color: white'><tr><th>full_date</th><th>year</th><th>month</th><th>total_sales</th><th>num_transactions</th></tr></thead><tbody><tr><td>2024-01-05</td><td>2024</td><td>1</td><td>4898.38</td><td>1</td></tr><tr><td>2024-01-10</td><td>2024</td><td>1</td><td>3276.56</td><td>1</td></tr><tr><td>2024-01-11</td><td>2024</td><td>1</td><td>3587.64</td><td>1</td></tr><tr><td>2024-01-15</td><td>2024</td><td>1</td><td>5563.87</td><td>2</td></tr><tr><td>2024-01-16</td><td>2024</td><td>1</td><td>2358.86</td><td>1</td></tr><tr><td>2024-01-17</td><td>2024</td><td>1</td><td>7979.889999999999</td><td>2</td></tr><tr><td>2024-01-18</td><td>2024</td><td>1</td><td>3574.43</td><td>1</td></tr><tr><td>2024-01-19</td><td>2024</td><td>1</td><td>4023.87</td><td>1</td></tr><tr><td>2024-01-25</td><td>2024</td><td>1</td><td>8849.27</td><td>2</td></tr><tr><td>2024-01-26</td><td>2024</td><td>1</td><td>6542.6900000000005</td><td>3</td></tr></tbody></table></div>"
      ]
     },
     "metadata": {
      "application/vnd.databricks.v1+output": {
       "addedWidgets": {},
       "aggData": [],
       "aggError": "",
       "aggOverflow": false,
       "aggSchema": [],
       "aggSeriesLimitReached": false,
       "aggType": "",
       "arguments": {},
       "columnCustomDisplayInfos": {},
       "data": [
        [
         "2024-01-05",
         2024,
         1,
         4898.38,
         1
        ],
        [
         "2024-01-10",
         2024,
         1,
         3276.56,
         1
        ],
        [
         "2024-01-11",
         2024,
         1,
         3587.64,
         1
        ],
        [
         "2024-01-15",
         2024,
         1,
         5563.87,
         2
        ],
        [
         "2024-01-16",
         2024,
         1,
         2358.86,
         1
        ],
        [
         "2024-01-17",
         2024,
         1,
         7979.889999999999,
         2
        ],
        [
         "2024-01-18",
         2024,
         1,
         3574.43,
         1
        ],
        [
         "2024-01-19",
         2024,
         1,
         4023.87,
         1
        ],
        [
         "2024-01-25",
         2024,
         1,
         8849.27,
         2
        ],
        [
         "2024-01-26",
         2024,
         1,
         6542.6900000000005,
         3
        ]
       ],
       "datasetInfos": [
        {
         "name": "_sqldf",
         "schema": {
          "fields": [
           {
            "metadata": {},
            "name": "full_date",
            "nullable": true,
            "type": "date"
           },
           {
            "metadata": {},
            "name": "year",
            "nullable": true,
            "type": "integer"
           },
           {
            "metadata": {},
            "name": "month",
            "nullable": true,
            "type": "integer"
           },
           {
            "metadata": {},
            "name": "total_sales",
            "nullable": true,
            "type": "double"
           },
           {
            "metadata": {},
            "name": "num_transactions",
            "nullable": true,
            "type": "long"
           }
          ],
          "type": "struct"
         },
         "tableIdentifier": null,
         "typeStr": "pyspark.sql.connect.dataframe.DataFrame"
        }
       ],
       "dbfsResultPath": null,
       "isJsonSchema": true,
       "metadata": {
        "createTempViewForImplicitDf": true,
        "dataframeName": "_sqldf",
        "executionCount": 5
       },
       "overflow": false,
       "plotOptions": {
        "customPlotOptions": {},
        "displayType": "table",
        "pivotAggregation": null,
        "pivotColumns": null,
        "xColumns": null,
        "yColumns": null
       },
       "removedWidgets": [],
       "schema": [
        {
         "metadata": "{}",
         "name": "full_date",
         "type": "\"date\""
        },
        {
         "metadata": "{}",
         "name": "year",
         "type": "\"integer\""
        },
        {
         "metadata": "{}",
         "name": "month",
         "type": "\"integer\""
        },
        {
         "metadata": "{}",
         "name": "total_sales",
         "type": "\"double\""
        },
        {
         "metadata": "{}",
         "name": "num_transactions",
         "type": "\"long\""
        }
       ],
       "type": "table"
      }
     },
     "output_type": "display_data"
    }
   ],
   "source": [
    "%sql\n",
    "SELECT * FROM workspace.dbt_cvarela.dailymonthlysalessummary\n",
    "LIMIT 10"
   ]
  },
  {
   "cell_type": "code",
   "execution_count": 0,
   "metadata": {
    "application/vnd.databricks.v1+cell": {
     "cellMetadata": {
      "byteLimit": 2048000,
      "implicitDf": true,
      "rowLimit": 10000
     },
     "inputWidgets": {},
     "nuid": "1f91c9a8-6095-48b4-a5f3-a5478a8958ba",
     "showTitle": false,
     "tableResultSettingsMap": {},
     "title": ""
    }
   },
   "outputs": [
    {
     "output_type": "display_data",
     "data": {
      "text/html": [
       "<style scoped>\n",
       "  .table-result-container {\n",
       "    max-height: 300px;\n",
       "    overflow: auto;\n",
       "  }\n",
       "  table, th, td {\n",
       "    border: 1px solid black;\n",
       "    border-collapse: collapse;\n",
       "  }\n",
       "  th, td {\n",
       "    padding: 5px;\n",
       "  }\n",
       "  th {\n",
       "    text-align: left;\n",
       "  }\n",
       "</style><div class='table-result-container'><table class='table-result'><thead style='background-color: white'><tr><th>store_id</th><th>store_name</th><th>store_location</th><th>full_date</th><th>daily_sales</th><th>transactions</th></tr></thead><tbody><tr><td>STR_00140</td><td>Roomify</td><td>Louisville</td><td>2024-01-05</td><td>4898.38</td><td>1</td></tr><tr><td>STR_00475</td><td>HyperMart</td><td>El Paso</td><td>2024-01-10</td><td>3276.56</td><td>1</td></tr><tr><td>STR_00234</td><td>FabNest</td><td>Mesa</td><td>2024-01-11</td><td>3587.64</td><td>1</td></tr><tr><td>STR_00392</td><td>SportShack</td><td>Atlanta</td><td>2024-01-15</td><td>3463.75</td><td>1</td></tr><tr><td>STR_00110</td><td>Trendify</td><td>Washington</td><td>2024-01-15</td><td>2100.12</td><td>1</td></tr><tr><td>STR_00378</td><td>ElectroPoint</td><td>Oklahoma City</td><td>2024-01-16</td><td>2358.86</td><td>1</td></tr><tr><td>STR_00335</td><td>DailyDeals</td><td>Boston</td><td>2024-01-17</td><td>4328.44</td><td>1</td></tr><tr><td>STR_00410</td><td>ModernMart</td><td>Tulsa</td><td>2024-01-17</td><td>3651.45</td><td>1</td></tr><tr><td>STR_00023</td><td>UrbanGear</td><td>San Jose</td><td>2024-01-19</td><td>4023.87</td><td>1</td></tr><tr><td>STR_00295</td><td>ModernMart</td><td>Arlington</td><td>2024-01-25</td><td>4491.7</td><td>1</td></tr></tbody></table></div>"
      ]
     },
     "metadata": {
      "application/vnd.databricks.v1+output": {
       "addedWidgets": {},
       "aggData": [],
       "aggError": "",
       "aggOverflow": false,
       "aggSchema": [],
       "aggSeriesLimitReached": false,
       "aggType": "",
       "arguments": {},
       "columnCustomDisplayInfos": {},
       "data": [
        [
         "STR_00140",
         "Roomify",
         "Louisville",
         "2024-01-05",
         4898.38,
         1
        ],
        [
         "STR_00475",
         "HyperMart",
         "El Paso",
         "2024-01-10",
         3276.56,
         1
        ],
        [
         "STR_00234",
         "FabNest",
         "Mesa",
         "2024-01-11",
         3587.64,
         1
        ],
        [
         "STR_00392",
         "SportShack",
         "Atlanta",
         "2024-01-15",
         3463.75,
         1
        ],
        [
         "STR_00110",
         "Trendify",
         "Washington",
         "2024-01-15",
         2100.12,
         1
        ],
        [
         "STR_00378",
         "ElectroPoint",
         "Oklahoma City",
         "2024-01-16",
         2358.86,
         1
        ],
        [
         "STR_00335",
         "DailyDeals",
         "Boston",
         "2024-01-17",
         4328.44,
         1
        ],
        [
         "STR_00410",
         "ModernMart",
         "Tulsa",
         "2024-01-17",
         3651.45,
         1
        ],
        [
         "STR_00023",
         "UrbanGear",
         "San Jose",
         "2024-01-19",
         4023.87,
         1
        ],
        [
         "STR_00295",
         "ModernMart",
         "Arlington",
         "2024-01-25",
         4491.7,
         1
        ]
       ],
       "datasetInfos": [
        {
         "name": "_sqldf",
         "schema": {
          "fields": [
           {
            "metadata": {},
            "name": "store_id",
            "nullable": true,
            "type": "string"
           },
           {
            "metadata": {},
            "name": "store_name",
            "nullable": true,
            "type": "string"
           },
           {
            "metadata": {},
            "name": "store_location",
            "nullable": true,
            "type": "string"
           },
           {
            "metadata": {},
            "name": "full_date",
            "nullable": true,
            "type": "date"
           },
           {
            "metadata": {},
            "name": "daily_sales",
            "nullable": true,
            "type": "double"
           },
           {
            "metadata": {},
            "name": "transactions",
            "nullable": true,
            "type": "long"
           }
          ],
          "type": "struct"
         },
         "tableIdentifier": null,
         "typeStr": "pyspark.sql.connect.dataframe.DataFrame"
        }
       ],
       "dbfsResultPath": null,
       "isJsonSchema": true,
       "metadata": {
        "createTempViewForImplicitDf": true,
        "dataframeName": "_sqldf",
        "executionCount": 6
       },
       "overflow": false,
       "plotOptions": {
        "customPlotOptions": {},
        "displayType": "table",
        "pivotAggregation": null,
        "pivotColumns": null,
        "xColumns": null,
        "yColumns": null
       },
       "removedWidgets": [],
       "schema": [
        {
         "metadata": "{}",
         "name": "store_id",
         "type": "\"string\""
        },
        {
         "metadata": "{}",
         "name": "store_name",
         "type": "\"string\""
        },
        {
         "metadata": "{}",
         "name": "store_location",
         "type": "\"string\""
        },
        {
         "metadata": "{}",
         "name": "full_date",
         "type": "\"date\""
        },
        {
         "metadata": "{}",
         "name": "daily_sales",
         "type": "\"double\""
        },
        {
         "metadata": "{}",
         "name": "transactions",
         "type": "\"long\""
        }
       ],
       "type": "table"
      }
     },
     "output_type": "display_data"
    }
   ],
   "source": [
    "%sql\n",
    "SELECT * FROM workspace.dbt_cvarela.dailystoresales\n",
    "LIMIT 10"
   ]
  },
  {
   "cell_type": "code",
   "execution_count": 0,
   "metadata": {
    "application/vnd.databricks.v1+cell": {
     "cellMetadata": {
      "byteLimit": 2048000,
      "implicitDf": true,
      "rowLimit": 10000
     },
     "inputWidgets": {},
     "nuid": "7681328f-0803-425e-a40a-eba449a09ba4",
     "showTitle": false,
     "tableResultSettingsMap": {},
     "title": ""
    }
   },
   "outputs": [
    {
     "output_type": "display_data",
     "data": {
      "text/html": [
       "<style scoped>\n",
       "  .table-result-container {\n",
       "    max-height: 300px;\n",
       "    overflow: auto;\n",
       "  }\n",
       "  table, th, td {\n",
       "    border: 1px solid black;\n",
       "    border-collapse: collapse;\n",
       "  }\n",
       "  th, td {\n",
       "    padding: 5px;\n",
       "  }\n",
       "  th {\n",
       "    text-align: left;\n",
       "  }\n",
       "</style><div class='table-result-container'><table class='table-result'><thead style='background-color: white'><tr><th>category</th><th>year</th><th>month_name</th><th>total_sales</th><th>transactions</th></tr></thead><tbody><tr><td>Clothing</td><td>2024</td><td>January</td><td>31777.159999999996</td><td>10</td></tr><tr><td>Furniture</td><td>2024</td><td>January</td><td>13267.65</td><td>4</td></tr><tr><td>Groceries</td><td>2024</td><td>January</td><td>12875.759999999998</td><td>4</td></tr><tr><td>Home Appliances</td><td>2024</td><td>January</td><td>12719.189999999999</td><td>6</td></tr><tr><td>Sports & Outdoors</td><td>2024</td><td>January</td><td>9114.51</td><td>3</td></tr><tr><td>Electronics</td><td>2024</td><td>January</td><td>4491.7</td><td>1</td></tr><tr><td>Home Appliances</td><td>2024</td><td>February</td><td>100583.81</td><td>35</td></tr><tr><td>Sports & Outdoors</td><td>2024</td><td>February</td><td>73806.93000000001</td><td>26</td></tr><tr><td>Clothing</td><td>2024</td><td>February</td><td>63731.06</td><td>25</td></tr><tr><td>Furniture</td><td>2024</td><td>February</td><td>62184.87</td><td>24</td></tr></tbody></table></div>"
      ]
     },
     "metadata": {
      "application/vnd.databricks.v1+output": {
       "addedWidgets": {},
       "aggData": [],
       "aggError": "",
       "aggOverflow": false,
       "aggSchema": [],
       "aggSeriesLimitReached": false,
       "aggType": "",
       "arguments": {},
       "columnCustomDisplayInfos": {},
       "data": [
        [
         "Clothing",
         2024,
         "January",
         31777.159999999996,
         10
        ],
        [
         "Furniture",
         2024,
         "January",
         13267.65,
         4
        ],
        [
         "Groceries",
         2024,
         "January",
         12875.759999999998,
         4
        ],
        [
         "Home Appliances",
         2024,
         "January",
         12719.189999999999,
         6
        ],
        [
         "Sports & Outdoors",
         2024,
         "January",
         9114.51,
         3
        ],
        [
         "Electronics",
         2024,
         "January",
         4491.7,
         1
        ],
        [
         "Home Appliances",
         2024,
         "February",
         100583.81,
         35
        ],
        [
         "Sports & Outdoors",
         2024,
         "February",
         73806.93000000001,
         26
        ],
        [
         "Clothing",
         2024,
         "February",
         63731.06,
         25
        ],
        [
         "Furniture",
         2024,
         "February",
         62184.87,
         24
        ]
       ],
       "datasetInfos": [
        {
         "name": "_sqldf",
         "schema": {
          "fields": [
           {
            "metadata": {},
            "name": "category",
            "nullable": true,
            "type": "string"
           },
           {
            "metadata": {},
            "name": "year",
            "nullable": true,
            "type": "integer"
           },
           {
            "metadata": {},
            "name": "month_name",
            "nullable": true,
            "type": "string"
           },
           {
            "metadata": {},
            "name": "total_sales",
            "nullable": true,
            "type": "double"
           },
           {
            "metadata": {},
            "name": "transactions",
            "nullable": true,
            "type": "long"
           }
          ],
          "type": "struct"
         },
         "tableIdentifier": null,
         "typeStr": "pyspark.sql.connect.dataframe.DataFrame"
        }
       ],
       "dbfsResultPath": null,
       "isJsonSchema": true,
       "metadata": {
        "createTempViewForImplicitDf": true,
        "dataframeName": "_sqldf",
        "executionCount": 7
       },
       "overflow": false,
       "plotOptions": {
        "customPlotOptions": {},
        "displayType": "table",
        "pivotAggregation": null,
        "pivotColumns": null,
        "xColumns": null,
        "yColumns": null
       },
       "removedWidgets": [],
       "schema": [
        {
         "metadata": "{}",
         "name": "category",
         "type": "\"string\""
        },
        {
         "metadata": "{}",
         "name": "year",
         "type": "\"integer\""
        },
        {
         "metadata": "{}",
         "name": "month_name",
         "type": "\"string\""
        },
        {
         "metadata": "{}",
         "name": "total_sales",
         "type": "\"double\""
        },
        {
         "metadata": "{}",
         "name": "transactions",
         "type": "\"long\""
        }
       ],
       "type": "table"
      }
     },
     "output_type": "display_data"
    }
   ],
   "source": [
    "%sql\n",
    "SELECT * FROM workspace.dbt_cvarela.monthlysalesbycategory\n",
    "LIMIT 10"
   ]
  },
  {
   "cell_type": "code",
   "execution_count": 0,
   "metadata": {
    "application/vnd.databricks.v1+cell": {
     "cellMetadata": {
      "byteLimit": 2048000,
      "implicitDf": true,
      "rowLimit": 10000
     },
     "inputWidgets": {},
     "nuid": "c7e4fe86-0dde-44d1-8cbb-25eab9d96e4a",
     "showTitle": false,
     "tableResultSettingsMap": {},
     "title": ""
    }
   },
   "outputs": [
    {
     "output_type": "display_data",
     "data": {
      "text/html": [
       "<style scoped>\n",
       "  .table-result-container {\n",
       "    max-height: 300px;\n",
       "    overflow: auto;\n",
       "  }\n",
       "  table, th, td {\n",
       "    border: 1px solid black;\n",
       "    border-collapse: collapse;\n",
       "  }\n",
       "  th, td {\n",
       "    padding: 5px;\n",
       "  }\n",
       "  th {\n",
       "    text-align: left;\n",
       "  }\n",
       "</style><div class='table-result-container'><table class='table-result'><thead style='background-color: white'><tr><th>salesperson_id</th><th>salesperson_name</th><th>salesperson_role</th><th>year</th><th>month</th><th>total_sales</th><th>transactions</th></tr></thead><tbody><tr><td>SP01152</td><td>Kimberly Salazar</td><td>Manager</td><td>2024</td><td>1</td><td>4981.59</td><td>1</td></tr><tr><td>SP00462</td><td>Jennifer Crawford</td><td>Salesperson</td><td>2024</td><td>1</td><td>4898.38</td><td>1</td></tr><tr><td>SP00084</td><td>Sheena Powers</td><td>Senior Salesperson</td><td>2024</td><td>1</td><td>4864.47</td><td>1</td></tr><tr><td>SP01827</td><td>Martin Gonzales</td><td>Sales Associate</td><td>2024</td><td>1</td><td>4544.13</td><td>1</td></tr><tr><td>SP01726</td><td>Brooke Clark</td><td>Sales Associate</td><td>2024</td><td>1</td><td>4491.7</td><td>1</td></tr><tr><td>SP00038</td><td>Randy Robinson</td><td>Manager</td><td>2024</td><td>1</td><td>4357.57</td><td>1</td></tr><tr><td>SP01670</td><td>Tara Miller</td><td>Manager</td><td>2024</td><td>1</td><td>4328.44</td><td>1</td></tr><tr><td>SP00978</td><td>Jerry Gonzalez</td><td>Manager</td><td>2024</td><td>1</td><td>4023.87</td><td>1</td></tr><tr><td>SP01269</td><td>Amanda Thompson</td><td>Sales Associate</td><td>2024</td><td>1</td><td>3859.89</td><td>1</td></tr><tr><td>SP01745</td><td>Kyle Jackson</td><td>Manager</td><td>2024</td><td>1</td><td>3651.45</td><td>1</td></tr></tbody></table></div>"
      ]
     },
     "metadata": {
      "application/vnd.databricks.v1+output": {
       "addedWidgets": {},
       "aggData": [],
       "aggError": "",
       "aggOverflow": false,
       "aggSchema": [],
       "aggSeriesLimitReached": false,
       "aggType": "",
       "arguments": {},
       "columnCustomDisplayInfos": {},
       "data": [
        [
         "SP01152",
         "Kimberly Salazar",
         "Manager",
         2024,
         1,
         4981.59,
         1
        ],
        [
         "SP00462",
         "Jennifer Crawford",
         "Salesperson",
         2024,
         1,
         4898.38,
         1
        ],
        [
         "SP00084",
         "Sheena Powers",
         "Senior Salesperson",
         2024,
         1,
         4864.47,
         1
        ],
        [
         "SP01827",
         "Martin Gonzales",
         "Sales Associate",
         2024,
         1,
         4544.13,
         1
        ],
        [
         "SP01726",
         "Brooke Clark",
         "Sales Associate",
         2024,
         1,
         4491.7,
         1
        ],
        [
         "SP00038",
         "Randy Robinson",
         "Manager",
         2024,
         1,
         4357.57,
         1
        ],
        [
         "SP01670",
         "Tara Miller",
         "Manager",
         2024,
         1,
         4328.44,
         1
        ],
        [
         "SP00978",
         "Jerry Gonzalez",
         "Manager",
         2024,
         1,
         4023.87,
         1
        ],
        [
         "SP01269",
         "Amanda Thompson",
         "Sales Associate",
         2024,
         1,
         3859.89,
         1
        ],
        [
         "SP01745",
         "Kyle Jackson",
         "Manager",
         2024,
         1,
         3651.45,
         1
        ]
       ],
       "datasetInfos": [
        {
         "name": "_sqldf",
         "schema": {
          "fields": [
           {
            "metadata": {},
            "name": "salesperson_id",
            "nullable": true,
            "type": "string"
           },
           {
            "metadata": {},
            "name": "salesperson_name",
            "nullable": true,
            "type": "string"
           },
           {
            "metadata": {},
            "name": "salesperson_role",
            "nullable": true,
            "type": "string"
           },
           {
            "metadata": {},
            "name": "year",
            "nullable": true,
            "type": "integer"
           },
           {
            "metadata": {},
            "name": "month",
            "nullable": true,
            "type": "integer"
           },
           {
            "metadata": {},
            "name": "total_sales",
            "nullable": true,
            "type": "double"
           },
           {
            "metadata": {},
            "name": "transactions",
            "nullable": true,
            "type": "long"
           }
          ],
          "type": "struct"
         },
         "tableIdentifier": null,
         "typeStr": "pyspark.sql.connect.dataframe.DataFrame"
        }
       ],
       "dbfsResultPath": null,
       "isJsonSchema": true,
       "metadata": {
        "createTempViewForImplicitDf": true,
        "dataframeName": "_sqldf",
        "executionCount": 8
       },
       "overflow": false,
       "plotOptions": {
        "customPlotOptions": {},
        "displayType": "table",
        "pivotAggregation": null,
        "pivotColumns": null,
        "xColumns": null,
        "yColumns": null
       },
       "removedWidgets": [],
       "schema": [
        {
         "metadata": "{}",
         "name": "salesperson_id",
         "type": "\"string\""
        },
        {
         "metadata": "{}",
         "name": "salesperson_name",
         "type": "\"string\""
        },
        {
         "metadata": "{}",
         "name": "salesperson_role",
         "type": "\"string\""
        },
        {
         "metadata": "{}",
         "name": "year",
         "type": "\"integer\""
        },
        {
         "metadata": "{}",
         "name": "month",
         "type": "\"integer\""
        },
        {
         "metadata": "{}",
         "name": "total_sales",
         "type": "\"double\""
        },
        {
         "metadata": "{}",
         "name": "transactions",
         "type": "\"long\""
        }
       ],
       "type": "table"
      }
     },
     "output_type": "display_data"
    }
   ],
   "source": [
    "%sql\n",
    "SELECT * FROM workspace.dbt_cvarela.monthlysalesbysalesperson\n",
    "LIMIT 10\n"
   ]
  },
  {
   "cell_type": "code",
   "execution_count": 0,
   "metadata": {
    "application/vnd.databricks.v1+cell": {
     "cellMetadata": {
      "byteLimit": 2048000,
      "implicitDf": true,
      "rowLimit": 10000
     },
     "inputWidgets": {},
     "nuid": "39d84eac-1960-4d0c-b42f-514cd361dda9",
     "showTitle": false,
     "tableResultSettingsMap": {},
     "title": ""
    }
   },
   "outputs": [
    {
     "output_type": "display_data",
     "data": {
      "text/html": [
       "<style scoped>\n",
       "  .table-result-container {\n",
       "    max-height: 300px;\n",
       "    overflow: auto;\n",
       "  }\n",
       "  table, th, td {\n",
       "    border: 1px solid black;\n",
       "    border-collapse: collapse;\n",
       "  }\n",
       "  th, td {\n",
       "    padding: 5px;\n",
       "  }\n",
       "  th {\n",
       "    text-align: left;\n",
       "  }\n",
       "</style><div class='table-result-container'><table class='table-result'><thead style='background-color: white'><tr><th>salesperson_id</th><th>salesperson_name</th><th>salesperson_role</th><th>total_sales</th><th>total_transactions</th></tr></thead><tbody><tr><td>SP00466</td><td>Christopher Duncan</td><td>Manager</td><td>24526.919999999995</td><td>8</td></tr><tr><td>SP01375</td><td>Shane Dyer</td><td>Salesperson</td><td>17520.22</td><td>6</td></tr><tr><td>SP00879</td><td>Timothy Wright</td><td>Senior Salesperson</td><td>17415.45</td><td>6</td></tr><tr><td>SP00555</td><td>Joshua Silva</td><td>Salesperson</td><td>17145.74</td><td>5</td></tr><tr><td>SP00063</td><td>Philip Sullivan</td><td>Salesperson</td><td>16896.96</td><td>5</td></tr><tr><td>SP01380</td><td>Michael Bruce</td><td>Manager</td><td>16302.99</td><td>4</td></tr><tr><td>SP01512</td><td>Julie Wells</td><td>Manager</td><td>15522.7</td><td>4</td></tr><tr><td>SP01389</td><td>Sheri Walker</td><td>Manager</td><td>15437.439999999999</td><td>4</td></tr><tr><td>SP00648</td><td>John Phillips</td><td>Manager</td><td>15241.73</td><td>5</td></tr><tr><td>SP00496</td><td>Peter Moore</td><td>Sales Associate</td><td>15151.27</td><td>5</td></tr></tbody></table></div>"
      ]
     },
     "metadata": {
      "application/vnd.databricks.v1+output": {
       "addedWidgets": {},
       "aggData": [],
       "aggError": "",
       "aggOverflow": false,
       "aggSchema": [],
       "aggSeriesLimitReached": false,
       "aggType": "",
       "arguments": {},
       "columnCustomDisplayInfos": {},
       "data": [
        [
         "SP00466",
         "Christopher Duncan",
         "Manager",
         24526.919999999995,
         8
        ],
        [
         "SP01375",
         "Shane Dyer",
         "Salesperson",
         17520.22,
         6
        ],
        [
         "SP00879",
         "Timothy Wright",
         "Senior Salesperson",
         17415.45,
         6
        ],
        [
         "SP00555",
         "Joshua Silva",
         "Salesperson",
         17145.74,
         5
        ],
        [
         "SP00063",
         "Philip Sullivan",
         "Salesperson",
         16896.96,
         5
        ],
        [
         "SP01380",
         "Michael Bruce",
         "Manager",
         16302.99,
         4
        ],
        [
         "SP01512",
         "Julie Wells",
         "Manager",
         15522.7,
         4
        ],
        [
         "SP01389",
         "Sheri Walker",
         "Manager",
         15437.439999999999,
         4
        ],
        [
         "SP00648",
         "John Phillips",
         "Manager",
         15241.73,
         5
        ],
        [
         "SP00496",
         "Peter Moore",
         "Sales Associate",
         15151.27,
         5
        ]
       ],
       "datasetInfos": [
        {
         "name": "_sqldf",
         "schema": {
          "fields": [
           {
            "metadata": {},
            "name": "salesperson_id",
            "nullable": true,
            "type": "string"
           },
           {
            "metadata": {},
            "name": "salesperson_name",
            "nullable": true,
            "type": "string"
           },
           {
            "metadata": {},
            "name": "salesperson_role",
            "nullable": true,
            "type": "string"
           },
           {
            "metadata": {},
            "name": "total_sales",
            "nullable": true,
            "type": "double"
           },
           {
            "metadata": {},
            "name": "total_transactions",
            "nullable": true,
            "type": "long"
           }
          ],
          "type": "struct"
         },
         "tableIdentifier": null,
         "typeStr": "pyspark.sql.connect.dataframe.DataFrame"
        }
       ],
       "dbfsResultPath": null,
       "isJsonSchema": true,
       "metadata": {
        "createTempViewForImplicitDf": true,
        "dataframeName": "_sqldf",
        "executionCount": 9
       },
       "overflow": false,
       "plotOptions": {
        "customPlotOptions": {},
        "displayType": "table",
        "pivotAggregation": null,
        "pivotColumns": null,
        "xColumns": null,
        "yColumns": null
       },
       "removedWidgets": [],
       "schema": [
        {
         "metadata": "{}",
         "name": "salesperson_id",
         "type": "\"string\""
        },
        {
         "metadata": "{}",
         "name": "salesperson_name",
         "type": "\"string\""
        },
        {
         "metadata": "{}",
         "name": "salesperson_role",
         "type": "\"string\""
        },
        {
         "metadata": "{}",
         "name": "total_sales",
         "type": "\"double\""
        },
        {
         "metadata": "{}",
         "name": "total_transactions",
         "type": "\"long\""
        }
       ],
       "type": "table"
      }
     },
     "output_type": "display_data"
    }
   ],
   "source": [
    "%sql\n",
    "SELECT * FROM workspace.dbt_cvarela.salespersonsalessummary\n",
    "LIMIT 10"
   ]
  },
  {
   "cell_type": "code",
   "execution_count": 0,
   "metadata": {
    "application/vnd.databricks.v1+cell": {
     "cellMetadata": {
      "byteLimit": 2048000,
      "implicitDf": true,
      "rowLimit": 10000
     },
     "inputWidgets": {},
     "nuid": "9e67b98c-6ab9-40e1-96ff-71ec9ea1ff4c",
     "showTitle": false,
     "tableResultSettingsMap": {},
     "title": ""
    }
   },
   "outputs": [
    {
     "output_type": "display_data",
     "data": {
      "text/html": [
       "<style scoped>\n",
       "  .table-result-container {\n",
       "    max-height: 300px;\n",
       "    overflow: auto;\n",
       "  }\n",
       "  table, th, td {\n",
       "    border: 1px solid black;\n",
       "    border-collapse: collapse;\n",
       "  }\n",
       "  th, td {\n",
       "    padding: 5px;\n",
       "  }\n",
       "  th {\n",
       "    text-align: left;\n",
       "  }\n",
       "</style><div class='table-result-container'><table class='table-result'><thead style='background-color: white'><tr><th>category</th><th>brand</th><th>total_sales</th><th>num_transactions</th></tr></thead><tbody><tr><td>Furniture</td><td>Urban Ladder</td><td>218852.86</td><td>68</td></tr><tr><td>Sports & Outdoors</td><td>Adidas</td><td>215638.87999999998</td><td>72</td></tr><tr><td>Sports & Outdoors</td><td>Nike</td><td>214567.31</td><td>78</td></tr><tr><td>Furniture</td><td>IKEA</td><td>209271.10000000003</td><td>76</td></tr><tr><td>Electronics</td><td>Apple</td><td>208293.52000000002</td><td>70</td></tr><tr><td>Groceries</td><td>Tata</td><td>206454.00000000012</td><td>83</td></tr><tr><td>Furniture</td><td>Home Centre</td><td>202185.35</td><td>66</td></tr><tr><td>Groceries</td><td>Amul</td><td>201840.97999999995</td><td>72</td></tr><tr><td>Groceries</td><td>Nestle</td><td>201325.87999999998</td><td>63</td></tr><tr><td>Home Appliances</td><td>LG</td><td>201209.24</td><td>77</td></tr></tbody></table></div>"
      ]
     },
     "metadata": {
      "application/vnd.databricks.v1+output": {
       "addedWidgets": {},
       "aggData": [],
       "aggError": "",
       "aggOverflow": false,
       "aggSchema": [],
       "aggSeriesLimitReached": false,
       "aggType": "",
       "arguments": {},
       "columnCustomDisplayInfos": {},
       "data": [
        [
         "Furniture",
         "Urban Ladder",
         218852.86,
         68
        ],
        [
         "Sports & Outdoors",
         "Adidas",
         215638.87999999998,
         72
        ],
        [
         "Sports & Outdoors",
         "Nike",
         214567.31,
         78
        ],
        [
         "Furniture",
         "IKEA",
         209271.10000000003,
         76
        ],
        [
         "Electronics",
         "Apple",
         208293.52000000002,
         70
        ],
        [
         "Groceries",
         "Tata",
         206454.00000000012,
         83
        ],
        [
         "Furniture",
         "Home Centre",
         202185.35,
         66
        ],
        [
         "Groceries",
         "Amul",
         201840.97999999995,
         72
        ],
        [
         "Groceries",
         "Nestle",
         201325.87999999998,
         63
        ],
        [
         "Home Appliances",
         "LG",
         201209.24,
         77
        ]
       ],
       "datasetInfos": [
        {
         "name": "_sqldf",
         "schema": {
          "fields": [
           {
            "metadata": {},
            "name": "category",
            "nullable": true,
            "type": "string"
           },
           {
            "metadata": {},
            "name": "brand",
            "nullable": true,
            "type": "string"
           },
           {
            "metadata": {},
            "name": "total_sales",
            "nullable": true,
            "type": "double"
           },
           {
            "metadata": {},
            "name": "num_transactions",
            "nullable": true,
            "type": "long"
           }
          ],
          "type": "struct"
         },
         "tableIdentifier": null,
         "typeStr": "pyspark.sql.connect.dataframe.DataFrame"
        }
       ],
       "dbfsResultPath": null,
       "isJsonSchema": true,
       "metadata": {
        "createTempViewForImplicitDf": true,
        "dataframeName": "_sqldf",
        "executionCount": 10
       },
       "overflow": false,
       "plotOptions": {
        "customPlotOptions": {},
        "displayType": "table",
        "pivotAggregation": null,
        "pivotColumns": null,
        "xColumns": null,
        "yColumns": null
       },
       "removedWidgets": [],
       "schema": [
        {
         "metadata": "{}",
         "name": "category",
         "type": "\"string\""
        },
        {
         "metadata": "{}",
         "name": "brand",
         "type": "\"string\""
        },
        {
         "metadata": "{}",
         "name": "total_sales",
         "type": "\"double\""
        },
        {
         "metadata": "{}",
         "name": "num_transactions",
         "type": "\"long\""
        }
       ],
       "type": "table"
      }
     },
     "output_type": "display_data"
    }
   ],
   "source": [
    "%sql\n",
    "SELECT * FROM workspace.dbt_cvarela.salessummarybycategorybrand\n",
    "LIMIT 10"
   ]
  },
  {
   "cell_type": "code",
   "execution_count": 0,
   "metadata": {
    "application/vnd.databricks.v1+cell": {
     "cellMetadata": {
      "byteLimit": 2048000,
      "implicitDf": true,
      "rowLimit": 10000
     },
     "inputWidgets": {},
     "nuid": "a009acab-deb9-4673-8abc-799c8294808a",
     "showTitle": false,
     "tableResultSettingsMap": {},
     "title": ""
    }
   },
   "outputs": [
    {
     "output_type": "display_data",
     "data": {
      "text/html": [
       "<style scoped>\n",
       "  .table-result-container {\n",
       "    max-height: 300px;\n",
       "    overflow: auto;\n",
       "  }\n",
       "  table, th, td {\n",
       "    border: 1px solid black;\n",
       "    border-collapse: collapse;\n",
       "  }\n",
       "  th, td {\n",
       "    padding: 5px;\n",
       "  }\n",
       "  th {\n",
       "    text-align: left;\n",
       "  }\n",
       "</style><div class='table-result-container'><table class='table-result'><thead style='background-color: white'><tr><th>store_id</th><th>store_name</th><th>store_type</th><th>store_location</th><th>total_sales</th><th>total_transactions</th></tr></thead><tbody><tr><td>STR_00481</td><td>DailyMart</td><td>Small Stores / Shops</td><td>Dallas</td><td>36376.35</td><td>11</td></tr><tr><td>STR_00496</td><td>GrocerEase</td><td>Small Stores / Shops</td><td>Long Beach</td><td>35531.42</td><td>9</td></tr><tr><td>STR_00137</td><td>TechBazaar</td><td>Small Stores / Shops</td><td>Virginia Beach</td><td>33583.17</td><td>10</td></tr><tr><td>STR_00479</td><td>FitNGo</td><td>Small Stores / Shops</td><td>Detroit</td><td>29946.1</td><td>11</td></tr><tr><td>STR_00317</td><td>MegaDeals</td><td>Small Stores / Shops</td><td>Portland</td><td>28890.09</td><td>8</td></tr><tr><td>STR_00391</td><td>DailyMart</td><td>Small Stores / Shops</td><td>San Jose</td><td>28082.100000000002</td><td>8</td></tr><tr><td>STR_00480</td><td>HyperMart</td><td>Small Stores / Shops</td><td>Tampa</td><td>27573.730000000003</td><td>9</td></tr><tr><td>STR_00245</td><td>SmartChoice</td><td>Supermarkets </td><td>Fort Worth</td><td>27169.090000000004</td><td>8</td></tr><tr><td>STR_00365</td><td>ActiveLife</td><td>Small Stores / Shops</td><td>Chicago</td><td>26613.12</td><td>9</td></tr><tr><td>STR_00257</td><td>FabNest</td><td>Supermarkets </td><td>Albuquerque</td><td>25958.91</td><td>10</td></tr></tbody></table></div>"
      ]
     },
     "metadata": {
      "application/vnd.databricks.v1+output": {
       "addedWidgets": {},
       "aggData": [],
       "aggError": "",
       "aggOverflow": false,
       "aggSchema": [],
       "aggSeriesLimitReached": false,
       "aggType": "",
       "arguments": {},
       "columnCustomDisplayInfos": {},
       "data": [
        [
         "STR_00481",
         "DailyMart",
         "Small Stores / Shops",
         "Dallas",
         36376.35,
         11
        ],
        [
         "STR_00496",
         "GrocerEase",
         "Small Stores / Shops",
         "Long Beach",
         35531.42,
         9
        ],
        [
         "STR_00137",
         "TechBazaar",
         "Small Stores / Shops",
         "Virginia Beach",
         33583.17,
         10
        ],
        [
         "STR_00479",
         "FitNGo",
         "Small Stores / Shops",
         "Detroit",
         29946.1,
         11
        ],
        [
         "STR_00317",
         "MegaDeals",
         "Small Stores / Shops",
         "Portland",
         28890.09,
         8
        ],
        [
         "STR_00391",
         "DailyMart",
         "Small Stores / Shops",
         "San Jose",
         28082.100000000002,
         8
        ],
        [
         "STR_00480",
         "HyperMart",
         "Small Stores / Shops",
         "Tampa",
         27573.730000000003,
         9
        ],
        [
         "STR_00245",
         "SmartChoice",
         "Supermarkets ",
         "Fort Worth",
         27169.090000000004,
         8
        ],
        [
         "STR_00365",
         "ActiveLife",
         "Small Stores / Shops",
         "Chicago",
         26613.12,
         9
        ],
        [
         "STR_00257",
         "FabNest",
         "Supermarkets ",
         "Albuquerque",
         25958.91,
         10
        ]
       ],
       "datasetInfos": [
        {
         "name": "_sqldf",
         "schema": {
          "fields": [
           {
            "metadata": {},
            "name": "store_id",
            "nullable": true,
            "type": "string"
           },
           {
            "metadata": {},
            "name": "store_name",
            "nullable": true,
            "type": "string"
           },
           {
            "metadata": {},
            "name": "store_type",
            "nullable": true,
            "type": "string"
           },
           {
            "metadata": {},
            "name": "store_location",
            "nullable": true,
            "type": "string"
           },
           {
            "metadata": {},
            "name": "total_sales",
            "nullable": true,
            "type": "double"
           },
           {
            "metadata": {},
            "name": "total_transactions",
            "nullable": true,
            "type": "long"
           }
          ],
          "type": "struct"
         },
         "tableIdentifier": null,
         "typeStr": "pyspark.sql.connect.dataframe.DataFrame"
        }
       ],
       "dbfsResultPath": null,
       "isJsonSchema": true,
       "metadata": {
        "createTempViewForImplicitDf": true,
        "dataframeName": "_sqldf",
        "executionCount": 11
       },
       "overflow": false,
       "plotOptions": {
        "customPlotOptions": {},
        "displayType": "table",
        "pivotAggregation": null,
        "pivotColumns": null,
        "xColumns": null,
        "yColumns": null
       },
       "removedWidgets": [],
       "schema": [
        {
         "metadata": "{}",
         "name": "store_id",
         "type": "\"string\""
        },
        {
         "metadata": "{}",
         "name": "store_name",
         "type": "\"string\""
        },
        {
         "metadata": "{}",
         "name": "store_type",
         "type": "\"string\""
        },
        {
         "metadata": "{}",
         "name": "store_location",
         "type": "\"string\""
        },
        {
         "metadata": "{}",
         "name": "total_sales",
         "type": "\"double\""
        },
        {
         "metadata": "{}",
         "name": "total_transactions",
         "type": "\"long\""
        }
       ],
       "type": "table"
      }
     },
     "output_type": "display_data"
    }
   ],
   "source": [
    "%sql\n",
    "SELECT * FROM workspace.dbt_cvarela.storesalessummary\n",
    "LIMIT 10"
   ]
  }
 ],
 "metadata": {
  "application/vnd.databricks.v1+notebook": {
   "computePreferences": {
    "hardware": {
     "accelerator": null,
     "gpuPoolId": null,
     "memory": null
    }
   },
   "dashboards": [],
   "environmentMetadata": {
    "base_environment": "",
    "environment_version": "2"
   },
   "inputWidgetPreferences": null,
   "language": "python",
   "notebookMetadata": {
    "mostRecentlyExecutedCommandWithImplicitDF": {
     "commandId": 6926285463895315,
     "dataframes": [
      "_sqldf"
     ]
    },
    "pythonIndentUnit": 4
   },
   "notebookName": "Business",
   "widgets": {}
  },
  "language_info": {
   "name": "python"
  }
 },
 "nbformat": 4,
 "nbformat_minor": 0
}